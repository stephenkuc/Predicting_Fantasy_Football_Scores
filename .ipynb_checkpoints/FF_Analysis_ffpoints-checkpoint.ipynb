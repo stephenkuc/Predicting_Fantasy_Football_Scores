{
 "cells": [
  {
   "cell_type": "code",
   "execution_count": 87,
   "id": "dc764208",
   "metadata": {},
   "outputs": [],
   "source": [
    "import pandas as pd\n",
    "import numpy as np\n",
    "import matplotlib.pyplot as plt\n",
    "import seaborn as sns\n",
    "import nfl_data_py as nfl # package that works with NFL data sourced from nflfastR, nfldata, dynastyprocess, and Draft Scout.\n",
    "\n",
    "from bs4 import BeautifulSoup\n",
    "from urllib import request"
   ]
  },
  {
   "cell_type": "markdown",
   "id": "0edc65eb",
   "metadata": {},
   "source": [
    "#### Code below is in case I need to do web-scraping to find extra data\n",
    "\n",
    "website = request.urlopen(\"https://www.pro-football-reference.com/years/2021/fantasy.htm\").read()\n",
    "soup = BeautifulSoup(website, 'lxml')\n",
    "\n",
    "table = soup.find('table', attrs={'id': 'fantasy','class': 'per_match_toggle'})\n",
    "\n",
    "table_headers = [header.text for header in table.find('thead').find_all('th')]\n",
    "table_rows = table.find_all('tr')\n",
    "\n",
    "player_data = [[td.getText() for tr in table_rows[i].findAll(['td','th'])] for i in table_rows]\n",
    "\n",
    "print(table_headers)\n",
    "df = pd.DataFrame(player_data,table_headers)\n",
    "\n",
    "df.head()\n",
    "df = pd.DataFrame(df, columns = table_headers)"
   ]
  },
  {
   "cell_type": "markdown",
   "id": "a5d3b0f1",
   "metadata": {},
   "source": [
    "## Data ingestion"
   ]
  },
  {
   "cell_type": "code",
   "execution_count": 88,
   "id": "841ca659",
   "metadata": {},
   "outputs": [
    {
     "name": "stderr",
     "output_type": "stream",
     "text": [
      "C:\\Users\\steph\\miniconda3\\lib\\site-packages\\nfl_data_py\\__init__.py:290: FutureWarning: The default value of numeric_only in DataFrameGroupBy.sum is deprecated. In a future version, numeric_only will default to False. Either specify numeric_only or select only columns which should be valid for the function.\n",
      "  season_stats = all_stats.drop(['recent_team', 'week'], axis=1).groupby(\n",
      "C:\\Users\\steph\\miniconda3\\lib\\site-packages\\nfl_data_py\\__init__.py:309: FutureWarning: The default value of numeric_only in DataFrameGroupBy.sum is deprecated. In a future version, numeric_only will default to False. Either specify numeric_only or select only columns which should be valid for the function.\n",
      "  szn = data.groupby(['player_id', 'season', 'season_type']).sum().reset_index().merge(\n",
      "C:\\Users\\steph\\miniconda3\\lib\\site-packages\\nfl_data_py\\__init__.py:290: FutureWarning: The default value of numeric_only in DataFrameGroupBy.sum is deprecated. In a future version, numeric_only will default to False. Either specify numeric_only or select only columns which should be valid for the function.\n",
      "  season_stats = all_stats.drop(['recent_team', 'week'], axis=1).groupby(\n",
      "C:\\Users\\steph\\miniconda3\\lib\\site-packages\\nfl_data_py\\__init__.py:309: FutureWarning: The default value of numeric_only in DataFrameGroupBy.sum is deprecated. In a future version, numeric_only will default to False. Either specify numeric_only or select only columns which should be valid for the function.\n",
      "  szn = data.groupby(['player_id', 'season', 'season_type']).sum().reset_index().merge(\n",
      "C:\\Users\\steph\\miniconda3\\lib\\site-packages\\nfl_data_py\\__init__.py:290: FutureWarning: The default value of numeric_only in DataFrameGroupBy.sum is deprecated. In a future version, numeric_only will default to False. Either specify numeric_only or select only columns which should be valid for the function.\n",
      "  season_stats = all_stats.drop(['recent_team', 'week'], axis=1).groupby(\n",
      "C:\\Users\\steph\\miniconda3\\lib\\site-packages\\nfl_data_py\\__init__.py:309: FutureWarning: The default value of numeric_only in DataFrameGroupBy.sum is deprecated. In a future version, numeric_only will default to False. Either specify numeric_only or select only columns which should be valid for the function.\n",
      "  szn = data.groupby(['player_id', 'season', 'season_type']).sum().reset_index().merge(\n"
     ]
    }
   ],
   "source": [
    "# fantasy football datasets; results from each season\n",
    "\n",
    "ff21 = pd.read_csv('https://raw.githubusercontent.com/fantasydatapros/data/master/yearly/2021.csv', index_col = 0)\n",
    "\n",
    "ff20 = pd.read_csv('https://raw.githubusercontent.com/fantasydatapros/data/master/yearly/2020.csv')\n",
    "\n",
    "ff19 = pd.read_csv('https://raw.githubusercontent.com/fantasydatapros/data/master/yearly/2019.csv', index_col = 0)\n",
    "\n",
    "# all nfl team names and abbreviations\n",
    "\n",
    "nflteams = pd.read_csv('https://gist.githubusercontent.com/cnizzardini/13d0a072adb35a0d5817/raw/f315c97c7677845668a9c26e9093d0d550533b00/nfl_teams.csv',\n",
    "                       index_col=0)\n",
    "# team stats and rankings from each game per season\n",
    "\n",
    "team19 = pd.read_csv(\"C:/Users/steph/OneDrive/Documents/Data Projects/2019_NFL_COMBINE.csv\", index_col = 0)\n",
    "team20 = pd.read_csv(\"C:/Users/steph/OneDrive/Documents/Data Projects/2020_NFL_COMBINE.csv\", index_col = 0)\n",
    "team21 = pd.read_csv(\"C:/Users/steph/OneDrive/Documents/Data Projects/2021_NFL_COMBINE.csv\", index_col = 0)\n",
    "\n",
    "# Incoming rookie data\n",
    "\n",
    "rosters19 = nfl.import_rosters([2019], ['team', 'player_name','position', 'player_id', 'height', 'weight', 'years_exp'])\n",
    "\n",
    "rosters20 = nfl.import_rosters([2020], ['team', 'player_name', 'position', 'player_id', 'height', 'weight', 'years_exp'])\n",
    "\n",
    "rosters21 = nfl.import_rosters([2021], ['team', 'player_name', 'position', 'player_id', 'height', 'weight', 'years_exp', 'rookie_year'])\n",
    "\n",
    "\n",
    "# seasonal data\n",
    "\n",
    "season19 = nfl.import_seasonal_data([2019])\n",
    "season20 = nfl.import_seasonal_data([2020])\n",
    "season21 = nfl.import_seasonal_data([2021])\n",
    "\n",
    "# Injury Data?\n",
    "injuries19 = nfl.import_injuries([2019])\n",
    "injuries20 = nfl.import_injuries([2020])\n",
    "injuries21 = nfl.import_injuries([2021])\n",
    "\n",
    "# QBR data\n",
    "# defaults are NFL and seasonal\n",
    "\n",
    "qbr19 = nfl.import_qbr([2019])\n",
    "qbr20 = nfl.import_qbr([2020])\n",
    "qbr21 = nfl.import_qbr([2021])\n",
    "\n",
    "# Next gen stat data\n",
    "\n",
    "ngs_rushing = nfl.import_ngs_data('rushing', [2019, 2020, 2021])\n",
    "\n",
    "ngs_receiving = nfl.import_ngs_data('receiving', [2019, 2020, 2021])\n",
    "\n",
    "ngs_passing = nfl.import_ngs_data('passing', [2019, 2020, 2021])\n",
    "\n",
    "# team wins\n",
    "\n",
    "team_wins = nfl.import_win_totals([2019, 2020, 2021])\n",
    "\n",
    "# other data ideas:\n",
    "\n",
    "# PFF Data (OL rankings, etc)\n",
    "# contract data?\n",
    "\n",
    "\n",
    "# clean data of team name, player name, and other descriptive data\n",
    "# clean = nfl.clean_nfl_data(insert_Df)\n"
   ]
  },
  {
   "cell_type": "code",
   "execution_count": 89,
   "id": "e040cc54",
   "metadata": {},
   "outputs": [
    {
     "data": {
      "text/html": [
       "<div>\n",
       "<style scoped>\n",
       "    .dataframe tbody tr th:only-of-type {\n",
       "        vertical-align: middle;\n",
       "    }\n",
       "\n",
       "    .dataframe tbody tr th {\n",
       "        vertical-align: top;\n",
       "    }\n",
       "\n",
       "    .dataframe thead th {\n",
       "        text-align: right;\n",
       "    }\n",
       "</style>\n",
       "<table border=\"1\" class=\"dataframe\">\n",
       "  <thead>\n",
       "    <tr style=\"text-align: right;\">\n",
       "      <th></th>\n",
       "      <th>season</th>\n",
       "      <th>season_type</th>\n",
       "      <th>week</th>\n",
       "      <th>player_display_name</th>\n",
       "      <th>player_position</th>\n",
       "      <th>team_abbr</th>\n",
       "      <th>efficiency</th>\n",
       "      <th>percent_attempts_gte_eight_defenders</th>\n",
       "      <th>avg_time_to_los</th>\n",
       "      <th>rush_attempts</th>\n",
       "      <th>...</th>\n",
       "      <th>rush_yards_over_expected</th>\n",
       "      <th>avg_rush_yards</th>\n",
       "      <th>rush_yards_over_expected_per_att</th>\n",
       "      <th>rush_pct_over_expected</th>\n",
       "      <th>rush_touchdowns</th>\n",
       "      <th>player_gsis_id</th>\n",
       "      <th>player_first_name</th>\n",
       "      <th>player_last_name</th>\n",
       "      <th>player_jersey_number</th>\n",
       "      <th>player_short_name</th>\n",
       "    </tr>\n",
       "  </thead>\n",
       "  <tbody>\n",
       "    <tr>\n",
       "      <th>1768</th>\n",
       "      <td>2019</td>\n",
       "      <td>REG</td>\n",
       "      <td>0</td>\n",
       "      <td>Leonard Fournette</td>\n",
       "      <td>RB</td>\n",
       "      <td>JAX</td>\n",
       "      <td>3.841727</td>\n",
       "      <td>31.698113</td>\n",
       "      <td>2.807543</td>\n",
       "      <td>265</td>\n",
       "      <td>...</td>\n",
       "      <td>120.413002</td>\n",
       "      <td>4.347170</td>\n",
       "      <td>0.461352</td>\n",
       "      <td>0.318008</td>\n",
       "      <td>3</td>\n",
       "      <td>00-0033856</td>\n",
       "      <td>Leonard</td>\n",
       "      <td>Fournette</td>\n",
       "      <td>27</td>\n",
       "      <td>L.Fournette</td>\n",
       "    </tr>\n",
       "    <tr>\n",
       "      <th>1769</th>\n",
       "      <td>2019</td>\n",
       "      <td>REG</td>\n",
       "      <td>0</td>\n",
       "      <td>Austin Ekeler</td>\n",
       "      <td>RB</td>\n",
       "      <td>LAC</td>\n",
       "      <td>4.403142</td>\n",
       "      <td>10.606061</td>\n",
       "      <td>3.088856</td>\n",
       "      <td>132</td>\n",
       "      <td>...</td>\n",
       "      <td>-86.520370</td>\n",
       "      <td>4.219697</td>\n",
       "      <td>-0.670701</td>\n",
       "      <td>0.317829</td>\n",
       "      <td>3</td>\n",
       "      <td>00-0033699</td>\n",
       "      <td>Austin</td>\n",
       "      <td>Ekeler</td>\n",
       "      <td>30</td>\n",
       "      <td>A.Ekeler</td>\n",
       "    </tr>\n",
       "    <tr>\n",
       "      <th>1770</th>\n",
       "      <td>2019</td>\n",
       "      <td>REG</td>\n",
       "      <td>0</td>\n",
       "      <td>Kenyan Drake</td>\n",
       "      <td>RB</td>\n",
       "      <td>ARI</td>\n",
       "      <td>3.663611</td>\n",
       "      <td>8.823529</td>\n",
       "      <td>2.894500</td>\n",
       "      <td>170</td>\n",
       "      <td>...</td>\n",
       "      <td>36.622486</td>\n",
       "      <td>4.805882</td>\n",
       "      <td>0.217991</td>\n",
       "      <td>0.363095</td>\n",
       "      <td>8</td>\n",
       "      <td>00-0033118</td>\n",
       "      <td>Kenyan</td>\n",
       "      <td>Drake</td>\n",
       "      <td>41</td>\n",
       "      <td>K.Drake</td>\n",
       "    </tr>\n",
       "    <tr>\n",
       "      <th>1771</th>\n",
       "      <td>2019</td>\n",
       "      <td>REG</td>\n",
       "      <td>0</td>\n",
       "      <td>Alexander Mattison</td>\n",
       "      <td>RB</td>\n",
       "      <td>MIN</td>\n",
       "      <td>4.028377</td>\n",
       "      <td>34.000000</td>\n",
       "      <td>2.734030</td>\n",
       "      <td>100</td>\n",
       "      <td>...</td>\n",
       "      <td>64.705723</td>\n",
       "      <td>4.620000</td>\n",
       "      <td>0.667069</td>\n",
       "      <td>0.391753</td>\n",
       "      <td>1</td>\n",
       "      <td>00-0034972</td>\n",
       "      <td>Alexander</td>\n",
       "      <td>Mattison</td>\n",
       "      <td>25</td>\n",
       "      <td>A.Mattison</td>\n",
       "    </tr>\n",
       "    <tr>\n",
       "      <th>1772</th>\n",
       "      <td>2019</td>\n",
       "      <td>REG</td>\n",
       "      <td>0</td>\n",
       "      <td>Benny Snell</td>\n",
       "      <td>RB</td>\n",
       "      <td>PIT</td>\n",
       "      <td>4.054296</td>\n",
       "      <td>39.814815</td>\n",
       "      <td>2.804593</td>\n",
       "      <td>108</td>\n",
       "      <td>...</td>\n",
       "      <td>54.103981</td>\n",
       "      <td>3.944444</td>\n",
       "      <td>0.505645</td>\n",
       "      <td>0.495327</td>\n",
       "      <td>2</td>\n",
       "      <td>00-0035217</td>\n",
       "      <td>Benny</td>\n",
       "      <td>Snell</td>\n",
       "      <td>24</td>\n",
       "      <td>B.Snell Jr.</td>\n",
       "    </tr>\n",
       "  </tbody>\n",
       "</table>\n",
       "<p>5 rows × 22 columns</p>\n",
       "</div>"
      ],
      "text/plain": [
       "      season season_type  week player_display_name player_position team_abbr  \\\n",
       "1768    2019         REG     0   Leonard Fournette              RB       JAX   \n",
       "1769    2019         REG     0       Austin Ekeler              RB       LAC   \n",
       "1770    2019         REG     0        Kenyan Drake              RB       ARI   \n",
       "1771    2019         REG     0  Alexander Mattison              RB       MIN   \n",
       "1772    2019         REG     0         Benny Snell              RB       PIT   \n",
       "\n",
       "      efficiency  percent_attempts_gte_eight_defenders  avg_time_to_los  \\\n",
       "1768    3.841727                             31.698113         2.807543   \n",
       "1769    4.403142                             10.606061         3.088856   \n",
       "1770    3.663611                              8.823529         2.894500   \n",
       "1771    4.028377                             34.000000         2.734030   \n",
       "1772    4.054296                             39.814815         2.804593   \n",
       "\n",
       "      rush_attempts  ...  rush_yards_over_expected  avg_rush_yards  \\\n",
       "1768            265  ...                120.413002        4.347170   \n",
       "1769            132  ...                -86.520370        4.219697   \n",
       "1770            170  ...                 36.622486        4.805882   \n",
       "1771            100  ...                 64.705723        4.620000   \n",
       "1772            108  ...                 54.103981        3.944444   \n",
       "\n",
       "      rush_yards_over_expected_per_att  rush_pct_over_expected  \\\n",
       "1768                          0.461352                0.318008   \n",
       "1769                         -0.670701                0.317829   \n",
       "1770                          0.217991                0.363095   \n",
       "1771                          0.667069                0.391753   \n",
       "1772                          0.505645                0.495327   \n",
       "\n",
       "      rush_touchdowns  player_gsis_id  player_first_name player_last_name  \\\n",
       "1768                3      00-0033856            Leonard        Fournette   \n",
       "1769                3      00-0033699             Austin           Ekeler   \n",
       "1770                8      00-0033118             Kenyan            Drake   \n",
       "1771                1      00-0034972          Alexander         Mattison   \n",
       "1772                2      00-0035217              Benny            Snell   \n",
       "\n",
       "     player_jersey_number player_short_name  \n",
       "1768                   27       L.Fournette  \n",
       "1769                   30          A.Ekeler  \n",
       "1770                   41           K.Drake  \n",
       "1771                   25        A.Mattison  \n",
       "1772                   24       B.Snell Jr.  \n",
       "\n",
       "[5 rows x 22 columns]"
      ]
     },
     "execution_count": 89,
     "metadata": {},
     "output_type": "execute_result"
    }
   ],
   "source": [
    "# next gen stats peek\n",
    "\n",
    "ngs_rushing.head()"
   ]
  },
  {
   "cell_type": "code",
   "execution_count": 90,
   "id": "be5eb103",
   "metadata": {},
   "outputs": [
    {
     "data": {
      "text/html": [
       "<div>\n",
       "<style scoped>\n",
       "    .dataframe tbody tr th:only-of-type {\n",
       "        vertical-align: middle;\n",
       "    }\n",
       "\n",
       "    .dataframe tbody tr th {\n",
       "        vertical-align: top;\n",
       "    }\n",
       "\n",
       "    .dataframe thead th {\n",
       "        text-align: right;\n",
       "    }\n",
       "</style>\n",
       "<table border=\"1\" class=\"dataframe\">\n",
       "  <thead>\n",
       "    <tr style=\"text-align: right;\">\n",
       "      <th></th>\n",
       "      <th>season</th>\n",
       "      <th>season_type</th>\n",
       "      <th>game_week</th>\n",
       "      <th>team_abb</th>\n",
       "      <th>player_id</th>\n",
       "      <th>name_short</th>\n",
       "      <th>rank</th>\n",
       "      <th>qbr_total</th>\n",
       "      <th>pts_added</th>\n",
       "      <th>qb_plays</th>\n",
       "      <th>...</th>\n",
       "      <th>exp_sack</th>\n",
       "      <th>penalty</th>\n",
       "      <th>qbr_raw</th>\n",
       "      <th>sack</th>\n",
       "      <th>name_first</th>\n",
       "      <th>name_last</th>\n",
       "      <th>name_display</th>\n",
       "      <th>headshot_href</th>\n",
       "      <th>team</th>\n",
       "      <th>qualified</th>\n",
       "    </tr>\n",
       "  </thead>\n",
       "  <tbody>\n",
       "    <tr>\n",
       "      <th>987</th>\n",
       "      <td>2019</td>\n",
       "      <td>Regular</td>\n",
       "      <td>Season Total</td>\n",
       "      <td>CHI</td>\n",
       "      <td>12471</td>\n",
       "      <td>C. Daniel</td>\n",
       "      <td>NaN</td>\n",
       "      <td>59.6</td>\n",
       "      <td>3.7</td>\n",
       "      <td>82</td>\n",
       "      <td>...</td>\n",
       "      <td>0</td>\n",
       "      <td>-0.2</td>\n",
       "      <td>65.5</td>\n",
       "      <td>-1.9</td>\n",
       "      <td>Chase</td>\n",
       "      <td>Daniel</td>\n",
       "      <td>Chase Daniel</td>\n",
       "      <td>https://a.espncdn.com/i/headshots/nfl/players/...</td>\n",
       "      <td>Bears</td>\n",
       "      <td>False</td>\n",
       "    </tr>\n",
       "    <tr>\n",
       "      <th>1012</th>\n",
       "      <td>2019</td>\n",
       "      <td>Playoffs</td>\n",
       "      <td>Season Total</td>\n",
       "      <td>TEN</td>\n",
       "      <td>2576980</td>\n",
       "      <td>M. Mariota</td>\n",
       "      <td>NaN</td>\n",
       "      <td>90.5</td>\n",
       "      <td>0.2</td>\n",
       "      <td>2</td>\n",
       "      <td>...</td>\n",
       "      <td>0</td>\n",
       "      <td>0.0</td>\n",
       "      <td>85.4</td>\n",
       "      <td>0.0</td>\n",
       "      <td>Marcus</td>\n",
       "      <td>Mariota</td>\n",
       "      <td>Marcus Mariota</td>\n",
       "      <td>https://a.espncdn.com/i/headshots/nfl/players/...</td>\n",
       "      <td>Titans</td>\n",
       "      <td>False</td>\n",
       "    </tr>\n",
       "    <tr>\n",
       "      <th>997</th>\n",
       "      <td>2019</td>\n",
       "      <td>Playoffs</td>\n",
       "      <td>Season Total</td>\n",
       "      <td>KC</td>\n",
       "      <td>3139477</td>\n",
       "      <td>P. Mahomes</td>\n",
       "      <td>2.0</td>\n",
       "      <td>89.1</td>\n",
       "      <td>22.4</td>\n",
       "      <td>148</td>\n",
       "      <td>...</td>\n",
       "      <td>0</td>\n",
       "      <td>3.2</td>\n",
       "      <td>89.5</td>\n",
       "      <td>-2.0</td>\n",
       "      <td>Patrick</td>\n",
       "      <td>Mahomes</td>\n",
       "      <td>Patrick Mahomes</td>\n",
       "      <td>https://a.espncdn.com/i/headshots/nfl/players/...</td>\n",
       "      <td>Chiefs</td>\n",
       "      <td>True</td>\n",
       "    </tr>\n",
       "    <tr>\n",
       "      <th>970</th>\n",
       "      <td>2019</td>\n",
       "      <td>Regular</td>\n",
       "      <td>Season Total</td>\n",
       "      <td>KC</td>\n",
       "      <td>15847</td>\n",
       "      <td>T. Kelce</td>\n",
       "      <td>NaN</td>\n",
       "      <td>100.0</td>\n",
       "      <td>0.7</td>\n",
       "      <td>1</td>\n",
       "      <td>...</td>\n",
       "      <td>0</td>\n",
       "      <td>0.0</td>\n",
       "      <td>100.0</td>\n",
       "      <td>0.0</td>\n",
       "      <td>Travis</td>\n",
       "      <td>Kelce</td>\n",
       "      <td>Travis Kelce</td>\n",
       "      <td>https://a.espncdn.com/i/headshots/nfl/players/...</td>\n",
       "      <td>Chiefs</td>\n",
       "      <td>False</td>\n",
       "    </tr>\n",
       "    <tr>\n",
       "      <th>960</th>\n",
       "      <td>2019</td>\n",
       "      <td>Regular</td>\n",
       "      <td>Season Total</td>\n",
       "      <td>BUF</td>\n",
       "      <td>3918298</td>\n",
       "      <td>J. Allen</td>\n",
       "      <td>24.0</td>\n",
       "      <td>49.4</td>\n",
       "      <td>-3.8</td>\n",
       "      <td>639</td>\n",
       "      <td>...</td>\n",
       "      <td>0</td>\n",
       "      <td>2.6</td>\n",
       "      <td>47.9</td>\n",
       "      <td>-17.4</td>\n",
       "      <td>Josh</td>\n",
       "      <td>Allen</td>\n",
       "      <td>Josh Allen</td>\n",
       "      <td>https://a.espncdn.com/i/headshots/nfl/players/...</td>\n",
       "      <td>Bills</td>\n",
       "      <td>True</td>\n",
       "    </tr>\n",
       "  </tbody>\n",
       "</table>\n",
       "<p>5 rows × 23 columns</p>\n",
       "</div>"
      ],
      "text/plain": [
       "      season season_type     game_week team_abb  player_id  name_short  rank  \\\n",
       "987     2019     Regular  Season Total      CHI      12471   C. Daniel   NaN   \n",
       "1012    2019    Playoffs  Season Total      TEN    2576980  M. Mariota   NaN   \n",
       "997     2019    Playoffs  Season Total       KC    3139477  P. Mahomes   2.0   \n",
       "970     2019     Regular  Season Total       KC      15847    T. Kelce   NaN   \n",
       "960     2019     Regular  Season Total      BUF    3918298    J. Allen  24.0   \n",
       "\n",
       "      qbr_total  pts_added  qb_plays  ...  exp_sack  penalty  qbr_raw  sack  \\\n",
       "987        59.6        3.7        82  ...         0     -0.2     65.5  -1.9   \n",
       "1012       90.5        0.2         2  ...         0      0.0     85.4   0.0   \n",
       "997        89.1       22.4       148  ...         0      3.2     89.5  -2.0   \n",
       "970       100.0        0.7         1  ...         0      0.0    100.0   0.0   \n",
       "960        49.4       -3.8       639  ...         0      2.6     47.9 -17.4   \n",
       "\n",
       "      name_first  name_last     name_display  \\\n",
       "987        Chase     Daniel     Chase Daniel   \n",
       "1012      Marcus    Mariota   Marcus Mariota   \n",
       "997      Patrick    Mahomes  Patrick Mahomes   \n",
       "970       Travis      Kelce     Travis Kelce   \n",
       "960         Josh      Allen       Josh Allen   \n",
       "\n",
       "                                          headshot_href    team qualified  \n",
       "987   https://a.espncdn.com/i/headshots/nfl/players/...   Bears     False  \n",
       "1012  https://a.espncdn.com/i/headshots/nfl/players/...  Titans     False  \n",
       "997   https://a.espncdn.com/i/headshots/nfl/players/...  Chiefs      True  \n",
       "970   https://a.espncdn.com/i/headshots/nfl/players/...  Chiefs     False  \n",
       "960   https://a.espncdn.com/i/headshots/nfl/players/...   Bills      True  \n",
       "\n",
       "[5 rows x 23 columns]"
      ]
     },
     "execution_count": 90,
     "metadata": {},
     "output_type": "execute_result"
    }
   ],
   "source": [
    "# QBR peek\n",
    "\n",
    "qbr19.sample(5)"
   ]
  },
  {
   "cell_type": "markdown",
   "id": "ca710fd9",
   "metadata": {},
   "source": [
    "## Data Cleaning"
   ]
  },
  {
   "cell_type": "markdown",
   "id": "74453f4f",
   "metadata": {},
   "source": [
    "Need to clean player name from *, + and/or both.\n",
    "\n",
    "Merge in QBR data to QB data; ngs_rushing to qb and rb\n",
    "\n",
    "need a dataset of predictor variables for final -- previous year's players (2021) plus rookies (2022) draft.\n",
    "\n",
    "Need to bring in a dataset of rookies \n",
    "\n",
    "Need a dataset of team ranks from previous year (2021)\n",
    "\n",
    "Need to group by position, as points scored and value is dependent on position.\n",
    "\n",
    "\n",
    "We'll use 19 and 20 as training years; 21 as test year. \n",
    "\n",
    "Final model will use previous 2 season data, and other, to predict upcoming season data\n"
   ]
  },
  {
   "cell_type": "markdown",
   "id": "33962a53",
   "metadata": {},
   "source": [
    "### Fantasy Points DataSources"
   ]
  },
  {
   "cell_type": "code",
   "execution_count": 91,
   "id": "de9b22c5",
   "metadata": {},
   "outputs": [
    {
     "data": {
      "text/html": [
       "<div>\n",
       "<style scoped>\n",
       "    .dataframe tbody tr th:only-of-type {\n",
       "        vertical-align: middle;\n",
       "    }\n",
       "\n",
       "    .dataframe tbody tr th {\n",
       "        vertical-align: top;\n",
       "    }\n",
       "\n",
       "    .dataframe thead th {\n",
       "        text-align: right;\n",
       "    }\n",
       "</style>\n",
       "<table border=\"1\" class=\"dataframe\">\n",
       "  <thead>\n",
       "    <tr style=\"text-align: right;\">\n",
       "      <th></th>\n",
       "      <th>Player</th>\n",
       "      <th>Tm</th>\n",
       "      <th>Pos</th>\n",
       "      <th>Age</th>\n",
       "      <th>G</th>\n",
       "      <th>GS</th>\n",
       "      <th>Tgt</th>\n",
       "      <th>Rec</th>\n",
       "      <th>PassingYds</th>\n",
       "      <th>PassingTD</th>\n",
       "      <th>PassingAtt</th>\n",
       "      <th>RushingYds</th>\n",
       "      <th>RushingTD</th>\n",
       "      <th>RushingAtt</th>\n",
       "      <th>ReceivingYds</th>\n",
       "      <th>ReceivingTD</th>\n",
       "      <th>FantasyPoints</th>\n",
       "      <th>Int</th>\n",
       "      <th>Fumbles</th>\n",
       "      <th>FumblesLost</th>\n",
       "    </tr>\n",
       "  </thead>\n",
       "  <tbody>\n",
       "    <tr>\n",
       "      <th>0</th>\n",
       "      <td>Derrick Henry</td>\n",
       "      <td>TEN</td>\n",
       "      <td>RB</td>\n",
       "      <td>26</td>\n",
       "      <td>16</td>\n",
       "      <td>16</td>\n",
       "      <td>31</td>\n",
       "      <td>19</td>\n",
       "      <td>0</td>\n",
       "      <td>0</td>\n",
       "      <td>0</td>\n",
       "      <td>2027</td>\n",
       "      <td>17</td>\n",
       "      <td>378</td>\n",
       "      <td>114</td>\n",
       "      <td>0</td>\n",
       "      <td>314.0</td>\n",
       "      <td>0</td>\n",
       "      <td>3</td>\n",
       "      <td>2</td>\n",
       "    </tr>\n",
       "    <tr>\n",
       "      <th>1</th>\n",
       "      <td>Alvin Kamara</td>\n",
       "      <td>NOR</td>\n",
       "      <td>RB</td>\n",
       "      <td>25</td>\n",
       "      <td>15</td>\n",
       "      <td>10</td>\n",
       "      <td>107</td>\n",
       "      <td>83</td>\n",
       "      <td>0</td>\n",
       "      <td>0</td>\n",
       "      <td>0</td>\n",
       "      <td>932</td>\n",
       "      <td>16</td>\n",
       "      <td>187</td>\n",
       "      <td>756</td>\n",
       "      <td>5</td>\n",
       "      <td>295.0</td>\n",
       "      <td>0</td>\n",
       "      <td>1</td>\n",
       "      <td>0</td>\n",
       "    </tr>\n",
       "    <tr>\n",
       "      <th>2</th>\n",
       "      <td>Dalvin Cook</td>\n",
       "      <td>MIN</td>\n",
       "      <td>RB</td>\n",
       "      <td>25</td>\n",
       "      <td>14</td>\n",
       "      <td>14</td>\n",
       "      <td>54</td>\n",
       "      <td>44</td>\n",
       "      <td>0</td>\n",
       "      <td>0</td>\n",
       "      <td>0</td>\n",
       "      <td>1557</td>\n",
       "      <td>16</td>\n",
       "      <td>312</td>\n",
       "      <td>361</td>\n",
       "      <td>1</td>\n",
       "      <td>294.0</td>\n",
       "      <td>0</td>\n",
       "      <td>5</td>\n",
       "      <td>3</td>\n",
       "    </tr>\n",
       "    <tr>\n",
       "      <th>3</th>\n",
       "      <td>Travis Kelce</td>\n",
       "      <td>KAN</td>\n",
       "      <td>TE</td>\n",
       "      <td>31</td>\n",
       "      <td>15</td>\n",
       "      <td>15</td>\n",
       "      <td>145</td>\n",
       "      <td>105</td>\n",
       "      <td>4</td>\n",
       "      <td>0</td>\n",
       "      <td>2</td>\n",
       "      <td>0</td>\n",
       "      <td>0</td>\n",
       "      <td>0</td>\n",
       "      <td>1416</td>\n",
       "      <td>11</td>\n",
       "      <td>208.0</td>\n",
       "      <td>0</td>\n",
       "      <td>1</td>\n",
       "      <td>1</td>\n",
       "    </tr>\n",
       "    <tr>\n",
       "      <th>4</th>\n",
       "      <td>Davante Adams</td>\n",
       "      <td>GNB</td>\n",
       "      <td>WR</td>\n",
       "      <td>28</td>\n",
       "      <td>14</td>\n",
       "      <td>14</td>\n",
       "      <td>149</td>\n",
       "      <td>115</td>\n",
       "      <td>0</td>\n",
       "      <td>0</td>\n",
       "      <td>0</td>\n",
       "      <td>0</td>\n",
       "      <td>0</td>\n",
       "      <td>0</td>\n",
       "      <td>1374</td>\n",
       "      <td>18</td>\n",
       "      <td>243.0</td>\n",
       "      <td>0</td>\n",
       "      <td>1</td>\n",
       "      <td>1</td>\n",
       "    </tr>\n",
       "  </tbody>\n",
       "</table>\n",
       "</div>"
      ],
      "text/plain": [
       "          Player   Tm Pos  Age   G  GS  Tgt  Rec  PassingYds  PassingTD  \\\n",
       "0  Derrick Henry  TEN  RB   26  16  16   31   19           0          0   \n",
       "1   Alvin Kamara  NOR  RB   25  15  10  107   83           0          0   \n",
       "2    Dalvin Cook  MIN  RB   25  14  14   54   44           0          0   \n",
       "3   Travis Kelce  KAN  TE   31  15  15  145  105           4          0   \n",
       "4  Davante Adams  GNB  WR   28  14  14  149  115           0          0   \n",
       "\n",
       "   PassingAtt  RushingYds  RushingTD  RushingAtt  ReceivingYds  ReceivingTD  \\\n",
       "0           0        2027         17         378           114            0   \n",
       "1           0         932         16         187           756            5   \n",
       "2           0        1557         16         312           361            1   \n",
       "3           2           0          0           0          1416           11   \n",
       "4           0           0          0           0          1374           18   \n",
       "\n",
       "   FantasyPoints  Int  Fumbles  FumblesLost  \n",
       "0          314.0    0        3            2  \n",
       "1          295.0    0        1            0  \n",
       "2          294.0    0        5            3  \n",
       "3          208.0    0        1            1  \n",
       "4          243.0    0        1            1  "
      ]
     },
     "execution_count": 91,
     "metadata": {},
     "output_type": "execute_result"
    }
   ],
   "source": [
    "ff20.head()"
   ]
  },
  {
   "cell_type": "code",
   "execution_count": 92,
   "id": "e2a2132f",
   "metadata": {},
   "outputs": [
    {
     "data": {
      "text/html": [
       "<div>\n",
       "<style scoped>\n",
       "    .dataframe tbody tr th:only-of-type {\n",
       "        vertical-align: middle;\n",
       "    }\n",
       "\n",
       "    .dataframe tbody tr th {\n",
       "        vertical-align: top;\n",
       "    }\n",
       "\n",
       "    .dataframe thead th {\n",
       "        text-align: right;\n",
       "    }\n",
       "</style>\n",
       "<table border=\"1\" class=\"dataframe\">\n",
       "  <thead>\n",
       "    <tr style=\"text-align: right;\">\n",
       "      <th></th>\n",
       "      <th>Player</th>\n",
       "      <th>Tm</th>\n",
       "      <th>Pos</th>\n",
       "      <th>Age</th>\n",
       "      <th>G</th>\n",
       "      <th>GS</th>\n",
       "      <th>Tgt</th>\n",
       "      <th>Rec</th>\n",
       "      <th>PassingYds</th>\n",
       "      <th>PassingTD</th>\n",
       "      <th>PassingAtt</th>\n",
       "      <th>RushingYds</th>\n",
       "      <th>RushingTD</th>\n",
       "      <th>RushingAtt</th>\n",
       "      <th>ReceivingYds</th>\n",
       "      <th>ReceivingTD</th>\n",
       "      <th>FantasyPoints</th>\n",
       "      <th>Int</th>\n",
       "      <th>Fumbles</th>\n",
       "      <th>FumblesLost</th>\n",
       "    </tr>\n",
       "  </thead>\n",
       "  <tbody>\n",
       "    <tr>\n",
       "      <th>0</th>\n",
       "      <td>Jonathan Taylor*+</td>\n",
       "      <td>IND</td>\n",
       "      <td>RB</td>\n",
       "      <td>22</td>\n",
       "      <td>17</td>\n",
       "      <td>17</td>\n",
       "      <td>51.0</td>\n",
       "      <td>40.0</td>\n",
       "      <td>0.0</td>\n",
       "      <td>0.0</td>\n",
       "      <td>0.0</td>\n",
       "      <td>1811.0</td>\n",
       "      <td>18.0</td>\n",
       "      <td>332.0</td>\n",
       "      <td>360.0</td>\n",
       "      <td>2.0</td>\n",
       "      <td>333.0</td>\n",
       "      <td>0.0</td>\n",
       "      <td>4.0</td>\n",
       "      <td>2.0</td>\n",
       "    </tr>\n",
       "    <tr>\n",
       "      <th>1</th>\n",
       "      <td>Cooper Kupp*+</td>\n",
       "      <td>LAR</td>\n",
       "      <td>WR</td>\n",
       "      <td>28</td>\n",
       "      <td>17</td>\n",
       "      <td>17</td>\n",
       "      <td>191.0</td>\n",
       "      <td>145.0</td>\n",
       "      <td>0.0</td>\n",
       "      <td>0.0</td>\n",
       "      <td>1.0</td>\n",
       "      <td>18.0</td>\n",
       "      <td>0.0</td>\n",
       "      <td>4.0</td>\n",
       "      <td>1947.0</td>\n",
       "      <td>16.0</td>\n",
       "      <td>295.0</td>\n",
       "      <td>0.0</td>\n",
       "      <td>0.0</td>\n",
       "      <td>0.0</td>\n",
       "    </tr>\n",
       "    <tr>\n",
       "      <th>2</th>\n",
       "      <td>Deebo Samuel*+</td>\n",
       "      <td>SFO</td>\n",
       "      <td>WR</td>\n",
       "      <td>25</td>\n",
       "      <td>16</td>\n",
       "      <td>15</td>\n",
       "      <td>121.0</td>\n",
       "      <td>77.0</td>\n",
       "      <td>24.0</td>\n",
       "      <td>1.0</td>\n",
       "      <td>2.0</td>\n",
       "      <td>365.0</td>\n",
       "      <td>8.0</td>\n",
       "      <td>59.0</td>\n",
       "      <td>1405.0</td>\n",
       "      <td>6.0</td>\n",
       "      <td>262.0</td>\n",
       "      <td>0.0</td>\n",
       "      <td>4.0</td>\n",
       "      <td>2.0</td>\n",
       "    </tr>\n",
       "    <tr>\n",
       "      <th>3</th>\n",
       "      <td>Josh Allen</td>\n",
       "      <td>BUF</td>\n",
       "      <td>QB</td>\n",
       "      <td>25</td>\n",
       "      <td>17</td>\n",
       "      <td>17</td>\n",
       "      <td>0.0</td>\n",
       "      <td>0.0</td>\n",
       "      <td>4407.0</td>\n",
       "      <td>36.0</td>\n",
       "      <td>646.0</td>\n",
       "      <td>763.0</td>\n",
       "      <td>6.0</td>\n",
       "      <td>122.0</td>\n",
       "      <td>0.0</td>\n",
       "      <td>0.0</td>\n",
       "      <td>403.0</td>\n",
       "      <td>15.0</td>\n",
       "      <td>8.0</td>\n",
       "      <td>3.0</td>\n",
       "    </tr>\n",
       "    <tr>\n",
       "      <th>4</th>\n",
       "      <td>Austin Ekeler</td>\n",
       "      <td>LAC</td>\n",
       "      <td>RB</td>\n",
       "      <td>26</td>\n",
       "      <td>16</td>\n",
       "      <td>16</td>\n",
       "      <td>94.0</td>\n",
       "      <td>70.0</td>\n",
       "      <td>0.0</td>\n",
       "      <td>0.0</td>\n",
       "      <td>0.0</td>\n",
       "      <td>911.0</td>\n",
       "      <td>12.0</td>\n",
       "      <td>206.0</td>\n",
       "      <td>647.0</td>\n",
       "      <td>8.0</td>\n",
       "      <td>274.0</td>\n",
       "      <td>0.0</td>\n",
       "      <td>4.0</td>\n",
       "      <td>3.0</td>\n",
       "    </tr>\n",
       "  </tbody>\n",
       "</table>\n",
       "</div>"
      ],
      "text/plain": [
       "              Player   Tm Pos  Age   G  GS    Tgt    Rec  PassingYds  \\\n",
       "0  Jonathan Taylor*+  IND  RB   22  17  17   51.0   40.0         0.0   \n",
       "1      Cooper Kupp*+  LAR  WR   28  17  17  191.0  145.0         0.0   \n",
       "2     Deebo Samuel*+  SFO  WR   25  16  15  121.0   77.0        24.0   \n",
       "3         Josh Allen  BUF  QB   25  17  17    0.0    0.0      4407.0   \n",
       "4      Austin Ekeler  LAC  RB   26  16  16   94.0   70.0         0.0   \n",
       "\n",
       "   PassingTD  PassingAtt  RushingYds  RushingTD  RushingAtt  ReceivingYds  \\\n",
       "0        0.0         0.0      1811.0       18.0       332.0         360.0   \n",
       "1        0.0         1.0        18.0        0.0         4.0        1947.0   \n",
       "2        1.0         2.0       365.0        8.0        59.0        1405.0   \n",
       "3       36.0       646.0       763.0        6.0       122.0           0.0   \n",
       "4        0.0         0.0       911.0       12.0       206.0         647.0   \n",
       "\n",
       "   ReceivingTD  FantasyPoints   Int  Fumbles  FumblesLost  \n",
       "0          2.0          333.0   0.0      4.0          2.0  \n",
       "1         16.0          295.0   0.0      0.0          0.0  \n",
       "2          6.0          262.0   0.0      4.0          2.0  \n",
       "3          0.0          403.0  15.0      8.0          3.0  \n",
       "4          8.0          274.0   0.0      4.0          3.0  "
      ]
     },
     "execution_count": 92,
     "metadata": {},
     "output_type": "execute_result"
    }
   ],
   "source": [
    "ff21.head()"
   ]
  },
  {
   "cell_type": "code",
   "execution_count": 93,
   "id": "e24f24bd",
   "metadata": {},
   "outputs": [
    {
     "data": {
      "text/html": [
       "<div>\n",
       "<style scoped>\n",
       "    .dataframe tbody tr th:only-of-type {\n",
       "        vertical-align: middle;\n",
       "    }\n",
       "\n",
       "    .dataframe tbody tr th {\n",
       "        vertical-align: top;\n",
       "    }\n",
       "\n",
       "    .dataframe thead th {\n",
       "        text-align: right;\n",
       "    }\n",
       "</style>\n",
       "<table border=\"1\" class=\"dataframe\">\n",
       "  <thead>\n",
       "    <tr style=\"text-align: right;\">\n",
       "      <th></th>\n",
       "      <th>Player</th>\n",
       "      <th>Tm</th>\n",
       "      <th>Pos</th>\n",
       "      <th>Age</th>\n",
       "      <th>G</th>\n",
       "      <th>GS</th>\n",
       "      <th>Tgt</th>\n",
       "      <th>Rec</th>\n",
       "      <th>PassingYds</th>\n",
       "      <th>PassingTD</th>\n",
       "      <th>PassingAtt</th>\n",
       "      <th>RushingYds</th>\n",
       "      <th>RushingTD</th>\n",
       "      <th>RushingAtt</th>\n",
       "      <th>ReceivingYds</th>\n",
       "      <th>ReceivingTD</th>\n",
       "      <th>FantasyPoints</th>\n",
       "      <th>Int</th>\n",
       "      <th>Fumbles</th>\n",
       "      <th>FumblesLost</th>\n",
       "    </tr>\n",
       "    <tr>\n",
       "      <th>Unnamed: 0</th>\n",
       "      <th></th>\n",
       "      <th></th>\n",
       "      <th></th>\n",
       "      <th></th>\n",
       "      <th></th>\n",
       "      <th></th>\n",
       "      <th></th>\n",
       "      <th></th>\n",
       "      <th></th>\n",
       "      <th></th>\n",
       "      <th></th>\n",
       "      <th></th>\n",
       "      <th></th>\n",
       "      <th></th>\n",
       "      <th></th>\n",
       "      <th></th>\n",
       "      <th></th>\n",
       "      <th></th>\n",
       "      <th></th>\n",
       "      <th></th>\n",
       "    </tr>\n",
       "  </thead>\n",
       "  <tbody>\n",
       "    <tr>\n",
       "      <th>0</th>\n",
       "      <td>Christian McCaffrey</td>\n",
       "      <td>CAR</td>\n",
       "      <td>RB</td>\n",
       "      <td>23.0</td>\n",
       "      <td>16.0</td>\n",
       "      <td>16.0</td>\n",
       "      <td>142.0</td>\n",
       "      <td>116.0</td>\n",
       "      <td>0.0</td>\n",
       "      <td>0.0</td>\n",
       "      <td>2.0</td>\n",
       "      <td>1387.0</td>\n",
       "      <td>15.0</td>\n",
       "      <td>287.0</td>\n",
       "      <td>1005.0</td>\n",
       "      <td>4.0</td>\n",
       "      <td>469.20</td>\n",
       "      <td>0.0</td>\n",
       "      <td>1.0</td>\n",
       "      <td>0.0</td>\n",
       "    </tr>\n",
       "    <tr>\n",
       "      <th>1</th>\n",
       "      <td>Lamar Jackson</td>\n",
       "      <td>BAL</td>\n",
       "      <td>QB</td>\n",
       "      <td>22.0</td>\n",
       "      <td>15.0</td>\n",
       "      <td>15.0</td>\n",
       "      <td>0.0</td>\n",
       "      <td>0.0</td>\n",
       "      <td>3127.0</td>\n",
       "      <td>36.0</td>\n",
       "      <td>401.0</td>\n",
       "      <td>1206.0</td>\n",
       "      <td>7.0</td>\n",
       "      <td>176.0</td>\n",
       "      <td>0.0</td>\n",
       "      <td>0.0</td>\n",
       "      <td>415.68</td>\n",
       "      <td>6.0</td>\n",
       "      <td>9.0</td>\n",
       "      <td>2.0</td>\n",
       "    </tr>\n",
       "    <tr>\n",
       "      <th>2</th>\n",
       "      <td>Derrick Henry</td>\n",
       "      <td>TEN</td>\n",
       "      <td>RB</td>\n",
       "      <td>25.0</td>\n",
       "      <td>15.0</td>\n",
       "      <td>15.0</td>\n",
       "      <td>24.0</td>\n",
       "      <td>18.0</td>\n",
       "      <td>0.0</td>\n",
       "      <td>0.0</td>\n",
       "      <td>0.0</td>\n",
       "      <td>1540.0</td>\n",
       "      <td>16.0</td>\n",
       "      <td>303.0</td>\n",
       "      <td>206.0</td>\n",
       "      <td>2.0</td>\n",
       "      <td>294.60</td>\n",
       "      <td>0.0</td>\n",
       "      <td>5.0</td>\n",
       "      <td>3.0</td>\n",
       "    </tr>\n",
       "    <tr>\n",
       "      <th>3</th>\n",
       "      <td>Aaron Jones</td>\n",
       "      <td>GNB</td>\n",
       "      <td>RB</td>\n",
       "      <td>25.0</td>\n",
       "      <td>16.0</td>\n",
       "      <td>16.0</td>\n",
       "      <td>68.0</td>\n",
       "      <td>49.0</td>\n",
       "      <td>0.0</td>\n",
       "      <td>0.0</td>\n",
       "      <td>0.0</td>\n",
       "      <td>1084.0</td>\n",
       "      <td>16.0</td>\n",
       "      <td>236.0</td>\n",
       "      <td>474.0</td>\n",
       "      <td>3.0</td>\n",
       "      <td>314.80</td>\n",
       "      <td>0.0</td>\n",
       "      <td>3.0</td>\n",
       "      <td>2.0</td>\n",
       "    </tr>\n",
       "    <tr>\n",
       "      <th>4</th>\n",
       "      <td>Ezekiel Elliott</td>\n",
       "      <td>DAL</td>\n",
       "      <td>RB</td>\n",
       "      <td>24.0</td>\n",
       "      <td>16.0</td>\n",
       "      <td>16.0</td>\n",
       "      <td>71.0</td>\n",
       "      <td>54.0</td>\n",
       "      <td>0.0</td>\n",
       "      <td>0.0</td>\n",
       "      <td>0.0</td>\n",
       "      <td>1357.0</td>\n",
       "      <td>12.0</td>\n",
       "      <td>301.0</td>\n",
       "      <td>420.0</td>\n",
       "      <td>2.0</td>\n",
       "      <td>311.70</td>\n",
       "      <td>0.0</td>\n",
       "      <td>3.0</td>\n",
       "      <td>2.0</td>\n",
       "    </tr>\n",
       "  </tbody>\n",
       "</table>\n",
       "</div>"
      ],
      "text/plain": [
       "                         Player   Tm Pos   Age     G    GS    Tgt    Rec  \\\n",
       "Unnamed: 0                                                                 \n",
       "0           Christian McCaffrey  CAR  RB  23.0  16.0  16.0  142.0  116.0   \n",
       "1                 Lamar Jackson  BAL  QB  22.0  15.0  15.0    0.0    0.0   \n",
       "2                 Derrick Henry  TEN  RB  25.0  15.0  15.0   24.0   18.0   \n",
       "3                   Aaron Jones  GNB  RB  25.0  16.0  16.0   68.0   49.0   \n",
       "4               Ezekiel Elliott  DAL  RB  24.0  16.0  16.0   71.0   54.0   \n",
       "\n",
       "            PassingYds  PassingTD  PassingAtt  RushingYds  RushingTD  \\\n",
       "Unnamed: 0                                                             \n",
       "0                  0.0        0.0         2.0      1387.0       15.0   \n",
       "1               3127.0       36.0       401.0      1206.0        7.0   \n",
       "2                  0.0        0.0         0.0      1540.0       16.0   \n",
       "3                  0.0        0.0         0.0      1084.0       16.0   \n",
       "4                  0.0        0.0         0.0      1357.0       12.0   \n",
       "\n",
       "            RushingAtt  ReceivingYds  ReceivingTD  FantasyPoints  Int  \\\n",
       "Unnamed: 0                                                              \n",
       "0                287.0        1005.0          4.0         469.20  0.0   \n",
       "1                176.0           0.0          0.0         415.68  6.0   \n",
       "2                303.0         206.0          2.0         294.60  0.0   \n",
       "3                236.0         474.0          3.0         314.80  0.0   \n",
       "4                301.0         420.0          2.0         311.70  0.0   \n",
       "\n",
       "            Fumbles  FumblesLost  \n",
       "Unnamed: 0                        \n",
       "0               1.0          0.0  \n",
       "1               9.0          2.0  \n",
       "2               5.0          3.0  \n",
       "3               3.0          2.0  \n",
       "4               3.0          2.0  "
      ]
     },
     "execution_count": 93,
     "metadata": {},
     "output_type": "execute_result"
    }
   ],
   "source": [
    "ff19.head()"
   ]
  },
  {
   "cell_type": "markdown",
   "id": "8f368cc1",
   "metadata": {},
   "source": [
    "## Create Team Stats DFs for each season"
   ]
  },
  {
   "cell_type": "code",
   "execution_count": 94,
   "id": "6727696c",
   "metadata": {},
   "outputs": [
    {
     "data": {
      "text/html": [
       "<div>\n",
       "<style scoped>\n",
       "    .dataframe tbody tr th:only-of-type {\n",
       "        vertical-align: middle;\n",
       "    }\n",
       "\n",
       "    .dataframe tbody tr th {\n",
       "        vertical-align: top;\n",
       "    }\n",
       "\n",
       "    .dataframe thead th {\n",
       "        text-align: right;\n",
       "    }\n",
       "</style>\n",
       "<table border=\"1\" class=\"dataframe\">\n",
       "  <thead>\n",
       "    <tr style=\"text-align: right;\">\n",
       "      <th></th>\n",
       "      <th>Week</th>\n",
       "      <th>Day</th>\n",
       "      <th>Date</th>\n",
       "      <th>Unnamed: 5</th>\n",
       "      <th>Opp</th>\n",
       "      <th>Tm</th>\n",
       "      <th>Opp.1</th>\n",
       "      <th>1stD</th>\n",
       "      <th>TotYd</th>\n",
       "      <th>PassY</th>\n",
       "      <th>...</th>\n",
       "      <th>TO</th>\n",
       "      <th>1stD.1</th>\n",
       "      <th>TotYd.1</th>\n",
       "      <th>PassY.1</th>\n",
       "      <th>RushY.1</th>\n",
       "      <th>TO.1</th>\n",
       "      <th>Offense</th>\n",
       "      <th>Defense</th>\n",
       "      <th>Sp. Tms</th>\n",
       "      <th>Home_team</th>\n",
       "    </tr>\n",
       "  </thead>\n",
       "  <tbody>\n",
       "    <tr>\n",
       "      <th>0</th>\n",
       "      <td>1</td>\n",
       "      <td>Sun</td>\n",
       "      <td>8-Sep</td>\n",
       "      <td>W</td>\n",
       "      <td>Tampa Bay Buccaneers</td>\n",
       "      <td>31.0</td>\n",
       "      <td>17.0</td>\n",
       "      <td>17.0</td>\n",
       "      <td>256.0</td>\n",
       "      <td>158.0</td>\n",
       "      <td>...</td>\n",
       "      <td>2.0</td>\n",
       "      <td>21.0</td>\n",
       "      <td>295.0</td>\n",
       "      <td>174.0</td>\n",
       "      <td>121.0</td>\n",
       "      <td>4.0</td>\n",
       "      <td>-7.51</td>\n",
       "      <td>19.12</td>\n",
       "      <td>1.10</td>\n",
       "      <td>San Francisco 49ers</td>\n",
       "    </tr>\n",
       "    <tr>\n",
       "      <th>1</th>\n",
       "      <td>2</td>\n",
       "      <td>Sun</td>\n",
       "      <td>15-Sep</td>\n",
       "      <td>W</td>\n",
       "      <td>Cincinnati Bengals</td>\n",
       "      <td>41.0</td>\n",
       "      <td>17.0</td>\n",
       "      <td>27.0</td>\n",
       "      <td>571.0</td>\n",
       "      <td>312.0</td>\n",
       "      <td>...</td>\n",
       "      <td>1.0</td>\n",
       "      <td>14.0</td>\n",
       "      <td>316.0</td>\n",
       "      <td>291.0</td>\n",
       "      <td>25.0</td>\n",
       "      <td>1.0</td>\n",
       "      <td>27.34</td>\n",
       "      <td>1.14</td>\n",
       "      <td>-6.64</td>\n",
       "      <td>San Francisco 49ers</td>\n",
       "    </tr>\n",
       "    <tr>\n",
       "      <th>2</th>\n",
       "      <td>3</td>\n",
       "      <td>Sun</td>\n",
       "      <td>22-Sep</td>\n",
       "      <td>W</td>\n",
       "      <td>Pittsburgh Steelers</td>\n",
       "      <td>24.0</td>\n",
       "      <td>20.0</td>\n",
       "      <td>26.0</td>\n",
       "      <td>436.0</td>\n",
       "      <td>268.0</td>\n",
       "      <td>...</td>\n",
       "      <td>5.0</td>\n",
       "      <td>11.0</td>\n",
       "      <td>239.0</td>\n",
       "      <td>160.0</td>\n",
       "      <td>79.0</td>\n",
       "      <td>2.0</td>\n",
       "      <td>-3.72</td>\n",
       "      <td>10.20</td>\n",
       "      <td>0.12</td>\n",
       "      <td>San Francisco 49ers</td>\n",
       "    </tr>\n",
       "    <tr>\n",
       "      <th>3</th>\n",
       "      <td>4</td>\n",
       "      <td>NaN</td>\n",
       "      <td>NaN</td>\n",
       "      <td>NaN</td>\n",
       "      <td>Bye Week</td>\n",
       "      <td>NaN</td>\n",
       "      <td>NaN</td>\n",
       "      <td>NaN</td>\n",
       "      <td>NaN</td>\n",
       "      <td>NaN</td>\n",
       "      <td>...</td>\n",
       "      <td>NaN</td>\n",
       "      <td>NaN</td>\n",
       "      <td>NaN</td>\n",
       "      <td>NaN</td>\n",
       "      <td>NaN</td>\n",
       "      <td>NaN</td>\n",
       "      <td>NaN</td>\n",
       "      <td>NaN</td>\n",
       "      <td>NaN</td>\n",
       "      <td>San Francisco 49ers</td>\n",
       "    </tr>\n",
       "    <tr>\n",
       "      <th>4</th>\n",
       "      <td>5</td>\n",
       "      <td>Mon</td>\n",
       "      <td>7-Oct</td>\n",
       "      <td>W</td>\n",
       "      <td>Cleveland Browns</td>\n",
       "      <td>31.0</td>\n",
       "      <td>3.0</td>\n",
       "      <td>22.0</td>\n",
       "      <td>446.0</td>\n",
       "      <td>171.0</td>\n",
       "      <td>...</td>\n",
       "      <td>NaN</td>\n",
       "      <td>9.0</td>\n",
       "      <td>180.0</td>\n",
       "      <td>78.0</td>\n",
       "      <td>102.0</td>\n",
       "      <td>4.0</td>\n",
       "      <td>12.38</td>\n",
       "      <td>22.56</td>\n",
       "      <td>-10.50</td>\n",
       "      <td>San Francisco 49ers</td>\n",
       "    </tr>\n",
       "  </tbody>\n",
       "</table>\n",
       "<p>5 rows × 21 columns</p>\n",
       "</div>"
      ],
      "text/plain": [
       "  Week  Day    Date Unnamed: 5                   Opp    Tm  Opp.1  1stD  \\\n",
       "0    1  Sun   8-Sep          W  Tampa Bay Buccaneers  31.0   17.0  17.0   \n",
       "1    2  Sun  15-Sep          W    Cincinnati Bengals  41.0   17.0  27.0   \n",
       "2    3  Sun  22-Sep          W   Pittsburgh Steelers  24.0   20.0  26.0   \n",
       "3    4  NaN     NaN        NaN              Bye Week   NaN    NaN   NaN   \n",
       "4    5  Mon   7-Oct          W      Cleveland Browns  31.0    3.0  22.0   \n",
       "\n",
       "   TotYd  PassY  ...   TO  1stD.1  TotYd.1  PassY.1  RushY.1  TO.1  Offense  \\\n",
       "0  256.0  158.0  ...  2.0    21.0    295.0    174.0    121.0   4.0    -7.51   \n",
       "1  571.0  312.0  ...  1.0    14.0    316.0    291.0     25.0   1.0    27.34   \n",
       "2  436.0  268.0  ...  5.0    11.0    239.0    160.0     79.0   2.0    -3.72   \n",
       "3    NaN    NaN  ...  NaN     NaN      NaN      NaN      NaN   NaN      NaN   \n",
       "4  446.0  171.0  ...  NaN     9.0    180.0     78.0    102.0   4.0    12.38   \n",
       "\n",
       "   Defense  Sp. Tms            Home_team  \n",
       "0    19.12     1.10  San Francisco 49ers  \n",
       "1     1.14    -6.64  San Francisco 49ers  \n",
       "2    10.20     0.12  San Francisco 49ers  \n",
       "3      NaN      NaN  San Francisco 49ers  \n",
       "4    22.56   -10.50  San Francisco 49ers  \n",
       "\n",
       "[5 rows x 21 columns]"
      ]
     },
     "execution_count": 94,
     "metadata": {},
     "output_type": "execute_result"
    }
   ],
   "source": [
    "team19.head()"
   ]
  },
  {
   "cell_type": "code",
   "execution_count": 95,
   "id": "70ec1991",
   "metadata": {},
   "outputs": [
    {
     "data": {
      "text/plain": [
       "Los Angeles Rams        23\n",
       "Cincinnati Bengals      23\n",
       "San Francisco 49ers     22\n",
       "Kansas City Chiefs      22\n",
       "Tampa Bay Buccaneers    21\n",
       "Buffalo Bills           21\n",
       "Arizona Cardinals       20\n",
       "Pittsburgh Steelers     20\n",
       "Green Bay Packers       20\n",
       "Dallas Cowboys          20\n",
       "Philadelphia Eagles     20\n",
       "Tennessee Titans        20\n",
       "Oakland Raiders         20\n",
       "New England Patriots    20\n",
       "Houston Texans          18\n",
       "Seattle Seahawks        18\n",
       "New Orleans Saints      18\n",
       "Baltimore Ravens        18\n",
       "Carolina Panthers       18\n",
       "New York Giants         18\n",
       "Detroit Lions           18\n",
       "New York Jets           18\n",
       "Jacksonville Jaguars    18\n",
       "Chicago Bears           18\n",
       "Atlanta Falcons         18\n",
       "Miami Dolphins          18\n",
       "Indianapolis Colts      18\n",
       "Los Angeles Chargers    18\n",
       "Cleveland Browns        18\n",
       "Denver Broncos          18\n",
       "Minnesota Vikings       18\n",
       "Name: Home_team, dtype: int64"
      ]
     },
     "execution_count": 95,
     "metadata": {},
     "output_type": "execute_result"
    }
   ],
   "source": [
    "# ensure all teams are represented\n",
    "\n",
    "team21['Home_team'].value_counts()"
   ]
  },
  {
   "cell_type": "markdown",
   "id": "293b488d",
   "metadata": {},
   "source": [
    "The Washington Football Team (Commanders) are not represented in any of these team datasets."
   ]
  },
  {
   "cell_type": "code",
   "execution_count": 96,
   "id": "2b835f17",
   "metadata": {},
   "outputs": [
    {
     "data": {
      "text/html": [
       "<div>\n",
       "<style scoped>\n",
       "    .dataframe tbody tr th:only-of-type {\n",
       "        vertical-align: middle;\n",
       "    }\n",
       "\n",
       "    .dataframe tbody tr th {\n",
       "        vertical-align: top;\n",
       "    }\n",
       "\n",
       "    .dataframe thead th {\n",
       "        text-align: right;\n",
       "    }\n",
       "</style>\n",
       "<table border=\"1\" class=\"dataframe\">\n",
       "  <thead>\n",
       "    <tr style=\"text-align: right;\">\n",
       "      <th></th>\n",
       "      <th>Week</th>\n",
       "      <th>Day</th>\n",
       "      <th>Date</th>\n",
       "      <th>Unnamed: 5</th>\n",
       "      <th>Opp</th>\n",
       "      <th>Tm</th>\n",
       "      <th>Opp.1</th>\n",
       "      <th>1stD</th>\n",
       "      <th>TotYd</th>\n",
       "      <th>PassY</th>\n",
       "      <th>...</th>\n",
       "      <th>TO</th>\n",
       "      <th>1stD.1</th>\n",
       "      <th>TotYd.1</th>\n",
       "      <th>PassY.1</th>\n",
       "      <th>RushY.1</th>\n",
       "      <th>TO.1</th>\n",
       "      <th>Offense</th>\n",
       "      <th>Defense</th>\n",
       "      <th>Sp. Tms</th>\n",
       "      <th>Home_team</th>\n",
       "    </tr>\n",
       "  </thead>\n",
       "  <tbody>\n",
       "    <tr>\n",
       "      <th>0</th>\n",
       "      <td>1</td>\n",
       "      <td>Sun</td>\n",
       "      <td>8-Sep</td>\n",
       "      <td>W</td>\n",
       "      <td>Tampa Bay Buccaneers</td>\n",
       "      <td>31.0</td>\n",
       "      <td>17.0</td>\n",
       "      <td>17.0</td>\n",
       "      <td>256.0</td>\n",
       "      <td>158.0</td>\n",
       "      <td>...</td>\n",
       "      <td>2.0</td>\n",
       "      <td>21.0</td>\n",
       "      <td>295.0</td>\n",
       "      <td>174.0</td>\n",
       "      <td>121.0</td>\n",
       "      <td>4.0</td>\n",
       "      <td>-7.51</td>\n",
       "      <td>19.12</td>\n",
       "      <td>1.10</td>\n",
       "      <td>San Francisco 49ers</td>\n",
       "    </tr>\n",
       "    <tr>\n",
       "      <th>1</th>\n",
       "      <td>2</td>\n",
       "      <td>Sun</td>\n",
       "      <td>15-Sep</td>\n",
       "      <td>W</td>\n",
       "      <td>Cincinnati Bengals</td>\n",
       "      <td>41.0</td>\n",
       "      <td>17.0</td>\n",
       "      <td>27.0</td>\n",
       "      <td>571.0</td>\n",
       "      <td>312.0</td>\n",
       "      <td>...</td>\n",
       "      <td>1.0</td>\n",
       "      <td>14.0</td>\n",
       "      <td>316.0</td>\n",
       "      <td>291.0</td>\n",
       "      <td>25.0</td>\n",
       "      <td>1.0</td>\n",
       "      <td>27.34</td>\n",
       "      <td>1.14</td>\n",
       "      <td>-6.64</td>\n",
       "      <td>San Francisco 49ers</td>\n",
       "    </tr>\n",
       "    <tr>\n",
       "      <th>2</th>\n",
       "      <td>3</td>\n",
       "      <td>Sun</td>\n",
       "      <td>22-Sep</td>\n",
       "      <td>W</td>\n",
       "      <td>Pittsburgh Steelers</td>\n",
       "      <td>24.0</td>\n",
       "      <td>20.0</td>\n",
       "      <td>26.0</td>\n",
       "      <td>436.0</td>\n",
       "      <td>268.0</td>\n",
       "      <td>...</td>\n",
       "      <td>5.0</td>\n",
       "      <td>11.0</td>\n",
       "      <td>239.0</td>\n",
       "      <td>160.0</td>\n",
       "      <td>79.0</td>\n",
       "      <td>2.0</td>\n",
       "      <td>-3.72</td>\n",
       "      <td>10.20</td>\n",
       "      <td>0.12</td>\n",
       "      <td>San Francisco 49ers</td>\n",
       "    </tr>\n",
       "    <tr>\n",
       "      <th>4</th>\n",
       "      <td>5</td>\n",
       "      <td>Mon</td>\n",
       "      <td>7-Oct</td>\n",
       "      <td>W</td>\n",
       "      <td>Cleveland Browns</td>\n",
       "      <td>31.0</td>\n",
       "      <td>3.0</td>\n",
       "      <td>22.0</td>\n",
       "      <td>446.0</td>\n",
       "      <td>171.0</td>\n",
       "      <td>...</td>\n",
       "      <td>NaN</td>\n",
       "      <td>9.0</td>\n",
       "      <td>180.0</td>\n",
       "      <td>78.0</td>\n",
       "      <td>102.0</td>\n",
       "      <td>4.0</td>\n",
       "      <td>12.38</td>\n",
       "      <td>22.56</td>\n",
       "      <td>-10.50</td>\n",
       "      <td>San Francisco 49ers</td>\n",
       "    </tr>\n",
       "    <tr>\n",
       "      <th>5</th>\n",
       "      <td>6</td>\n",
       "      <td>Sun</td>\n",
       "      <td>13-Oct</td>\n",
       "      <td>W</td>\n",
       "      <td>Los Angeles Rams</td>\n",
       "      <td>20.0</td>\n",
       "      <td>7.0</td>\n",
       "      <td>22.0</td>\n",
       "      <td>331.0</td>\n",
       "      <td>232.0</td>\n",
       "      <td>...</td>\n",
       "      <td>2.0</td>\n",
       "      <td>10.0</td>\n",
       "      <td>157.0</td>\n",
       "      <td>48.0</td>\n",
       "      <td>109.0</td>\n",
       "      <td>1.0</td>\n",
       "      <td>-3.54</td>\n",
       "      <td>25.23</td>\n",
       "      <td>-5.01</td>\n",
       "      <td>San Francisco 49ers</td>\n",
       "    </tr>\n",
       "  </tbody>\n",
       "</table>\n",
       "<p>5 rows × 21 columns</p>\n",
       "</div>"
      ],
      "text/plain": [
       "  Week  Day    Date Unnamed: 5                   Opp    Tm  Opp.1  1stD  \\\n",
       "0    1  Sun   8-Sep          W  Tampa Bay Buccaneers  31.0   17.0  17.0   \n",
       "1    2  Sun  15-Sep          W    Cincinnati Bengals  41.0   17.0  27.0   \n",
       "2    3  Sun  22-Sep          W   Pittsburgh Steelers  24.0   20.0  26.0   \n",
       "4    5  Mon   7-Oct          W      Cleveland Browns  31.0    3.0  22.0   \n",
       "5    6  Sun  13-Oct          W      Los Angeles Rams  20.0    7.0  22.0   \n",
       "\n",
       "   TotYd  PassY  ...   TO  1stD.1  TotYd.1  PassY.1  RushY.1  TO.1  Offense  \\\n",
       "0  256.0  158.0  ...  2.0    21.0    295.0    174.0    121.0   4.0    -7.51   \n",
       "1  571.0  312.0  ...  1.0    14.0    316.0    291.0     25.0   1.0    27.34   \n",
       "2  436.0  268.0  ...  5.0    11.0    239.0    160.0     79.0   2.0    -3.72   \n",
       "4  446.0  171.0  ...  NaN     9.0    180.0     78.0    102.0   4.0    12.38   \n",
       "5  331.0  232.0  ...  2.0    10.0    157.0     48.0    109.0   1.0    -3.54   \n",
       "\n",
       "   Defense  Sp. Tms            Home_team  \n",
       "0    19.12     1.10  San Francisco 49ers  \n",
       "1     1.14    -6.64  San Francisco 49ers  \n",
       "2    10.20     0.12  San Francisco 49ers  \n",
       "4    22.56   -10.50  San Francisco 49ers  \n",
       "5    25.23    -5.01  San Francisco 49ers  \n",
       "\n",
       "[5 rows x 21 columns]"
      ]
     },
     "execution_count": 96,
     "metadata": {},
     "output_type": "execute_result"
    }
   ],
   "source": [
    "# getting rid of bye week rows\n",
    "\n",
    "team19 = team19[team19.Opp != 'Bye Week']\n",
    "\n",
    "team19.head()"
   ]
  },
  {
   "cell_type": "markdown",
   "id": "d420ae95",
   "metadata": {},
   "source": [
    "Important to note, 2021 is first year with 18 weeks, rather than 17."
   ]
  },
  {
   "cell_type": "code",
   "execution_count": 97,
   "id": "21d1b51f",
   "metadata": {},
   "outputs": [
    {
     "data": {
      "text/plain": [
       "1     31\n",
       "2     31\n",
       "3     31\n",
       "17    31\n",
       "16    31\n",
       "15    31\n",
       "14    31\n",
       "13    31\n",
       "4     29\n",
       "8     29\n",
       "5     29\n",
       "11    27\n",
       "12    27\n",
       "9     27\n",
       "7     27\n",
       "6     27\n",
       "10    26\n",
       "Name: Week, dtype: int64"
      ]
     },
     "execution_count": 97,
     "metadata": {},
     "output_type": "execute_result"
    }
   ],
   "source": [
    "# must get rid of division, wild card, conf champ, and superbowl\n",
    "\n",
    "reg1920 = np.arange(1, 18).astype(str)\n",
    "reg21 = np.arange(1,19).astype(str)\n",
    "\n",
    "team19_reg = team19.loc[team19['Week'].isin(reg1920)]\n",
    "team20_reg = team20.loc[team20['Week'].isin(reg1920)]\n",
    "team21_reg = team21.loc[team21['Week'].isin(reg21)]\n",
    "\n",
    "team19_reg['Week'].value_counts()"
   ]
  },
  {
   "cell_type": "code",
   "execution_count": 98,
   "id": "b9cb5915",
   "metadata": {},
   "outputs": [
    {
     "data": {
      "text/html": [
       "<div>\n",
       "<style scoped>\n",
       "    .dataframe tbody tr th:only-of-type {\n",
       "        vertical-align: middle;\n",
       "    }\n",
       "\n",
       "    .dataframe tbody tr th {\n",
       "        vertical-align: top;\n",
       "    }\n",
       "\n",
       "    .dataframe thead th {\n",
       "        text-align: right;\n",
       "    }\n",
       "</style>\n",
       "<table border=\"1\" class=\"dataframe\">\n",
       "  <thead>\n",
       "    <tr style=\"text-align: right;\">\n",
       "      <th></th>\n",
       "      <th>Week</th>\n",
       "      <th>Day</th>\n",
       "      <th>Date</th>\n",
       "      <th>Unnamed: 5</th>\n",
       "      <th>Opp</th>\n",
       "      <th>Tm</th>\n",
       "      <th>Opp.1</th>\n",
       "      <th>1stD</th>\n",
       "      <th>TotYd</th>\n",
       "      <th>PassY</th>\n",
       "      <th>...</th>\n",
       "      <th>TO</th>\n",
       "      <th>1stD.1</th>\n",
       "      <th>TotYd.1</th>\n",
       "      <th>PassY.1</th>\n",
       "      <th>RushY.1</th>\n",
       "      <th>TO.1</th>\n",
       "      <th>Offense</th>\n",
       "      <th>Defense</th>\n",
       "      <th>Sp. Tms</th>\n",
       "      <th>Home_team</th>\n",
       "    </tr>\n",
       "  </thead>\n",
       "  <tbody>\n",
       "    <tr>\n",
       "      <th>0</th>\n",
       "      <td>1</td>\n",
       "      <td>Sun</td>\n",
       "      <td>8-Sep</td>\n",
       "      <td>W</td>\n",
       "      <td>Tampa Bay Buccaneers</td>\n",
       "      <td>31.0</td>\n",
       "      <td>17.0</td>\n",
       "      <td>17.0</td>\n",
       "      <td>256.0</td>\n",
       "      <td>158.0</td>\n",
       "      <td>...</td>\n",
       "      <td>2.0</td>\n",
       "      <td>21.0</td>\n",
       "      <td>295.0</td>\n",
       "      <td>174.0</td>\n",
       "      <td>121.0</td>\n",
       "      <td>4.0</td>\n",
       "      <td>-7.51</td>\n",
       "      <td>19.12</td>\n",
       "      <td>1.10</td>\n",
       "      <td>San Francisco 49ers</td>\n",
       "    </tr>\n",
       "    <tr>\n",
       "      <th>1</th>\n",
       "      <td>2</td>\n",
       "      <td>Sun</td>\n",
       "      <td>15-Sep</td>\n",
       "      <td>W</td>\n",
       "      <td>Cincinnati Bengals</td>\n",
       "      <td>41.0</td>\n",
       "      <td>17.0</td>\n",
       "      <td>27.0</td>\n",
       "      <td>571.0</td>\n",
       "      <td>312.0</td>\n",
       "      <td>...</td>\n",
       "      <td>1.0</td>\n",
       "      <td>14.0</td>\n",
       "      <td>316.0</td>\n",
       "      <td>291.0</td>\n",
       "      <td>25.0</td>\n",
       "      <td>1.0</td>\n",
       "      <td>27.34</td>\n",
       "      <td>1.14</td>\n",
       "      <td>-6.64</td>\n",
       "      <td>San Francisco 49ers</td>\n",
       "    </tr>\n",
       "    <tr>\n",
       "      <th>2</th>\n",
       "      <td>3</td>\n",
       "      <td>Sun</td>\n",
       "      <td>22-Sep</td>\n",
       "      <td>W</td>\n",
       "      <td>Pittsburgh Steelers</td>\n",
       "      <td>24.0</td>\n",
       "      <td>20.0</td>\n",
       "      <td>26.0</td>\n",
       "      <td>436.0</td>\n",
       "      <td>268.0</td>\n",
       "      <td>...</td>\n",
       "      <td>5.0</td>\n",
       "      <td>11.0</td>\n",
       "      <td>239.0</td>\n",
       "      <td>160.0</td>\n",
       "      <td>79.0</td>\n",
       "      <td>2.0</td>\n",
       "      <td>-3.72</td>\n",
       "      <td>10.20</td>\n",
       "      <td>0.12</td>\n",
       "      <td>San Francisco 49ers</td>\n",
       "    </tr>\n",
       "    <tr>\n",
       "      <th>4</th>\n",
       "      <td>5</td>\n",
       "      <td>Mon</td>\n",
       "      <td>7-Oct</td>\n",
       "      <td>W</td>\n",
       "      <td>Cleveland Browns</td>\n",
       "      <td>31.0</td>\n",
       "      <td>3.0</td>\n",
       "      <td>22.0</td>\n",
       "      <td>446.0</td>\n",
       "      <td>171.0</td>\n",
       "      <td>...</td>\n",
       "      <td>NaN</td>\n",
       "      <td>9.0</td>\n",
       "      <td>180.0</td>\n",
       "      <td>78.0</td>\n",
       "      <td>102.0</td>\n",
       "      <td>4.0</td>\n",
       "      <td>12.38</td>\n",
       "      <td>22.56</td>\n",
       "      <td>-10.50</td>\n",
       "      <td>San Francisco 49ers</td>\n",
       "    </tr>\n",
       "    <tr>\n",
       "      <th>5</th>\n",
       "      <td>6</td>\n",
       "      <td>Sun</td>\n",
       "      <td>13-Oct</td>\n",
       "      <td>W</td>\n",
       "      <td>Los Angeles Rams</td>\n",
       "      <td>20.0</td>\n",
       "      <td>7.0</td>\n",
       "      <td>22.0</td>\n",
       "      <td>331.0</td>\n",
       "      <td>232.0</td>\n",
       "      <td>...</td>\n",
       "      <td>2.0</td>\n",
       "      <td>10.0</td>\n",
       "      <td>157.0</td>\n",
       "      <td>48.0</td>\n",
       "      <td>109.0</td>\n",
       "      <td>1.0</td>\n",
       "      <td>-3.54</td>\n",
       "      <td>25.23</td>\n",
       "      <td>-5.01</td>\n",
       "      <td>San Francisco 49ers</td>\n",
       "    </tr>\n",
       "  </tbody>\n",
       "</table>\n",
       "<p>5 rows × 21 columns</p>\n",
       "</div>"
      ],
      "text/plain": [
       "  Week  Day    Date Unnamed: 5                   Opp    Tm  Opp.1  1stD  \\\n",
       "0    1  Sun   8-Sep          W  Tampa Bay Buccaneers  31.0   17.0  17.0   \n",
       "1    2  Sun  15-Sep          W    Cincinnati Bengals  41.0   17.0  27.0   \n",
       "2    3  Sun  22-Sep          W   Pittsburgh Steelers  24.0   20.0  26.0   \n",
       "4    5  Mon   7-Oct          W      Cleveland Browns  31.0    3.0  22.0   \n",
       "5    6  Sun  13-Oct          W      Los Angeles Rams  20.0    7.0  22.0   \n",
       "\n",
       "   TotYd  PassY  ...   TO  1stD.1  TotYd.1  PassY.1  RushY.1  TO.1  Offense  \\\n",
       "0  256.0  158.0  ...  2.0    21.0    295.0    174.0    121.0   4.0    -7.51   \n",
       "1  571.0  312.0  ...  1.0    14.0    316.0    291.0     25.0   1.0    27.34   \n",
       "2  436.0  268.0  ...  5.0    11.0    239.0    160.0     79.0   2.0    -3.72   \n",
       "4  446.0  171.0  ...  NaN     9.0    180.0     78.0    102.0   4.0    12.38   \n",
       "5  331.0  232.0  ...  2.0    10.0    157.0     48.0    109.0   1.0    -3.54   \n",
       "\n",
       "   Defense  Sp. Tms            Home_team  \n",
       "0    19.12     1.10  San Francisco 49ers  \n",
       "1     1.14    -6.64  San Francisco 49ers  \n",
       "2    10.20     0.12  San Francisco 49ers  \n",
       "4    22.56   -10.50  San Francisco 49ers  \n",
       "5    25.23    -5.01  San Francisco 49ers  \n",
       "\n",
       "[5 rows x 21 columns]"
      ]
     },
     "execution_count": 98,
     "metadata": {},
     "output_type": "execute_result"
    }
   ],
   "source": [
    "team19_reg.head()"
   ]
  },
  {
   "cell_type": "code",
   "execution_count": 101,
   "id": "f1917976",
   "metadata": {},
   "outputs": [],
   "source": [
    "# keeping only relevant columns\n",
    "\n",
    "relevant_team = ['Home_team', 'Tm','1stD', 'TotYd', 'PassY', 'RushY', 'TO',\n",
    "           'Offense', 'Defense', 'Sp. Tms']\n",
    "\n",
    "team19_reg = team19_reg[relevant_team]\n",
    "team20_reg = team20_reg[relevant_team]\n",
    "team21_reg = team21_reg[relevant_team]"
   ]
  },
  {
   "cell_type": "code",
   "execution_count": 102,
   "id": "ec34bd8a",
   "metadata": {},
   "outputs": [],
   "source": [
    "# getting an average of team data\n",
    "\n",
    "team19_agg = team19_reg.groupby('Home_team', as_index = False).mean()\n",
    "team20_agg = team20_reg.groupby('Home_team', as_index = False).mean()\n",
    "team21_agg = team21_reg.groupby('Home_team', as_index = False).mean()"
   ]
  },
  {
   "cell_type": "code",
   "execution_count": 103,
   "id": "acca4aea",
   "metadata": {},
   "outputs": [
    {
     "data": {
      "text/html": [
       "<div>\n",
       "<style scoped>\n",
       "    .dataframe tbody tr th:only-of-type {\n",
       "        vertical-align: middle;\n",
       "    }\n",
       "\n",
       "    .dataframe tbody tr th {\n",
       "        vertical-align: top;\n",
       "    }\n",
       "\n",
       "    .dataframe thead th {\n",
       "        text-align: right;\n",
       "    }\n",
       "</style>\n",
       "<table border=\"1\" class=\"dataframe\">\n",
       "  <thead>\n",
       "    <tr style=\"text-align: right;\">\n",
       "      <th></th>\n",
       "      <th>Home_team</th>\n",
       "      <th>Tm</th>\n",
       "      <th>1stD</th>\n",
       "      <th>TotYd</th>\n",
       "      <th>PassY</th>\n",
       "      <th>RushY</th>\n",
       "      <th>TO</th>\n",
       "      <th>Offense</th>\n",
       "      <th>Defense</th>\n",
       "      <th>Sp. Tms</th>\n",
       "    </tr>\n",
       "  </thead>\n",
       "  <tbody>\n",
       "    <tr>\n",
       "      <th>3</th>\n",
       "      <td>Buffalo Bills</td>\n",
       "      <td>19.6250</td>\n",
       "      <td>19.6250</td>\n",
       "      <td>330.1875</td>\n",
       "      <td>201.8125</td>\n",
       "      <td>128.3750</td>\n",
       "      <td>2.111111</td>\n",
       "      <td>0.481250</td>\n",
       "      <td>3.216250</td>\n",
       "      <td>0.266250</td>\n",
       "    </tr>\n",
       "    <tr>\n",
       "      <th>14</th>\n",
       "      <td>Jacksonville Jaguars</td>\n",
       "      <td>18.7500</td>\n",
       "      <td>18.6250</td>\n",
       "      <td>341.7500</td>\n",
       "      <td>235.0000</td>\n",
       "      <td>106.7500</td>\n",
       "      <td>1.818182</td>\n",
       "      <td>-1.446875</td>\n",
       "      <td>-7.380625</td>\n",
       "      <td>2.016875</td>\n",
       "    </tr>\n",
       "    <tr>\n",
       "      <th>18</th>\n",
       "      <td>Miami Dolphins</td>\n",
       "      <td>19.1250</td>\n",
       "      <td>19.6875</td>\n",
       "      <td>310.0000</td>\n",
       "      <td>237.7500</td>\n",
       "      <td>72.2500</td>\n",
       "      <td>1.857143</td>\n",
       "      <td>-1.803125</td>\n",
       "      <td>-10.626250</td>\n",
       "      <td>0.781250</td>\n",
       "    </tr>\n",
       "    <tr>\n",
       "      <th>8</th>\n",
       "      <td>Dallas Cowboys</td>\n",
       "      <td>27.1250</td>\n",
       "      <td>23.6875</td>\n",
       "      <td>431.5000</td>\n",
       "      <td>296.9375</td>\n",
       "      <td>134.5625</td>\n",
       "      <td>1.500000</td>\n",
       "      <td>13.173125</td>\n",
       "      <td>-1.988125</td>\n",
       "      <td>-4.081875</td>\n",
       "    </tr>\n",
       "    <tr>\n",
       "      <th>13</th>\n",
       "      <td>Indianapolis Colts</td>\n",
       "      <td>22.5625</td>\n",
       "      <td>21.2500</td>\n",
       "      <td>327.3750</td>\n",
       "      <td>194.2500</td>\n",
       "      <td>133.1250</td>\n",
       "      <td>1.909091</td>\n",
       "      <td>4.675000</td>\n",
       "      <td>-3.523125</td>\n",
       "      <td>-2.195000</td>\n",
       "    </tr>\n",
       "  </tbody>\n",
       "</table>\n",
       "</div>"
      ],
      "text/plain": [
       "               Home_team       Tm     1stD     TotYd     PassY     RushY  \\\n",
       "3          Buffalo Bills  19.6250  19.6250  330.1875  201.8125  128.3750   \n",
       "14  Jacksonville Jaguars  18.7500  18.6250  341.7500  235.0000  106.7500   \n",
       "18        Miami Dolphins  19.1250  19.6875  310.0000  237.7500   72.2500   \n",
       "8         Dallas Cowboys  27.1250  23.6875  431.5000  296.9375  134.5625   \n",
       "13    Indianapolis Colts  22.5625  21.2500  327.3750  194.2500  133.1250   \n",
       "\n",
       "          TO    Offense    Defense   Sp. Tms  \n",
       "3   2.111111   0.481250   3.216250  0.266250  \n",
       "14  1.818182  -1.446875  -7.380625  2.016875  \n",
       "18  1.857143  -1.803125 -10.626250  0.781250  \n",
       "8   1.500000  13.173125  -1.988125 -4.081875  \n",
       "13  1.909091   4.675000  -3.523125 -2.195000  "
      ]
     },
     "execution_count": 103,
     "metadata": {},
     "output_type": "execute_result"
    }
   ],
   "source": [
    "team19_agg.sample(5)"
   ]
  },
  {
   "cell_type": "code",
   "execution_count": 104,
   "id": "bdb8e61a",
   "metadata": {},
   "outputs": [
    {
     "data": {
      "text/plain": [
       "Player            object\n",
       "Tm                object\n",
       "Pos               object\n",
       "Age                int64\n",
       "G                  int64\n",
       "GS                 int64\n",
       "Tgt              float64\n",
       "Rec              float64\n",
       "PassingYds       float64\n",
       "PassingTD        float64\n",
       "PassingAtt       float64\n",
       "RushingYds       float64\n",
       "RushingTD        float64\n",
       "RushingAtt       float64\n",
       "ReceivingYds     float64\n",
       "ReceivingTD      float64\n",
       "FantasyPoints    float64\n",
       "Int              float64\n",
       "Fumbles          float64\n",
       "FumblesLost      float64\n",
       "dtype: object"
      ]
     },
     "execution_count": 104,
     "metadata": {},
     "output_type": "execute_result"
    }
   ],
   "source": [
    "ff21.dtypes\n"
   ]
  },
  {
   "cell_type": "markdown",
   "id": "e5d4c547",
   "metadata": {},
   "source": [
    "## Write a for loop to make below easier and scalable"
   ]
  },
  {
   "cell_type": "markdown",
   "id": "b3d1c26d",
   "metadata": {},
   "source": [
    "ff_dfs = [ff21, ff20, ff19]\n",
    "player_names_19 = []\n",
    "player_names_20 = []\n",
    "player_names_21 = []\n",
    "\n",
    "\n",
    "for i, df in enumerate(ff_dfs):\n",
    "    if i == 0:\n",
    "        for x in df['Player']:\n",
    "            clean_name = x.replace(\"+\",\"\", regex = True)\n",
    "            clean_name = clean_name.replace(\"*\",\"\", regex = True)\n",
    "            player_names_21.append(clean_name)\n",
    "    elif i == 1:\n",
    "        for x in df['Player']:\n",
    "            clean_name = x.replace(\"+\",\"\", regex = True)\n",
    "            clean_name = clean_name.replace(\"*\",\"\", regex = True)\n",
    "            player_names_20.append(clean_name)\n",
    "   else:\n",
    "        for x in df['Player']:\n",
    "            clean_name = x.str.replace(\"+\",\"\", regex = True)\n",
    "            clean_name = clean_name.replace(\"*\",\"\", regex = True)\n",
    "            player_names_19.append(clean_name)"
   ]
  },
  {
   "cell_type": "code",
   "execution_count": 105,
   "id": "f4c74507",
   "metadata": {},
   "outputs": [],
   "source": [
    "# cleaning player names\n",
    "\n",
    "fp_dfs = [ff21, ff20, ff19]\n",
    "\n",
    "ff21['Player'] = ff21['Player'].str.replace(\"+\",\"\", regex = True)\n",
    "ff21['Player'] = ff21['Player'].str.replace(\"*\",\"\", regex = True)\n",
    "\n",
    "ff20['Player'] = ff20['Player'].str.replace(\"+\",\"\", regex = True)\n",
    "ff20['Player'] = ff20['Player'].str.replace(\"*\",\"\", regex = True)\n",
    "\n",
    "ff19['Player'] = ff19['Player'].str.replace(\"+\",\"\", regex = True)\n",
    "ff19['Player'] = ff19['Player'].str.replace(\"*\",\"\", regex = True)\n",
    "\n"
   ]
  },
  {
   "cell_type": "markdown",
   "id": "fb788a1b",
   "metadata": {},
   "source": [
    "## Roster data\n",
    "\n",
    "Now that fantasy points for 3 seasons are relatively cleaned; before merging, let's try to clean up roster data"
   ]
  },
  {
   "cell_type": "code",
   "execution_count": 106,
   "id": "18a65e1c",
   "metadata": {},
   "outputs": [
    {
     "data": {
      "text/html": [
       "<div>\n",
       "<style scoped>\n",
       "    .dataframe tbody tr th:only-of-type {\n",
       "        vertical-align: middle;\n",
       "    }\n",
       "\n",
       "    .dataframe tbody tr th {\n",
       "        vertical-align: top;\n",
       "    }\n",
       "\n",
       "    .dataframe thead th {\n",
       "        text-align: right;\n",
       "    }\n",
       "</style>\n",
       "<table border=\"1\" class=\"dataframe\">\n",
       "  <thead>\n",
       "    <tr style=\"text-align: right;\">\n",
       "      <th></th>\n",
       "      <th>team</th>\n",
       "      <th>player_name</th>\n",
       "      <th>position</th>\n",
       "      <th>player_id</th>\n",
       "      <th>height</th>\n",
       "      <th>weight</th>\n",
       "      <th>years_exp</th>\n",
       "    </tr>\n",
       "  </thead>\n",
       "  <tbody>\n",
       "    <tr>\n",
       "      <th>563</th>\n",
       "      <td>CHI</td>\n",
       "      <td>Ben Braunecker</td>\n",
       "      <td>TE</td>\n",
       "      <td>00-0032661</td>\n",
       "      <td>75.0</td>\n",
       "      <td>247.0</td>\n",
       "      <td>3.0</td>\n",
       "    </tr>\n",
       "    <tr>\n",
       "      <th>2411</th>\n",
       "      <td>NYJ</td>\n",
       "      <td>J.J. Jones</td>\n",
       "      <td>WR</td>\n",
       "      <td>00-0034560</td>\n",
       "      <td>NaN</td>\n",
       "      <td>174.0</td>\n",
       "      <td>NaN</td>\n",
       "    </tr>\n",
       "    <tr>\n",
       "      <th>558</th>\n",
       "      <td>CHI</td>\n",
       "      <td>Pat O'Donnell</td>\n",
       "      <td>SPEC</td>\n",
       "      <td>00-0031079</td>\n",
       "      <td>76.0</td>\n",
       "      <td>212.0</td>\n",
       "      <td>5.0</td>\n",
       "    </tr>\n",
       "    <tr>\n",
       "      <th>1112</th>\n",
       "      <td>GB</td>\n",
       "      <td>Manny Wilkins</td>\n",
       "      <td>QB</td>\n",
       "      <td>00-0035077</td>\n",
       "      <td>74.0</td>\n",
       "      <td>193.0</td>\n",
       "      <td>NaN</td>\n",
       "    </tr>\n",
       "    <tr>\n",
       "      <th>220</th>\n",
       "      <td>BAL</td>\n",
       "      <td>Terrell Bonds</td>\n",
       "      <td>DB</td>\n",
       "      <td>00-0035137</td>\n",
       "      <td>NaN</td>\n",
       "      <td>NaN</td>\n",
       "      <td>NaN</td>\n",
       "    </tr>\n",
       "    <tr>\n",
       "      <th>1882</th>\n",
       "      <td>MIA</td>\n",
       "      <td>Terrill Hanks</td>\n",
       "      <td>LB</td>\n",
       "      <td>00-0035338</td>\n",
       "      <td>74.0</td>\n",
       "      <td>241.0</td>\n",
       "      <td>NaN</td>\n",
       "    </tr>\n",
       "    <tr>\n",
       "      <th>3001</th>\n",
       "      <td>TEN</td>\n",
       "      <td>Darius Jennings</td>\n",
       "      <td>WR</td>\n",
       "      <td>00-0031972</td>\n",
       "      <td>70.0</td>\n",
       "      <td>180.0</td>\n",
       "      <td>4.0</td>\n",
       "    </tr>\n",
       "    <tr>\n",
       "      <th>1591</th>\n",
       "      <td>LA</td>\n",
       "      <td>Bobby Evans</td>\n",
       "      <td>OL</td>\n",
       "      <td>00-0035666</td>\n",
       "      <td>76.0</td>\n",
       "      <td>312.0</td>\n",
       "      <td>0.0</td>\n",
       "    </tr>\n",
       "  </tbody>\n",
       "</table>\n",
       "</div>"
      ],
      "text/plain": [
       "     team      player_name position   player_id  height  weight  years_exp\n",
       "563   CHI   Ben Braunecker       TE  00-0032661    75.0   247.0        3.0\n",
       "2411  NYJ       J.J. Jones       WR  00-0034560     NaN   174.0        NaN\n",
       "558   CHI    Pat O'Donnell     SPEC  00-0031079    76.0   212.0        5.0\n",
       "1112   GB    Manny Wilkins       QB  00-0035077    74.0   193.0        NaN\n",
       "220   BAL    Terrell Bonds       DB  00-0035137     NaN     NaN        NaN\n",
       "1882  MIA    Terrill Hanks       LB  00-0035338    74.0   241.0        NaN\n",
       "3001  TEN  Darius Jennings       WR  00-0031972    70.0   180.0        4.0\n",
       "1591   LA      Bobby Evans       OL  00-0035666    76.0   312.0        0.0"
      ]
     },
     "execution_count": 106,
     "metadata": {},
     "output_type": "execute_result"
    }
   ],
   "source": [
    "rosters19.sample(n=8)"
   ]
  },
  {
   "cell_type": "code",
   "execution_count": 107,
   "id": "d83c4451",
   "metadata": {},
   "outputs": [],
   "source": [
    "# We must get rid of non-offensive, fantasy irrelevant positions\n",
    "\n",
    "# for this analysis, only focused on qb, rb, wr, te\n",
    "\n",
    "ff_positions = ['QB', 'RB', 'WR', 'TE']\n",
    "\n",
    "rosters19_rel = rosters19.loc[rosters19['position'].isin(ff_positions)]\n",
    "rosters20_rel = rosters20.loc[rosters20['position'].isin(ff_positions)]\n",
    "rosters21_rel = rosters21.loc[rosters21['position'].isin(ff_positions)]"
   ]
  },
  {
   "cell_type": "code",
   "execution_count": 108,
   "id": "f5632b8a",
   "metadata": {},
   "outputs": [
    {
     "data": {
      "text/plain": [
       "Index(['team', 'player_name', 'position', 'player_id', 'height', 'weight',\n",
       "       'years_exp'],\n",
       "      dtype='object')"
      ]
     },
     "execution_count": 108,
     "metadata": {},
     "output_type": "execute_result"
    }
   ],
   "source": [
    "rosters19_rel.columns"
   ]
  },
  {
   "cell_type": "code",
   "execution_count": 109,
   "id": "3f4aeb46",
   "metadata": {},
   "outputs": [
    {
     "data": {
      "text/html": [
       "<div>\n",
       "<style scoped>\n",
       "    .dataframe tbody tr th:only-of-type {\n",
       "        vertical-align: middle;\n",
       "    }\n",
       "\n",
       "    .dataframe tbody tr th {\n",
       "        vertical-align: top;\n",
       "    }\n",
       "\n",
       "    .dataframe thead th {\n",
       "        text-align: right;\n",
       "    }\n",
       "</style>\n",
       "<table border=\"1\" class=\"dataframe\">\n",
       "  <thead>\n",
       "    <tr style=\"text-align: right;\">\n",
       "      <th></th>\n",
       "      <th>team</th>\n",
       "      <th>player_name</th>\n",
       "      <th>position</th>\n",
       "      <th>player_id</th>\n",
       "      <th>height</th>\n",
       "      <th>weight</th>\n",
       "      <th>years_exp</th>\n",
       "      <th>Player</th>\n",
       "      <th>Tm</th>\n",
       "      <th>Pos</th>\n",
       "      <th>...</th>\n",
       "      <th>PassingAtt</th>\n",
       "      <th>RushingYds</th>\n",
       "      <th>RushingTD</th>\n",
       "      <th>RushingAtt</th>\n",
       "      <th>ReceivingYds</th>\n",
       "      <th>ReceivingTD</th>\n",
       "      <th>FantasyPoints</th>\n",
       "      <th>Int</th>\n",
       "      <th>Fumbles</th>\n",
       "      <th>FumblesLost</th>\n",
       "    </tr>\n",
       "  </thead>\n",
       "  <tbody>\n",
       "    <tr>\n",
       "      <th>0</th>\n",
       "      <td>ARI</td>\n",
       "      <td>Brett Hundley</td>\n",
       "      <td>QB</td>\n",
       "      <td>00-0031589</td>\n",
       "      <td>75.0</td>\n",
       "      <td>226.0</td>\n",
       "      <td>4.0</td>\n",
       "      <td>Brett Hundley</td>\n",
       "      <td>ARI</td>\n",
       "      <td>QB</td>\n",
       "      <td>...</td>\n",
       "      <td>11.0</td>\n",
       "      <td>41.0</td>\n",
       "      <td>0.0</td>\n",
       "      <td>7.0</td>\n",
       "      <td>0.0</td>\n",
       "      <td>0.0</td>\n",
       "      <td>6.06</td>\n",
       "      <td>0.0</td>\n",
       "      <td>0.0</td>\n",
       "      <td>0.0</td>\n",
       "    </tr>\n",
       "    <tr>\n",
       "      <th>1</th>\n",
       "      <td>ARI</td>\n",
       "      <td>Kyler Murray</td>\n",
       "      <td>QB</td>\n",
       "      <td>00-0035228</td>\n",
       "      <td>70.0</td>\n",
       "      <td>207.0</td>\n",
       "      <td>0.0</td>\n",
       "      <td>Kyler Murray</td>\n",
       "      <td>ARI</td>\n",
       "      <td>QB</td>\n",
       "      <td>...</td>\n",
       "      <td>542.0</td>\n",
       "      <td>544.0</td>\n",
       "      <td>4.0</td>\n",
       "      <td>93.0</td>\n",
       "      <td>0.0</td>\n",
       "      <td>0.0</td>\n",
       "      <td>279.28</td>\n",
       "      <td>12.0</td>\n",
       "      <td>5.0</td>\n",
       "      <td>2.0</td>\n",
       "    </tr>\n",
       "    <tr>\n",
       "      <th>2</th>\n",
       "      <td>ARI</td>\n",
       "      <td>Alfred Morris</td>\n",
       "      <td>RB</td>\n",
       "      <td>00-0029141</td>\n",
       "      <td>70.0</td>\n",
       "      <td>222.0</td>\n",
       "      <td>7.0</td>\n",
       "      <td>Alfred Morris</td>\n",
       "      <td>ARI</td>\n",
       "      <td>RB</td>\n",
       "      <td>...</td>\n",
       "      <td>0.0</td>\n",
       "      <td>4.0</td>\n",
       "      <td>0.0</td>\n",
       "      <td>1.0</td>\n",
       "      <td>0.0</td>\n",
       "      <td>0.0</td>\n",
       "      <td>0.40</td>\n",
       "      <td>0.0</td>\n",
       "      <td>0.0</td>\n",
       "      <td>0.0</td>\n",
       "    </tr>\n",
       "    <tr>\n",
       "      <th>3</th>\n",
       "      <td>ARI</td>\n",
       "      <td>David Johnson</td>\n",
       "      <td>RB</td>\n",
       "      <td>00-0032187</td>\n",
       "      <td>73.0</td>\n",
       "      <td>224.0</td>\n",
       "      <td>4.0</td>\n",
       "      <td>David Johnson</td>\n",
       "      <td>ARI</td>\n",
       "      <td>RB</td>\n",
       "      <td>...</td>\n",
       "      <td>0.0</td>\n",
       "      <td>345.0</td>\n",
       "      <td>2.0</td>\n",
       "      <td>94.0</td>\n",
       "      <td>370.0</td>\n",
       "      <td>4.0</td>\n",
       "      <td>141.50</td>\n",
       "      <td>0.0</td>\n",
       "      <td>1.0</td>\n",
       "      <td>1.0</td>\n",
       "    </tr>\n",
       "    <tr>\n",
       "      <th>4</th>\n",
       "      <td>ARI</td>\n",
       "      <td>Kenyan Drake</td>\n",
       "      <td>RB</td>\n",
       "      <td>00-0033118</td>\n",
       "      <td>73.0</td>\n",
       "      <td>211.0</td>\n",
       "      <td>3.0</td>\n",
       "      <td>Kenyan Drake</td>\n",
       "      <td>2TM</td>\n",
       "      <td>RB</td>\n",
       "      <td>...</td>\n",
       "      <td>0.0</td>\n",
       "      <td>817.0</td>\n",
       "      <td>8.0</td>\n",
       "      <td>170.0</td>\n",
       "      <td>345.0</td>\n",
       "      <td>0.0</td>\n",
       "      <td>212.20</td>\n",
       "      <td>0.0</td>\n",
       "      <td>2.0</td>\n",
       "      <td>1.0</td>\n",
       "    </tr>\n",
       "  </tbody>\n",
       "</table>\n",
       "<p>5 rows × 27 columns</p>\n",
       "</div>"
      ],
      "text/plain": [
       "  team    player_name position   player_id  height  weight  years_exp  \\\n",
       "0  ARI  Brett Hundley       QB  00-0031589    75.0   226.0        4.0   \n",
       "1  ARI   Kyler Murray       QB  00-0035228    70.0   207.0        0.0   \n",
       "2  ARI  Alfred Morris       RB  00-0029141    70.0   222.0        7.0   \n",
       "3  ARI  David Johnson       RB  00-0032187    73.0   224.0        4.0   \n",
       "4  ARI   Kenyan Drake       RB  00-0033118    73.0   211.0        3.0   \n",
       "\n",
       "          Player   Tm Pos  ...  PassingAtt  RushingYds  RushingTD  RushingAtt  \\\n",
       "0  Brett Hundley  ARI  QB  ...        11.0        41.0        0.0         7.0   \n",
       "1   Kyler Murray  ARI  QB  ...       542.0       544.0        4.0        93.0   \n",
       "2  Alfred Morris  ARI  RB  ...         0.0         4.0        0.0         1.0   \n",
       "3  David Johnson  ARI  RB  ...         0.0       345.0        2.0        94.0   \n",
       "4   Kenyan Drake  2TM  RB  ...         0.0       817.0        8.0       170.0   \n",
       "\n",
       "   ReceivingYds  ReceivingTD  FantasyPoints   Int  Fumbles  FumblesLost  \n",
       "0           0.0          0.0           6.06   0.0      0.0          0.0  \n",
       "1           0.0          0.0         279.28  12.0      5.0          2.0  \n",
       "2           0.0          0.0           0.40   0.0      0.0          0.0  \n",
       "3         370.0          4.0         141.50   0.0      1.0          1.0  \n",
       "4         345.0          0.0         212.20   0.0      2.0          1.0  \n",
       "\n",
       "[5 rows x 27 columns]"
      ]
     },
     "execution_count": 109,
     "metadata": {},
     "output_type": "execute_result"
    }
   ],
   "source": [
    "ff19_r = rosters19_rel.merge(ff19, how = 'inner', left_on = 'player_name', right_on = 'Player', suffixes = ('_19r', '_19')).reset_index(drop = True)\n",
    "\n",
    "ff19_r.head()"
   ]
  },
  {
   "cell_type": "code",
   "execution_count": 110,
   "id": "28fd5c44",
   "metadata": {},
   "outputs": [
    {
     "data": {
      "text/html": [
       "<div>\n",
       "<style scoped>\n",
       "    .dataframe tbody tr th:only-of-type {\n",
       "        vertical-align: middle;\n",
       "    }\n",
       "\n",
       "    .dataframe tbody tr th {\n",
       "        vertical-align: top;\n",
       "    }\n",
       "\n",
       "    .dataframe thead th {\n",
       "        text-align: right;\n",
       "    }\n",
       "</style>\n",
       "<table border=\"1\" class=\"dataframe\">\n",
       "  <thead>\n",
       "    <tr style=\"text-align: right;\">\n",
       "      <th></th>\n",
       "      <th>team</th>\n",
       "      <th>player_name</th>\n",
       "      <th>position</th>\n",
       "      <th>player_id</th>\n",
       "      <th>height</th>\n",
       "      <th>weight</th>\n",
       "      <th>years_exp</th>\n",
       "    </tr>\n",
       "  </thead>\n",
       "  <tbody>\n",
       "    <tr>\n",
       "      <th>2425</th>\n",
       "      <td>SF</td>\n",
       "      <td>Chris Thompson</td>\n",
       "      <td>WR</td>\n",
       "      <td>00-0033855</td>\n",
       "      <td>72.0</td>\n",
       "      <td>175</td>\n",
       "      <td>3.0</td>\n",
       "    </tr>\n",
       "    <tr>\n",
       "      <th>2483</th>\n",
       "      <td>TB</td>\n",
       "      <td>Ryan Griffin</td>\n",
       "      <td>QB</td>\n",
       "      <td>00-0029857</td>\n",
       "      <td>77.0</td>\n",
       "      <td>210</td>\n",
       "      <td>7.0</td>\n",
       "    </tr>\n",
       "  </tbody>\n",
       "</table>\n",
       "</div>"
      ],
      "text/plain": [
       "     team     player_name position   player_id  height  weight  years_exp\n",
       "2425   SF  Chris Thompson       WR  00-0033855    72.0     175        3.0\n",
       "2483   TB    Ryan Griffin       QB  00-0029857    77.0     210        7.0"
      ]
     },
     "execution_count": 110,
     "metadata": {},
     "output_type": "execute_result"
    }
   ],
   "source": [
    "# there may be duplicates in this\n",
    "\n",
    "rosters20_rel.loc[rosters20_rel['player_name'].duplicated() == True]"
   ]
  },
  {
   "cell_type": "code",
   "execution_count": 111,
   "id": "5705bb85",
   "metadata": {},
   "outputs": [],
   "source": [
    "# dropping duplicates here\n",
    "\n",
    "rosters20_rel = rosters20_rel.drop_duplicates(subset = ['player_name'], keep = 'first')\n",
    "ff20 = ff20.drop_duplicates(subset = ['Player'], keep = 'first')"
   ]
  },
  {
   "cell_type": "code",
   "execution_count": 112,
   "id": "eeaa081d",
   "metadata": {},
   "outputs": [
    {
     "data": {
      "text/html": [
       "<div>\n",
       "<style scoped>\n",
       "    .dataframe tbody tr th:only-of-type {\n",
       "        vertical-align: middle;\n",
       "    }\n",
       "\n",
       "    .dataframe tbody tr th {\n",
       "        vertical-align: top;\n",
       "    }\n",
       "\n",
       "    .dataframe thead th {\n",
       "        text-align: right;\n",
       "    }\n",
       "</style>\n",
       "<table border=\"1\" class=\"dataframe\">\n",
       "  <thead>\n",
       "    <tr style=\"text-align: right;\">\n",
       "      <th></th>\n",
       "      <th>team</th>\n",
       "      <th>player_name</th>\n",
       "      <th>position</th>\n",
       "      <th>player_id</th>\n",
       "      <th>height</th>\n",
       "      <th>weight</th>\n",
       "      <th>years_exp</th>\n",
       "      <th>Player</th>\n",
       "      <th>Tm</th>\n",
       "      <th>Pos</th>\n",
       "      <th>...</th>\n",
       "      <th>PassingAtt</th>\n",
       "      <th>RushingYds</th>\n",
       "      <th>RushingTD</th>\n",
       "      <th>RushingAtt</th>\n",
       "      <th>ReceivingYds</th>\n",
       "      <th>ReceivingTD</th>\n",
       "      <th>FantasyPoints</th>\n",
       "      <th>Int</th>\n",
       "      <th>Fumbles</th>\n",
       "      <th>FumblesLost</th>\n",
       "    </tr>\n",
       "  </thead>\n",
       "  <tbody>\n",
       "    <tr>\n",
       "      <th>392</th>\n",
       "      <td>NO</td>\n",
       "      <td>Jameis Winston</td>\n",
       "      <td>QB</td>\n",
       "      <td>00-0031503</td>\n",
       "      <td>76.0</td>\n",
       "      <td>231</td>\n",
       "      <td>5.0</td>\n",
       "      <td>Jameis Winston</td>\n",
       "      <td>NOR</td>\n",
       "      <td>QB</td>\n",
       "      <td>...</td>\n",
       "      <td>11</td>\n",
       "      <td>-6</td>\n",
       "      <td>0</td>\n",
       "      <td>8</td>\n",
       "      <td>0</td>\n",
       "      <td>0</td>\n",
       "      <td>2.0</td>\n",
       "      <td>0</td>\n",
       "      <td>0</td>\n",
       "      <td>0</td>\n",
       "    </tr>\n",
       "    <tr>\n",
       "      <th>125</th>\n",
       "      <td>CIN</td>\n",
       "      <td>Auden Tate</td>\n",
       "      <td>WR</td>\n",
       "      <td>00-0034686</td>\n",
       "      <td>77.0</td>\n",
       "      <td>228</td>\n",
       "      <td>2.0</td>\n",
       "      <td>Auden Tate</td>\n",
       "      <td>CIN</td>\n",
       "      <td>WR</td>\n",
       "      <td>...</td>\n",
       "      <td>0</td>\n",
       "      <td>0</td>\n",
       "      <td>0</td>\n",
       "      <td>0</td>\n",
       "      <td>150</td>\n",
       "      <td>0</td>\n",
       "      <td>15.0</td>\n",
       "      <td>0</td>\n",
       "      <td>0</td>\n",
       "      <td>0</td>\n",
       "    </tr>\n",
       "    <tr>\n",
       "      <th>445</th>\n",
       "      <td>NYJ</td>\n",
       "      <td>Jaleel Scott</td>\n",
       "      <td>WR</td>\n",
       "      <td>00-0034267</td>\n",
       "      <td>77.0</td>\n",
       "      <td>210</td>\n",
       "      <td>2.0</td>\n",
       "      <td>Jaleel Scott</td>\n",
       "      <td>NYJ</td>\n",
       "      <td>WR</td>\n",
       "      <td>...</td>\n",
       "      <td>0</td>\n",
       "      <td>0</td>\n",
       "      <td>0</td>\n",
       "      <td>0</td>\n",
       "      <td>16</td>\n",
       "      <td>0</td>\n",
       "      <td>2.0</td>\n",
       "      <td>0</td>\n",
       "      <td>0</td>\n",
       "      <td>0</td>\n",
       "    </tr>\n",
       "    <tr>\n",
       "      <th>28</th>\n",
       "      <td>ATL</td>\n",
       "      <td>Laquon Treadwell</td>\n",
       "      <td>WR</td>\n",
       "      <td>00-0032951</td>\n",
       "      <td>74.0</td>\n",
       "      <td>215</td>\n",
       "      <td>4.0</td>\n",
       "      <td>Laquon Treadwell</td>\n",
       "      <td>ATL</td>\n",
       "      <td>WR</td>\n",
       "      <td>...</td>\n",
       "      <td>0</td>\n",
       "      <td>0</td>\n",
       "      <td>0</td>\n",
       "      <td>0</td>\n",
       "      <td>49</td>\n",
       "      <td>2</td>\n",
       "      <td>17.0</td>\n",
       "      <td>0</td>\n",
       "      <td>0</td>\n",
       "      <td>0</td>\n",
       "    </tr>\n",
       "    <tr>\n",
       "      <th>312</th>\n",
       "      <td>LAC</td>\n",
       "      <td>Virgil Green</td>\n",
       "      <td>TE</td>\n",
       "      <td>00-0028142</td>\n",
       "      <td>77.0</td>\n",
       "      <td>255</td>\n",
       "      <td>9.0</td>\n",
       "      <td>Virgil Green</td>\n",
       "      <td>LAC</td>\n",
       "      <td>TE</td>\n",
       "      <td>...</td>\n",
       "      <td>0</td>\n",
       "      <td>0</td>\n",
       "      <td>0</td>\n",
       "      <td>0</td>\n",
       "      <td>50</td>\n",
       "      <td>1</td>\n",
       "      <td>11.0</td>\n",
       "      <td>0</td>\n",
       "      <td>0</td>\n",
       "      <td>0</td>\n",
       "    </tr>\n",
       "  </tbody>\n",
       "</table>\n",
       "<p>5 rows × 27 columns</p>\n",
       "</div>"
      ],
      "text/plain": [
       "    team       player_name position   player_id  height  weight  years_exp  \\\n",
       "392   NO    Jameis Winston       QB  00-0031503    76.0     231        5.0   \n",
       "125  CIN        Auden Tate       WR  00-0034686    77.0     228        2.0   \n",
       "445  NYJ      Jaleel Scott       WR  00-0034267    77.0     210        2.0   \n",
       "28   ATL  Laquon Treadwell       WR  00-0032951    74.0     215        4.0   \n",
       "312  LAC      Virgil Green       TE  00-0028142    77.0     255        9.0   \n",
       "\n",
       "               Player   Tm Pos  ...  PassingAtt  RushingYds  RushingTD  \\\n",
       "392    Jameis Winston  NOR  QB  ...          11          -6          0   \n",
       "125        Auden Tate  CIN  WR  ...           0           0          0   \n",
       "445      Jaleel Scott  NYJ  WR  ...           0           0          0   \n",
       "28   Laquon Treadwell  ATL  WR  ...           0           0          0   \n",
       "312      Virgil Green  LAC  TE  ...           0           0          0   \n",
       "\n",
       "     RushingAtt  ReceivingYds  ReceivingTD  FantasyPoints  Int  Fumbles  \\\n",
       "392           8             0            0            2.0    0        0   \n",
       "125           0           150            0           15.0    0        0   \n",
       "445           0            16            0            2.0    0        0   \n",
       "28            0            49            2           17.0    0        0   \n",
       "312           0            50            1           11.0    0        0   \n",
       "\n",
       "     FumblesLost  \n",
       "392            0  \n",
       "125            0  \n",
       "445            0  \n",
       "28             0  \n",
       "312            0  \n",
       "\n",
       "[5 rows x 27 columns]"
      ]
     },
     "execution_count": 112,
     "metadata": {},
     "output_type": "execute_result"
    }
   ],
   "source": [
    "ff20_r = rosters20_rel.merge(ff20, how = 'inner', left_on = 'player_name', right_on = 'Player', suffixes = ('_20r', '_20')).reset_index(drop = True)\n",
    "\n",
    "ff20_r.sample(5)"
   ]
  },
  {
   "cell_type": "code",
   "execution_count": 113,
   "id": "3316d765",
   "metadata": {},
   "outputs": [
    {
     "data": {
      "text/html": [
       "<div>\n",
       "<style scoped>\n",
       "    .dataframe tbody tr th:only-of-type {\n",
       "        vertical-align: middle;\n",
       "    }\n",
       "\n",
       "    .dataframe tbody tr th {\n",
       "        vertical-align: top;\n",
       "    }\n",
       "\n",
       "    .dataframe thead th {\n",
       "        text-align: right;\n",
       "    }\n",
       "</style>\n",
       "<table border=\"1\" class=\"dataframe\">\n",
       "  <thead>\n",
       "    <tr style=\"text-align: right;\">\n",
       "      <th></th>\n",
       "      <th>team</th>\n",
       "      <th>player_name</th>\n",
       "      <th>position</th>\n",
       "      <th>player_id</th>\n",
       "      <th>height</th>\n",
       "      <th>weight</th>\n",
       "      <th>years_exp</th>\n",
       "      <th>rookie_year</th>\n",
       "      <th>Player</th>\n",
       "      <th>Tm</th>\n",
       "      <th>...</th>\n",
       "      <th>PassingAtt</th>\n",
       "      <th>RushingYds</th>\n",
       "      <th>RushingTD</th>\n",
       "      <th>RushingAtt</th>\n",
       "      <th>ReceivingYds</th>\n",
       "      <th>ReceivingTD</th>\n",
       "      <th>FantasyPoints</th>\n",
       "      <th>Int</th>\n",
       "      <th>Fumbles</th>\n",
       "      <th>FumblesLost</th>\n",
       "    </tr>\n",
       "  </thead>\n",
       "  <tbody>\n",
       "    <tr>\n",
       "      <th>83</th>\n",
       "      <td>CAR</td>\n",
       "      <td>Stephen Sullivan</td>\n",
       "      <td>TE</td>\n",
       "      <td>00-0036438</td>\n",
       "      <td>77.0</td>\n",
       "      <td>242</td>\n",
       "      <td>1</td>\n",
       "      <td>2020.0</td>\n",
       "      <td>Stephen Sullivan</td>\n",
       "      <td>CAR</td>\n",
       "      <td>...</td>\n",
       "      <td>0.0</td>\n",
       "      <td>0.0</td>\n",
       "      <td>0.0</td>\n",
       "      <td>0.0</td>\n",
       "      <td>0.0</td>\n",
       "      <td>0.0</td>\n",
       "      <td>NaN</td>\n",
       "      <td>0.0</td>\n",
       "      <td>0.0</td>\n",
       "      <td>0.0</td>\n",
       "    </tr>\n",
       "    <tr>\n",
       "      <th>500</th>\n",
       "      <td>PHI</td>\n",
       "      <td>Richard Rodgers</td>\n",
       "      <td>TE</td>\n",
       "      <td>00-0031384</td>\n",
       "      <td>76.0</td>\n",
       "      <td>257</td>\n",
       "      <td>7</td>\n",
       "      <td>2014.0</td>\n",
       "      <td>Richard Rodgers</td>\n",
       "      <td>PHI</td>\n",
       "      <td>...</td>\n",
       "      <td>0.0</td>\n",
       "      <td>0.0</td>\n",
       "      <td>0.0</td>\n",
       "      <td>0.0</td>\n",
       "      <td>11.0</td>\n",
       "      <td>0.0</td>\n",
       "      <td>1.0</td>\n",
       "      <td>0.0</td>\n",
       "      <td>0.0</td>\n",
       "      <td>0.0</td>\n",
       "    </tr>\n",
       "    <tr>\n",
       "      <th>589</th>\n",
       "      <td>TB</td>\n",
       "      <td>Jaelon Darden</td>\n",
       "      <td>WR</td>\n",
       "      <td>00-0036877</td>\n",
       "      <td>68.0</td>\n",
       "      <td>174</td>\n",
       "      <td>0</td>\n",
       "      <td>2021.0</td>\n",
       "      <td>Jaelon Darden</td>\n",
       "      <td>TAM</td>\n",
       "      <td>...</td>\n",
       "      <td>0.0</td>\n",
       "      <td>11.0</td>\n",
       "      <td>0.0</td>\n",
       "      <td>1.0</td>\n",
       "      <td>43.0</td>\n",
       "      <td>0.0</td>\n",
       "      <td>5.0</td>\n",
       "      <td>0.0</td>\n",
       "      <td>0.0</td>\n",
       "      <td>0.0</td>\n",
       "    </tr>\n",
       "    <tr>\n",
       "      <th>58</th>\n",
       "      <td>BUF</td>\n",
       "      <td>Mitchell Trubisky</td>\n",
       "      <td>QB</td>\n",
       "      <td>00-0033869</td>\n",
       "      <td>74.0</td>\n",
       "      <td>215</td>\n",
       "      <td>4</td>\n",
       "      <td>2017.0</td>\n",
       "      <td>Mitchell Trubisky</td>\n",
       "      <td>BUF</td>\n",
       "      <td>...</td>\n",
       "      <td>8.0</td>\n",
       "      <td>24.0</td>\n",
       "      <td>1.0</td>\n",
       "      <td>13.0</td>\n",
       "      <td>0.0</td>\n",
       "      <td>0.0</td>\n",
       "      <td>8.0</td>\n",
       "      <td>1.0</td>\n",
       "      <td>0.0</td>\n",
       "      <td>0.0</td>\n",
       "    </tr>\n",
       "    <tr>\n",
       "      <th>477</th>\n",
       "      <td>TB</td>\n",
       "      <td>Ryan Griffin</td>\n",
       "      <td>QB</td>\n",
       "      <td>00-0029857</td>\n",
       "      <td>77.0</td>\n",
       "      <td>210</td>\n",
       "      <td>8</td>\n",
       "      <td>2013.0</td>\n",
       "      <td>Ryan Griffin</td>\n",
       "      <td>NYJ</td>\n",
       "      <td>...</td>\n",
       "      <td>0.0</td>\n",
       "      <td>0.0</td>\n",
       "      <td>0.0</td>\n",
       "      <td>0.0</td>\n",
       "      <td>261.0</td>\n",
       "      <td>2.0</td>\n",
       "      <td>38.0</td>\n",
       "      <td>0.0</td>\n",
       "      <td>1.0</td>\n",
       "      <td>0.0</td>\n",
       "    </tr>\n",
       "  </tbody>\n",
       "</table>\n",
       "<p>5 rows × 28 columns</p>\n",
       "</div>"
      ],
      "text/plain": [
       "    team        player_name position   player_id  height  weight  years_exp  \\\n",
       "83   CAR   Stephen Sullivan       TE  00-0036438    77.0     242          1   \n",
       "500  PHI    Richard Rodgers       TE  00-0031384    76.0     257          7   \n",
       "589   TB      Jaelon Darden       WR  00-0036877    68.0     174          0   \n",
       "58   BUF  Mitchell Trubisky       QB  00-0033869    74.0     215          4   \n",
       "477   TB       Ryan Griffin       QB  00-0029857    77.0     210          8   \n",
       "\n",
       "     rookie_year             Player   Tm  ... PassingAtt  RushingYds  \\\n",
       "83        2020.0   Stephen Sullivan  CAR  ...        0.0         0.0   \n",
       "500       2014.0    Richard Rodgers  PHI  ...        0.0         0.0   \n",
       "589       2021.0      Jaelon Darden  TAM  ...        0.0        11.0   \n",
       "58        2017.0  Mitchell Trubisky  BUF  ...        8.0        24.0   \n",
       "477       2013.0       Ryan Griffin  NYJ  ...        0.0         0.0   \n",
       "\n",
       "     RushingTD  RushingAtt  ReceivingYds  ReceivingTD  FantasyPoints  Int  \\\n",
       "83         0.0         0.0           0.0          0.0            NaN  0.0   \n",
       "500        0.0         0.0          11.0          0.0            1.0  0.0   \n",
       "589        0.0         1.0          43.0          0.0            5.0  0.0   \n",
       "58         1.0        13.0           0.0          0.0            8.0  1.0   \n",
       "477        0.0         0.0         261.0          2.0           38.0  0.0   \n",
       "\n",
       "     Fumbles  FumblesLost  \n",
       "83       0.0          0.0  \n",
       "500      0.0          0.0  \n",
       "589      0.0          0.0  \n",
       "58       0.0          0.0  \n",
       "477      1.0          0.0  \n",
       "\n",
       "[5 rows x 28 columns]"
      ]
     },
     "execution_count": 113,
     "metadata": {},
     "output_type": "execute_result"
    }
   ],
   "source": [
    "ff21_r = rosters21_rel.merge(ff21, how = 'inner', left_on = 'player_name', right_on = 'Player', suffixes = ('_21r', '_21')).reset_index(drop = True)\n",
    "\n",
    "ff21_r.sample(5)"
   ]
  },
  {
   "cell_type": "markdown",
   "id": "0732943e",
   "metadata": {},
   "source": [
    "### merging all 3 years together\n",
    "\n",
    "Now, let's merge these dataframes on Player_id"
   ]
  },
  {
   "cell_type": "code",
   "execution_count": 114,
   "id": "016301be",
   "metadata": {},
   "outputs": [
    {
     "data": {
      "text/html": [
       "<div>\n",
       "<style scoped>\n",
       "    .dataframe tbody tr th:only-of-type {\n",
       "        vertical-align: middle;\n",
       "    }\n",
       "\n",
       "    .dataframe tbody tr th {\n",
       "        vertical-align: top;\n",
       "    }\n",
       "\n",
       "    .dataframe thead th {\n",
       "        text-align: right;\n",
       "    }\n",
       "</style>\n",
       "<table border=\"1\" class=\"dataframe\">\n",
       "  <thead>\n",
       "    <tr style=\"text-align: right;\">\n",
       "      <th></th>\n",
       "      <th>team_19</th>\n",
       "      <th>player_name_19</th>\n",
       "      <th>position_19</th>\n",
       "      <th>player_id</th>\n",
       "      <th>height_19</th>\n",
       "      <th>weight_19</th>\n",
       "      <th>years_exp_19</th>\n",
       "      <th>Player_19</th>\n",
       "      <th>Tm_19</th>\n",
       "      <th>Pos_19</th>\n",
       "      <th>...</th>\n",
       "      <th>PassingAtt_21</th>\n",
       "      <th>RushingYds_21</th>\n",
       "      <th>RushingTD_21</th>\n",
       "      <th>RushingAtt_21</th>\n",
       "      <th>ReceivingYds_21</th>\n",
       "      <th>ReceivingTD_21</th>\n",
       "      <th>FantasyPoints_21</th>\n",
       "      <th>Int_21</th>\n",
       "      <th>Fumbles_21</th>\n",
       "      <th>FumblesLost_21</th>\n",
       "    </tr>\n",
       "  </thead>\n",
       "  <tbody>\n",
       "    <tr>\n",
       "      <th>0</th>\n",
       "      <td>ARI</td>\n",
       "      <td>Brett Hundley</td>\n",
       "      <td>QB</td>\n",
       "      <td>00-0031589</td>\n",
       "      <td>75.0</td>\n",
       "      <td>226.0</td>\n",
       "      <td>4.0</td>\n",
       "      <td>Brett Hundley</td>\n",
       "      <td>ARI</td>\n",
       "      <td>QB</td>\n",
       "      <td>...</td>\n",
       "      <td>NaN</td>\n",
       "      <td>NaN</td>\n",
       "      <td>NaN</td>\n",
       "      <td>NaN</td>\n",
       "      <td>NaN</td>\n",
       "      <td>NaN</td>\n",
       "      <td>NaN</td>\n",
       "      <td>NaN</td>\n",
       "      <td>NaN</td>\n",
       "      <td>NaN</td>\n",
       "    </tr>\n",
       "    <tr>\n",
       "      <th>1</th>\n",
       "      <td>ARI</td>\n",
       "      <td>Kyler Murray</td>\n",
       "      <td>QB</td>\n",
       "      <td>00-0035228</td>\n",
       "      <td>70.0</td>\n",
       "      <td>207.0</td>\n",
       "      <td>0.0</td>\n",
       "      <td>Kyler Murray</td>\n",
       "      <td>ARI</td>\n",
       "      <td>QB</td>\n",
       "      <td>...</td>\n",
       "      <td>481.0</td>\n",
       "      <td>423.0</td>\n",
       "      <td>5.0</td>\n",
       "      <td>88.0</td>\n",
       "      <td>7.0</td>\n",
       "      <td>0.0</td>\n",
       "      <td>300.0</td>\n",
       "      <td>10.0</td>\n",
       "      <td>13.0</td>\n",
       "      <td>0.0</td>\n",
       "    </tr>\n",
       "    <tr>\n",
       "      <th>2</th>\n",
       "      <td>ARI</td>\n",
       "      <td>Alfred Morris</td>\n",
       "      <td>RB</td>\n",
       "      <td>00-0029141</td>\n",
       "      <td>70.0</td>\n",
       "      <td>222.0</td>\n",
       "      <td>7.0</td>\n",
       "      <td>Alfred Morris</td>\n",
       "      <td>ARI</td>\n",
       "      <td>RB</td>\n",
       "      <td>...</td>\n",
       "      <td>NaN</td>\n",
       "      <td>NaN</td>\n",
       "      <td>NaN</td>\n",
       "      <td>NaN</td>\n",
       "      <td>NaN</td>\n",
       "      <td>NaN</td>\n",
       "      <td>NaN</td>\n",
       "      <td>NaN</td>\n",
       "      <td>NaN</td>\n",
       "      <td>NaN</td>\n",
       "    </tr>\n",
       "    <tr>\n",
       "      <th>3</th>\n",
       "      <td>ARI</td>\n",
       "      <td>David Johnson</td>\n",
       "      <td>RB</td>\n",
       "      <td>00-0032187</td>\n",
       "      <td>73.0</td>\n",
       "      <td>224.0</td>\n",
       "      <td>4.0</td>\n",
       "      <td>David Johnson</td>\n",
       "      <td>ARI</td>\n",
       "      <td>RB</td>\n",
       "      <td>...</td>\n",
       "      <td>0.0</td>\n",
       "      <td>228.0</td>\n",
       "      <td>0.0</td>\n",
       "      <td>67.0</td>\n",
       "      <td>225.0</td>\n",
       "      <td>1.0</td>\n",
       "      <td>49.0</td>\n",
       "      <td>0.0</td>\n",
       "      <td>1.0</td>\n",
       "      <td>1.0</td>\n",
       "    </tr>\n",
       "    <tr>\n",
       "      <th>4</th>\n",
       "      <td>ARI</td>\n",
       "      <td>Kenyan Drake</td>\n",
       "      <td>RB</td>\n",
       "      <td>00-0033118</td>\n",
       "      <td>73.0</td>\n",
       "      <td>211.0</td>\n",
       "      <td>3.0</td>\n",
       "      <td>Kenyan Drake</td>\n",
       "      <td>2TM</td>\n",
       "      <td>RB</td>\n",
       "      <td>...</td>\n",
       "      <td>0.0</td>\n",
       "      <td>254.0</td>\n",
       "      <td>2.0</td>\n",
       "      <td>63.0</td>\n",
       "      <td>291.0</td>\n",
       "      <td>1.0</td>\n",
       "      <td>73.0</td>\n",
       "      <td>0.0</td>\n",
       "      <td>1.0</td>\n",
       "      <td>0.0</td>\n",
       "    </tr>\n",
       "  </tbody>\n",
       "</table>\n",
       "<p>5 rows × 81 columns</p>\n",
       "</div>"
      ],
      "text/plain": [
       "  team_19 player_name_19 position_19   player_id  height_19  weight_19  \\\n",
       "0     ARI  Brett Hundley          QB  00-0031589       75.0      226.0   \n",
       "1     ARI   Kyler Murray          QB  00-0035228       70.0      207.0   \n",
       "2     ARI  Alfred Morris          RB  00-0029141       70.0      222.0   \n",
       "3     ARI  David Johnson          RB  00-0032187       73.0      224.0   \n",
       "4     ARI   Kenyan Drake          RB  00-0033118       73.0      211.0   \n",
       "\n",
       "   years_exp_19      Player_19 Tm_19 Pos_19  ...  PassingAtt_21  \\\n",
       "0           4.0  Brett Hundley   ARI     QB  ...            NaN   \n",
       "1           0.0   Kyler Murray   ARI     QB  ...          481.0   \n",
       "2           7.0  Alfred Morris   ARI     RB  ...            NaN   \n",
       "3           4.0  David Johnson   ARI     RB  ...            0.0   \n",
       "4           3.0   Kenyan Drake   2TM     RB  ...            0.0   \n",
       "\n",
       "   RushingYds_21  RushingTD_21  RushingAtt_21  ReceivingYds_21  \\\n",
       "0            NaN           NaN            NaN              NaN   \n",
       "1          423.0           5.0           88.0              7.0   \n",
       "2            NaN           NaN            NaN              NaN   \n",
       "3          228.0           0.0           67.0            225.0   \n",
       "4          254.0           2.0           63.0            291.0   \n",
       "\n",
       "   ReceivingTD_21  FantasyPoints_21  Int_21  Fumbles_21  FumblesLost_21  \n",
       "0             NaN               NaN     NaN         NaN             NaN  \n",
       "1             0.0             300.0    10.0        13.0             0.0  \n",
       "2             NaN               NaN     NaN         NaN             NaN  \n",
       "3             1.0              49.0     0.0         1.0             1.0  \n",
       "4             1.0              73.0     0.0         1.0             0.0  \n",
       "\n",
       "[5 rows x 81 columns]"
      ]
     },
     "execution_count": 114,
     "metadata": {},
     "output_type": "execute_result"
    }
   ],
   "source": [
    "# concatenating data frames\n",
    "# adding suffix to 21\n",
    "ff21_r = ff21_r.add_suffix('_21')\n",
    "\n",
    "\n",
    "ff_all = ff19_r.merge(ff20_r, how = 'outer', on = 'player_id', \n",
    "                      suffixes = ('_19', '_20')).merge(ff21_r, how = 'outer', left_on = 'player_id',\n",
    "                                                      right_on = 'player_id_21')\n",
    "\n",
    "ff_all.head()"
   ]
  },
  {
   "cell_type": "markdown",
   "id": "63457a44",
   "metadata": {},
   "source": [
    "After the merges, let's ensure the columns are all relevant and no duplicate information"
   ]
  },
  {
   "cell_type": "code",
   "execution_count": 115,
   "id": "e3bb9cae",
   "metadata": {},
   "outputs": [
    {
     "data": {
      "text/plain": [
       "(882, 81)"
      ]
     },
     "execution_count": 115,
     "metadata": {},
     "output_type": "execute_result"
    }
   ],
   "source": [
    "ff_all.shape"
   ]
  },
  {
   "cell_type": "code",
   "execution_count": 116,
   "id": "f3a2ac54",
   "metadata": {},
   "outputs": [
    {
     "data": {
      "text/plain": [
       "Index(['team_19', 'player_name_19', 'position_19', 'player_id', 'height_19',\n",
       "       'weight_19', 'years_exp_19', 'Player_19', 'Tm_19', 'Pos_19', 'Age_19',\n",
       "       'G_19', 'GS_19', 'Tgt_19', 'Rec_19', 'PassingYds_19', 'PassingTD_19',\n",
       "       'PassingAtt_19', 'RushingYds_19', 'RushingTD_19', 'RushingAtt_19',\n",
       "       'ReceivingYds_19', 'ReceivingTD_19', 'FantasyPoints_19', 'Int_19',\n",
       "       'Fumbles_19', 'FumblesLost_19', 'team_20', 'player_name_20',\n",
       "       'position_20', 'height_20', 'weight_20', 'years_exp_20', 'Player_20',\n",
       "       'Tm_20', 'Pos_20', 'Age_20', 'G_20', 'GS_20', 'Tgt_20', 'Rec_20',\n",
       "       'PassingYds_20', 'PassingTD_20', 'PassingAtt_20', 'RushingYds_20',\n",
       "       'RushingTD_20', 'RushingAtt_20', 'ReceivingYds_20', 'ReceivingTD_20',\n",
       "       'FantasyPoints_20', 'Int_20', 'Fumbles_20', 'FumblesLost_20', 'team_21',\n",
       "       'player_name_21', 'position_21', 'player_id_21', 'height_21',\n",
       "       'weight_21', 'years_exp_21', 'rookie_year_21', 'Player_21', 'Tm_21',\n",
       "       'Pos_21', 'Age_21', 'G_21', 'GS_21', 'Tgt_21', 'Rec_21',\n",
       "       'PassingYds_21', 'PassingTD_21', 'PassingAtt_21', 'RushingYds_21',\n",
       "       'RushingTD_21', 'RushingAtt_21', 'ReceivingYds_21', 'ReceivingTD_21',\n",
       "       'FantasyPoints_21', 'Int_21', 'Fumbles_21', 'FumblesLost_21'],\n",
       "      dtype='object')"
      ]
     },
     "execution_count": 116,
     "metadata": {},
     "output_type": "execute_result"
    }
   ],
   "source": [
    "ff_all.columns"
   ]
  },
  {
   "cell_type": "code",
   "execution_count": 117,
   "id": "304728c3",
   "metadata": {},
   "outputs": [],
   "source": [
    "# get rid of duplicate columns\n",
    "\n",
    "ff_all = ff_all.loc[:,~ff_all.apply(lambda x: x.duplicated(),axis=1).all()].copy()"
   ]
  },
  {
   "cell_type": "code",
   "execution_count": 118,
   "id": "fb968835",
   "metadata": {},
   "outputs": [
    {
     "data": {
      "text/plain": [
       "Index(['team_19', 'player_name_19', 'position_19', 'player_id', 'height_19',\n",
       "       'weight_19', 'years_exp_19', 'Tm_19', 'Pos_19', 'Age_19', 'G_19',\n",
       "       'GS_19', 'Tgt_19', 'Rec_19', 'PassingYds_19', 'PassingTD_19',\n",
       "       'PassingAtt_19', 'RushingYds_19', 'RushingTD_19', 'RushingAtt_19',\n",
       "       'ReceivingYds_19', 'ReceivingTD_19', 'FantasyPoints_19', 'Int_19',\n",
       "       'Fumbles_19', 'FumblesLost_19', 'team_20', 'player_name_20',\n",
       "       'position_20', 'height_20', 'weight_20', 'years_exp_20', 'Tm_20',\n",
       "       'Pos_20', 'Age_20', 'G_20', 'GS_20', 'Tgt_20', 'Rec_20',\n",
       "       'PassingYds_20', 'PassingTD_20', 'PassingAtt_20', 'RushingYds_20',\n",
       "       'RushingTD_20', 'RushingAtt_20', 'ReceivingYds_20', 'ReceivingTD_20',\n",
       "       'FantasyPoints_20', 'Int_20', 'Fumbles_20', 'FumblesLost_20', 'team_21',\n",
       "       'player_name_21', 'position_21', 'player_id_21', 'height_21',\n",
       "       'weight_21', 'years_exp_21', 'rookie_year_21', 'Tm_21', 'Pos_21',\n",
       "       'Age_21', 'G_21', 'GS_21', 'Tgt_21', 'Rec_21', 'PassingYds_21',\n",
       "       'PassingTD_21', 'PassingAtt_21', 'RushingYds_21', 'RushingTD_21',\n",
       "       'RushingAtt_21', 'ReceivingYds_21', 'ReceivingTD_21',\n",
       "       'FantasyPoints_21', 'Int_21', 'Fumbles_21', 'FumblesLost_21'],\n",
       "      dtype='object')"
      ]
     },
     "execution_count": 118,
     "metadata": {},
     "output_type": "execute_result"
    }
   ],
   "source": [
    "ff_all.columns"
   ]
  },
  {
   "cell_type": "markdown",
   "id": "3100c176",
   "metadata": {},
   "source": [
    "There are still plenty of columns, and plenty to possibly get rid of and clean well before modeling. Before that, we will continue bringing data in"
   ]
  },
  {
   "cell_type": "markdown",
   "id": "c750904b",
   "metadata": {},
   "source": [
    "## More to merge\n",
    "\n",
    "Other areas to consider/add features from :\n",
    "    - QBR data set (how did current qb ('21) do in 20 and 19?)\n",
    "    - teams data sets (how well did current team perform offensively last year?)\n",
    "    - how many returning OL?\n",
    "    - next gen stats\n",
    "\n",
    "### QBR Dataset\n",
    "       - not only for the QB themselves, but for the QB of the team the player will be on in current season\n",
    "### Team performance\n",
    "     - how did the team perform that the player is currently on last year?\n",
    "### Next gen stats\n",
    "    - how did the player perform by next gen stats?\n",
    "\n"
   ]
  },
  {
   "cell_type": "markdown",
   "id": "70b910f7",
   "metadata": {},
   "source": [
    "## QBR Data\n",
    "\n",
    "### Initial exploration + Cleaning\n",
    "Getting this ready to merge with the rest of the data"
   ]
  },
  {
   "cell_type": "code",
   "execution_count": 119,
   "id": "45bef5d2",
   "metadata": {},
   "outputs": [
    {
     "data": {
      "text/html": [
       "<div>\n",
       "<style scoped>\n",
       "    .dataframe tbody tr th:only-of-type {\n",
       "        vertical-align: middle;\n",
       "    }\n",
       "\n",
       "    .dataframe tbody tr th {\n",
       "        vertical-align: top;\n",
       "    }\n",
       "\n",
       "    .dataframe thead th {\n",
       "        text-align: right;\n",
       "    }\n",
       "</style>\n",
       "<table border=\"1\" class=\"dataframe\">\n",
       "  <thead>\n",
       "    <tr style=\"text-align: right;\">\n",
       "      <th></th>\n",
       "      <th>season</th>\n",
       "      <th>season_type</th>\n",
       "      <th>game_week</th>\n",
       "      <th>team_abb</th>\n",
       "      <th>player_id</th>\n",
       "      <th>name_short</th>\n",
       "      <th>rank</th>\n",
       "      <th>qbr_total</th>\n",
       "      <th>pts_added</th>\n",
       "      <th>qb_plays</th>\n",
       "      <th>...</th>\n",
       "      <th>exp_sack</th>\n",
       "      <th>penalty</th>\n",
       "      <th>qbr_raw</th>\n",
       "      <th>sack</th>\n",
       "      <th>name_first</th>\n",
       "      <th>name_last</th>\n",
       "      <th>name_display</th>\n",
       "      <th>headshot_href</th>\n",
       "      <th>team</th>\n",
       "      <th>qualified</th>\n",
       "    </tr>\n",
       "  </thead>\n",
       "  <tbody>\n",
       "    <tr>\n",
       "      <th>937</th>\n",
       "      <td>2019</td>\n",
       "      <td>Regular</td>\n",
       "      <td>Season Total</td>\n",
       "      <td>BAL</td>\n",
       "      <td>3916387</td>\n",
       "      <td>L. Jackson</td>\n",
       "      <td>1.0</td>\n",
       "      <td>83.0</td>\n",
       "      <td>66.7</td>\n",
       "      <td>613</td>\n",
       "      <td>...</td>\n",
       "      <td>0</td>\n",
       "      <td>2.2</td>\n",
       "      <td>82.3</td>\n",
       "      <td>-7.4</td>\n",
       "      <td>Lamar</td>\n",
       "      <td>Jackson</td>\n",
       "      <td>Lamar Jackson</td>\n",
       "      <td>https://a.espncdn.com/i/headshots/nfl/players/...</td>\n",
       "      <td>Ravens</td>\n",
       "      <td>True</td>\n",
       "    </tr>\n",
       "    <tr>\n",
       "      <th>938</th>\n",
       "      <td>2019</td>\n",
       "      <td>Regular</td>\n",
       "      <td>Season Total</td>\n",
       "      <td>KC</td>\n",
       "      <td>3139477</td>\n",
       "      <td>P. Mahomes</td>\n",
       "      <td>2.0</td>\n",
       "      <td>77.7</td>\n",
       "      <td>55.8</td>\n",
       "      <td>585</td>\n",
       "      <td>...</td>\n",
       "      <td>0</td>\n",
       "      <td>5.0</td>\n",
       "      <td>79.4</td>\n",
       "      <td>-6.5</td>\n",
       "      <td>Patrick</td>\n",
       "      <td>Mahomes</td>\n",
       "      <td>Patrick Mahomes</td>\n",
       "      <td>https://a.espncdn.com/i/headshots/nfl/players/...</td>\n",
       "      <td>Chiefs</td>\n",
       "      <td>True</td>\n",
       "    </tr>\n",
       "    <tr>\n",
       "      <th>939</th>\n",
       "      <td>2019</td>\n",
       "      <td>Regular</td>\n",
       "      <td>Season Total</td>\n",
       "      <td>NO</td>\n",
       "      <td>2580</td>\n",
       "      <td>D. Brees</td>\n",
       "      <td>3.0</td>\n",
       "      <td>73.3</td>\n",
       "      <td>33.7</td>\n",
       "      <td>419</td>\n",
       "      <td>...</td>\n",
       "      <td>0</td>\n",
       "      <td>1.9</td>\n",
       "      <td>75.7</td>\n",
       "      <td>-6.0</td>\n",
       "      <td>Drew</td>\n",
       "      <td>Brees</td>\n",
       "      <td>Drew Brees</td>\n",
       "      <td>https://a.espncdn.com/i/headshots/nfl/players/...</td>\n",
       "      <td>Saints</td>\n",
       "      <td>True</td>\n",
       "    </tr>\n",
       "    <tr>\n",
       "      <th>940</th>\n",
       "      <td>2019</td>\n",
       "      <td>Regular</td>\n",
       "      <td>Season Total</td>\n",
       "      <td>DAL</td>\n",
       "      <td>2577417</td>\n",
       "      <td>D. Prescott</td>\n",
       "      <td>4.0</td>\n",
       "      <td>71.9</td>\n",
       "      <td>48.1</td>\n",
       "      <td>690</td>\n",
       "      <td>...</td>\n",
       "      <td>0</td>\n",
       "      <td>2.6</td>\n",
       "      <td>72.8</td>\n",
       "      <td>-9.7</td>\n",
       "      <td>Dak</td>\n",
       "      <td>Prescott</td>\n",
       "      <td>Dak Prescott</td>\n",
       "      <td>https://a.espncdn.com/i/headshots/nfl/players/...</td>\n",
       "      <td>Cowboys</td>\n",
       "      <td>True</td>\n",
       "    </tr>\n",
       "    <tr>\n",
       "      <th>941</th>\n",
       "      <td>2019</td>\n",
       "      <td>Regular</td>\n",
       "      <td>Season Total</td>\n",
       "      <td>SEA</td>\n",
       "      <td>14881</td>\n",
       "      <td>R. Wilson</td>\n",
       "      <td>5.0</td>\n",
       "      <td>71.5</td>\n",
       "      <td>43.0</td>\n",
       "      <td>674</td>\n",
       "      <td>...</td>\n",
       "      <td>0</td>\n",
       "      <td>1.5</td>\n",
       "      <td>71.2</td>\n",
       "      <td>-20.6</td>\n",
       "      <td>Russell</td>\n",
       "      <td>Wilson</td>\n",
       "      <td>Russell Wilson</td>\n",
       "      <td>https://a.espncdn.com/i/headshots/nfl/players/...</td>\n",
       "      <td>Seahawks</td>\n",
       "      <td>True</td>\n",
       "    </tr>\n",
       "  </tbody>\n",
       "</table>\n",
       "<p>5 rows × 23 columns</p>\n",
       "</div>"
      ],
      "text/plain": [
       "     season season_type     game_week team_abb  player_id   name_short  rank  \\\n",
       "937    2019     Regular  Season Total      BAL    3916387   L. Jackson   1.0   \n",
       "938    2019     Regular  Season Total       KC    3139477   P. Mahomes   2.0   \n",
       "939    2019     Regular  Season Total       NO       2580     D. Brees   3.0   \n",
       "940    2019     Regular  Season Total      DAL    2577417  D. Prescott   4.0   \n",
       "941    2019     Regular  Season Total      SEA      14881    R. Wilson   5.0   \n",
       "\n",
       "     qbr_total  pts_added  qb_plays  ...  exp_sack  penalty  qbr_raw  sack  \\\n",
       "937       83.0       66.7       613  ...         0      2.2     82.3  -7.4   \n",
       "938       77.7       55.8       585  ...         0      5.0     79.4  -6.5   \n",
       "939       73.3       33.7       419  ...         0      1.9     75.7  -6.0   \n",
       "940       71.9       48.1       690  ...         0      2.6     72.8  -9.7   \n",
       "941       71.5       43.0       674  ...         0      1.5     71.2 -20.6   \n",
       "\n",
       "     name_first  name_last     name_display  \\\n",
       "937       Lamar    Jackson    Lamar Jackson   \n",
       "938     Patrick    Mahomes  Patrick Mahomes   \n",
       "939        Drew      Brees       Drew Brees   \n",
       "940         Dak   Prescott     Dak Prescott   \n",
       "941     Russell     Wilson   Russell Wilson   \n",
       "\n",
       "                                         headshot_href      team qualified  \n",
       "937  https://a.espncdn.com/i/headshots/nfl/players/...    Ravens      True  \n",
       "938  https://a.espncdn.com/i/headshots/nfl/players/...    Chiefs      True  \n",
       "939  https://a.espncdn.com/i/headshots/nfl/players/...    Saints      True  \n",
       "940  https://a.espncdn.com/i/headshots/nfl/players/...   Cowboys      True  \n",
       "941  https://a.espncdn.com/i/headshots/nfl/players/...  Seahawks      True  \n",
       "\n",
       "[5 rows x 23 columns]"
      ]
     },
     "execution_count": 119,
     "metadata": {},
     "output_type": "execute_result"
    }
   ],
   "source": [
    "qbr19.head()"
   ]
  },
  {
   "cell_type": "code",
   "execution_count": 120,
   "id": "6b011fc0",
   "metadata": {},
   "outputs": [
    {
     "data": {
      "text/html": [
       "<div>\n",
       "<style scoped>\n",
       "    .dataframe tbody tr th:only-of-type {\n",
       "        vertical-align: middle;\n",
       "    }\n",
       "\n",
       "    .dataframe tbody tr th {\n",
       "        vertical-align: top;\n",
       "    }\n",
       "\n",
       "    .dataframe thead th {\n",
       "        text-align: right;\n",
       "    }\n",
       "</style>\n",
       "<table border=\"1\" class=\"dataframe\">\n",
       "  <thead>\n",
       "    <tr style=\"text-align: right;\">\n",
       "      <th></th>\n",
       "      <th>team_19</th>\n",
       "      <th>player_name_19</th>\n",
       "      <th>position_19</th>\n",
       "      <th>player_id</th>\n",
       "      <th>height_19</th>\n",
       "      <th>weight_19</th>\n",
       "      <th>years_exp_19</th>\n",
       "      <th>Tm_19</th>\n",
       "      <th>Pos_19</th>\n",
       "      <th>Age_19</th>\n",
       "      <th>...</th>\n",
       "      <th>PassingAtt_21</th>\n",
       "      <th>RushingYds_21</th>\n",
       "      <th>RushingTD_21</th>\n",
       "      <th>RushingAtt_21</th>\n",
       "      <th>ReceivingYds_21</th>\n",
       "      <th>ReceivingTD_21</th>\n",
       "      <th>FantasyPoints_21</th>\n",
       "      <th>Int_21</th>\n",
       "      <th>Fumbles_21</th>\n",
       "      <th>FumblesLost_21</th>\n",
       "    </tr>\n",
       "  </thead>\n",
       "  <tbody>\n",
       "    <tr>\n",
       "      <th>38</th>\n",
       "      <td>BAL</td>\n",
       "      <td>Lamar Jackson</td>\n",
       "      <td>QB</td>\n",
       "      <td>00-0034796</td>\n",
       "      <td>74.0</td>\n",
       "      <td>212.0</td>\n",
       "      <td>1.0</td>\n",
       "      <td>BAL</td>\n",
       "      <td>QB</td>\n",
       "      <td>22.0</td>\n",
       "      <td>...</td>\n",
       "      <td>382.0</td>\n",
       "      <td>767.0</td>\n",
       "      <td>2.0</td>\n",
       "      <td>133.0</td>\n",
       "      <td>0.0</td>\n",
       "      <td>0.0</td>\n",
       "      <td>240.0</td>\n",
       "      <td>13.0</td>\n",
       "      <td>6.0</td>\n",
       "      <td>3.0</td>\n",
       "    </tr>\n",
       "  </tbody>\n",
       "</table>\n",
       "<p>1 rows × 78 columns</p>\n",
       "</div>"
      ],
      "text/plain": [
       "   team_19 player_name_19 position_19   player_id  height_19  weight_19  \\\n",
       "38     BAL  Lamar Jackson          QB  00-0034796       74.0      212.0   \n",
       "\n",
       "    years_exp_19 Tm_19 Pos_19  Age_19  ...  PassingAtt_21  RushingYds_21  \\\n",
       "38           1.0   BAL     QB    22.0  ...          382.0          767.0   \n",
       "\n",
       "    RushingTD_21  RushingAtt_21  ReceivingYds_21  ReceivingTD_21  \\\n",
       "38           2.0          133.0              0.0             0.0   \n",
       "\n",
       "    FantasyPoints_21  Int_21  Fumbles_21  FumblesLost_21  \n",
       "38             240.0    13.0         6.0             3.0  \n",
       "\n",
       "[1 rows x 78 columns]"
      ]
     },
     "execution_count": 120,
     "metadata": {},
     "output_type": "execute_result"
    }
   ],
   "source": [
    "# player_id looks different in qbr than in rosters dataset\n",
    "# let's see if theres a difference\n",
    "\n",
    "ff_all[ff_all['player_name_19'] == 'Lamar Jackson']"
   ]
  },
  {
   "cell_type": "markdown",
   "id": "0775596c",
   "metadata": {},
   "source": [
    "player_id isn't the same between QBR dataset and the rest of our data. Need to join on different keys.\n",
    "\n",
    "Also, let's see what qbs are \"qualified\" and see what other columns we can get rid of in 2019 data"
   ]
  },
  {
   "cell_type": "code",
   "execution_count": 121,
   "id": "a37f650c",
   "metadata": {},
   "outputs": [
    {
     "data": {
      "text/plain": [
       "True     42\n",
       "False    39\n",
       "Name: qualified, dtype: int64"
      ]
     },
     "execution_count": 121,
     "metadata": {},
     "output_type": "execute_result"
    }
   ],
   "source": [
    "qbr19['qualified'].value_counts()"
   ]
  },
  {
   "cell_type": "code",
   "execution_count": 122,
   "id": "5a1ce6e7",
   "metadata": {},
   "outputs": [
    {
     "data": {
      "text/plain": [
       "count     81.000000\n",
       "mean     249.000000\n",
       "std      290.395592\n",
       "min        1.000000\n",
       "25%        1.000000\n",
       "50%       76.000000\n",
       "75%      588.000000\n",
       "max      772.000000\n",
       "Name: qb_plays, dtype: float64"
      ]
     },
     "execution_count": 122,
     "metadata": {},
     "output_type": "execute_result"
    }
   ],
   "source": [
    "qbr19['qb_plays'].describe()"
   ]
  },
  {
   "cell_type": "code",
   "execution_count": 123,
   "id": "efdccad7",
   "metadata": {},
   "outputs": [
    {
     "data": {
      "text/plain": [
       "count     84.000000\n",
       "mean     246.595238\n",
       "std      275.832021\n",
       "min        1.000000\n",
       "25%        3.000000\n",
       "50%       81.500000\n",
       "75%      548.750000\n",
       "max      763.000000\n",
       "Name: qb_plays, dtype: float64"
      ]
     },
     "execution_count": 123,
     "metadata": {},
     "output_type": "execute_result"
    }
   ],
   "source": [
    "qbr20['qb_plays'].describe()"
   ]
  },
  {
   "cell_type": "code",
   "execution_count": 129,
   "id": "9b23e15f",
   "metadata": {},
   "outputs": [],
   "source": [
    "# lets get rid of QBs with less than 25 plays\n",
    "\n",
    "qbr19 = qbr19.loc[qbr19['qb_plays'] >= 25]\n",
    "qbr20 = qbr20.loc[qbr20['qb_plays'] >= 25]\n",
    "qbr21 = qbr21.loc[qbr21['qb_plays'] >= 25]"
   ]
  },
  {
   "cell_type": "code",
   "execution_count": 130,
   "id": "b0a2f412",
   "metadata": {},
   "outputs": [
    {
     "data": {
      "text/plain": [
       "Regular    35\n",
       "Name: season_type, dtype: int64"
      ]
     },
     "execution_count": 130,
     "metadata": {},
     "output_type": "execute_result"
    }
   ],
   "source": [
    "qbr19['season_type'].value_counts()"
   ]
  },
  {
   "cell_type": "code",
   "execution_count": 131,
   "id": "97d688ad",
   "metadata": {},
   "outputs": [],
   "source": [
    "# let's get rid of playoffs, as well\n",
    "\n",
    "qbr19 = qbr19.loc[qbr19['season_type'] == 'Regular']\n",
    "qbr20 = qbr20.loc[qbr20['season_type'] == 'Regular']\n",
    "qbr21 = qbr21.loc[qbr21['season_type'] == 'Regular']"
   ]
  },
  {
   "cell_type": "code",
   "execution_count": 132,
   "id": "6f112c8b",
   "metadata": {},
   "outputs": [
    {
     "data": {
      "text/plain": [
       "Index(['season', 'season_type', 'game_week', 'team_abb', 'player_id',\n",
       "       'name_short', 'rank', 'qbr_total', 'pts_added', 'qb_plays', 'epa_total',\n",
       "       'pass', 'run', 'exp_sack', 'penalty', 'qbr_raw', 'sack', 'name_first',\n",
       "       'name_last', 'name_display', 'headshot_href', 'team', 'qualified'],\n",
       "      dtype='object')"
      ]
     },
     "execution_count": 132,
     "metadata": {},
     "output_type": "execute_result"
    }
   ],
   "source": [
    "# let's lessen the columns\n",
    "\n",
    "qbr19.columns"
   ]
  },
  {
   "cell_type": "code",
   "execution_count": 133,
   "id": "ee9ee4f3",
   "metadata": {},
   "outputs": [
    {
     "data": {
      "text/html": [
       "<div>\n",
       "<style scoped>\n",
       "    .dataframe tbody tr th:only-of-type {\n",
       "        vertical-align: middle;\n",
       "    }\n",
       "\n",
       "    .dataframe tbody tr th {\n",
       "        vertical-align: top;\n",
       "    }\n",
       "\n",
       "    .dataframe thead th {\n",
       "        text-align: right;\n",
       "    }\n",
       "</style>\n",
       "<table border=\"1\" class=\"dataframe\">\n",
       "  <thead>\n",
       "    <tr style=\"text-align: right;\">\n",
       "      <th></th>\n",
       "      <th>season</th>\n",
       "      <th>player_id</th>\n",
       "      <th>rank</th>\n",
       "      <th>qbr_total</th>\n",
       "      <th>pts_added</th>\n",
       "      <th>qb_plays</th>\n",
       "      <th>epa_total</th>\n",
       "      <th>pass</th>\n",
       "      <th>run</th>\n",
       "      <th>exp_sack</th>\n",
       "      <th>penalty</th>\n",
       "      <th>qbr_raw</th>\n",
       "      <th>sack</th>\n",
       "    </tr>\n",
       "  </thead>\n",
       "  <tbody>\n",
       "    <tr>\n",
       "      <th>count</th>\n",
       "      <td>35.0</td>\n",
       "      <td>3.500000e+01</td>\n",
       "      <td>30.000000</td>\n",
       "      <td>35.000000</td>\n",
       "      <td>35.000000</td>\n",
       "      <td>35.000000</td>\n",
       "      <td>35.000000</td>\n",
       "      <td>35.000000</td>\n",
       "      <td>35.000000</td>\n",
       "      <td>35.0</td>\n",
       "      <td>35.000000</td>\n",
       "      <td>35.000000</td>\n",
       "      <td>35.000000</td>\n",
       "    </tr>\n",
       "    <tr>\n",
       "      <th>mean</th>\n",
       "      <td>2019.0</td>\n",
       "      <td>1.604388e+06</td>\n",
       "      <td>15.500000</td>\n",
       "      <td>58.314286</td>\n",
       "      <td>14.125714</td>\n",
       "      <td>545.228571</td>\n",
       "      <td>55.425714</td>\n",
       "      <td>34.440000</td>\n",
       "      <td>5.648571</td>\n",
       "      <td>0.0</td>\n",
       "      <td>2.868571</td>\n",
       "      <td>58.914286</td>\n",
       "      <td>-12.485714</td>\n",
       "    </tr>\n",
       "    <tr>\n",
       "      <th>std</th>\n",
       "      <td>0.0</td>\n",
       "      <td>1.702192e+06</td>\n",
       "      <td>8.799491</td>\n",
       "      <td>11.846845</td>\n",
       "      <td>21.025298</td>\n",
       "      <td>193.770648</td>\n",
       "      <td>26.622871</td>\n",
       "      <td>20.078818</td>\n",
       "      <td>8.338725</td>\n",
       "      <td>0.0</td>\n",
       "      <td>1.809578</td>\n",
       "      <td>12.524239</td>\n",
       "      <td>5.308270</td>\n",
       "    </tr>\n",
       "    <tr>\n",
       "      <th>min</th>\n",
       "      <td>2019.0</td>\n",
       "      <td>2.330000e+03</td>\n",
       "      <td>1.000000</td>\n",
       "      <td>36.200000</td>\n",
       "      <td>-20.100000</td>\n",
       "      <td>76.000000</td>\n",
       "      <td>8.300000</td>\n",
       "      <td>5.300000</td>\n",
       "      <td>-7.300000</td>\n",
       "      <td>0.0</td>\n",
       "      <td>-0.600000</td>\n",
       "      <td>36.800000</td>\n",
       "      <td>-20.600000</td>\n",
       "    </tr>\n",
       "    <tr>\n",
       "      <th>25%</th>\n",
       "      <td>2019.0</td>\n",
       "      <td>1.186150e+04</td>\n",
       "      <td>8.250000</td>\n",
       "      <td>50.700000</td>\n",
       "      <td>0.450000</td>\n",
       "      <td>472.000000</td>\n",
       "      <td>35.700000</td>\n",
       "      <td>17.550000</td>\n",
       "      <td>-0.050000</td>\n",
       "      <td>0.0</td>\n",
       "      <td>1.550000</td>\n",
       "      <td>50.300000</td>\n",
       "      <td>-17.050000</td>\n",
       "    </tr>\n",
       "    <tr>\n",
       "      <th>50%</th>\n",
       "      <td>2019.0</td>\n",
       "      <td>1.676000e+04</td>\n",
       "      <td>16.000000</td>\n",
       "      <td>57.500000</td>\n",
       "      <td>10.900000</td>\n",
       "      <td>600.000000</td>\n",
       "      <td>57.100000</td>\n",
       "      <td>39.700000</td>\n",
       "      <td>4.500000</td>\n",
       "      <td>0.0</td>\n",
       "      <td>2.600000</td>\n",
       "      <td>58.000000</td>\n",
       "      <td>-13.100000</td>\n",
       "    </tr>\n",
       "    <tr>\n",
       "      <th>75%</th>\n",
       "      <td>2019.0</td>\n",
       "      <td>3.115850e+06</td>\n",
       "      <td>22.750000</td>\n",
       "      <td>66.250000</td>\n",
       "      <td>27.150000</td>\n",
       "      <td>682.000000</td>\n",
       "      <td>71.150000</td>\n",
       "      <td>50.350000</td>\n",
       "      <td>9.750000</td>\n",
       "      <td>0.0</td>\n",
       "      <td>4.050000</td>\n",
       "      <td>66.900000</td>\n",
       "      <td>-8.400000</td>\n",
       "    </tr>\n",
       "    <tr>\n",
       "      <th>max</th>\n",
       "      <td>2019.0</td>\n",
       "      <td>4.038524e+06</td>\n",
       "      <td>30.000000</td>\n",
       "      <td>83.000000</td>\n",
       "      <td>66.700000</td>\n",
       "      <td>772.000000</td>\n",
       "      <td>103.700000</td>\n",
       "      <td>71.600000</td>\n",
       "      <td>39.100000</td>\n",
       "      <td>0.0</td>\n",
       "      <td>6.400000</td>\n",
       "      <td>82.400000</td>\n",
       "      <td>-0.600000</td>\n",
       "    </tr>\n",
       "  </tbody>\n",
       "</table>\n",
       "</div>"
      ],
      "text/plain": [
       "       season     player_id       rank  qbr_total  pts_added    qb_plays  \\\n",
       "count    35.0  3.500000e+01  30.000000  35.000000  35.000000   35.000000   \n",
       "mean   2019.0  1.604388e+06  15.500000  58.314286  14.125714  545.228571   \n",
       "std       0.0  1.702192e+06   8.799491  11.846845  21.025298  193.770648   \n",
       "min    2019.0  2.330000e+03   1.000000  36.200000 -20.100000   76.000000   \n",
       "25%    2019.0  1.186150e+04   8.250000  50.700000   0.450000  472.000000   \n",
       "50%    2019.0  1.676000e+04  16.000000  57.500000  10.900000  600.000000   \n",
       "75%    2019.0  3.115850e+06  22.750000  66.250000  27.150000  682.000000   \n",
       "max    2019.0  4.038524e+06  30.000000  83.000000  66.700000  772.000000   \n",
       "\n",
       "        epa_total       pass        run  exp_sack    penalty    qbr_raw  \\\n",
       "count   35.000000  35.000000  35.000000      35.0  35.000000  35.000000   \n",
       "mean    55.425714  34.440000   5.648571       0.0   2.868571  58.914286   \n",
       "std     26.622871  20.078818   8.338725       0.0   1.809578  12.524239   \n",
       "min      8.300000   5.300000  -7.300000       0.0  -0.600000  36.800000   \n",
       "25%     35.700000  17.550000  -0.050000       0.0   1.550000  50.300000   \n",
       "50%     57.100000  39.700000   4.500000       0.0   2.600000  58.000000   \n",
       "75%     71.150000  50.350000   9.750000       0.0   4.050000  66.900000   \n",
       "max    103.700000  71.600000  39.100000       0.0   6.400000  82.400000   \n",
       "\n",
       "            sack  \n",
       "count  35.000000  \n",
       "mean  -12.485714  \n",
       "std     5.308270  \n",
       "min   -20.600000  \n",
       "25%   -17.050000  \n",
       "50%   -13.100000  \n",
       "75%    -8.400000  \n",
       "max    -0.600000  "
      ]
     },
     "execution_count": 133,
     "metadata": {},
     "output_type": "execute_result"
    }
   ],
   "source": [
    "qbr19.describe()"
   ]
  },
  {
   "cell_type": "code",
   "execution_count": 138,
   "id": "61ee986b",
   "metadata": {},
   "outputs": [
    {
     "ename": "KeyError",
     "evalue": "\"['season_type', 'game_week', 'name_short', 'rank', 'penalty', 'name_first', 'name_last', 'headshot_href', 'team', 'qualified'] not found in axis\"",
     "output_type": "error",
     "traceback": [
      "\u001b[1;31m---------------------------------------------------------------------------\u001b[0m",
      "\u001b[1;31mKeyError\u001b[0m                                  Traceback (most recent call last)",
      "\u001b[1;32m~\\AppData\\Local\\Temp/ipykernel_15568/2662159797.py\u001b[0m in \u001b[0;36m<module>\u001b[1;34m\u001b[0m\n\u001b[0;32m      4\u001b[0m                      'headshot_href', 'team', 'qualified']\n\u001b[0;32m      5\u001b[0m \u001b[1;33m\u001b[0m\u001b[0m\n\u001b[1;32m----> 6\u001b[1;33m \u001b[0mqbr19\u001b[0m\u001b[1;33m.\u001b[0m\u001b[0mdrop\u001b[0m\u001b[1;33m(\u001b[0m\u001b[0mcolumns\u001b[0m \u001b[1;33m=\u001b[0m \u001b[0mqbr_irrel\u001b[0m\u001b[1;33m,\u001b[0m \u001b[0minplace\u001b[0m \u001b[1;33m=\u001b[0m \u001b[1;32mTrue\u001b[0m\u001b[1;33m)\u001b[0m\u001b[1;33m\u001b[0m\u001b[1;33m\u001b[0m\u001b[0m\n\u001b[0m\u001b[0;32m      7\u001b[0m \u001b[0mqbr20\u001b[0m\u001b[1;33m.\u001b[0m\u001b[0mdrop\u001b[0m\u001b[1;33m(\u001b[0m\u001b[0mcolumns\u001b[0m \u001b[1;33m=\u001b[0m \u001b[0mqbr_irrel\u001b[0m\u001b[1;33m,\u001b[0m \u001b[0minplace\u001b[0m \u001b[1;33m=\u001b[0m \u001b[1;32mTrue\u001b[0m\u001b[1;33m)\u001b[0m\u001b[1;33m\u001b[0m\u001b[1;33m\u001b[0m\u001b[0m\n\u001b[0;32m      8\u001b[0m \u001b[0mqbr21\u001b[0m\u001b[1;33m.\u001b[0m\u001b[0mdrop\u001b[0m\u001b[1;33m(\u001b[0m\u001b[0mcolumns\u001b[0m \u001b[1;33m=\u001b[0m \u001b[0mqbr_irrel\u001b[0m\u001b[1;33m,\u001b[0m \u001b[0minplace\u001b[0m \u001b[1;33m=\u001b[0m \u001b[1;32mTrue\u001b[0m\u001b[1;33m)\u001b[0m\u001b[1;33m\u001b[0m\u001b[1;33m\u001b[0m\u001b[0m\n",
      "\u001b[1;32m~\\miniconda3\\lib\\site-packages\\pandas\\util\\_decorators.py\u001b[0m in \u001b[0;36mwrapper\u001b[1;34m(*args, **kwargs)\u001b[0m\n\u001b[0;32m    329\u001b[0m                     \u001b[0mstacklevel\u001b[0m\u001b[1;33m=\u001b[0m\u001b[0mfind_stack_level\u001b[0m\u001b[1;33m(\u001b[0m\u001b[1;33m)\u001b[0m\u001b[1;33m,\u001b[0m\u001b[1;33m\u001b[0m\u001b[1;33m\u001b[0m\u001b[0m\n\u001b[0;32m    330\u001b[0m                 )\n\u001b[1;32m--> 331\u001b[1;33m             \u001b[1;32mreturn\u001b[0m \u001b[0mfunc\u001b[0m\u001b[1;33m(\u001b[0m\u001b[1;33m*\u001b[0m\u001b[0margs\u001b[0m\u001b[1;33m,\u001b[0m \u001b[1;33m**\u001b[0m\u001b[0mkwargs\u001b[0m\u001b[1;33m)\u001b[0m\u001b[1;33m\u001b[0m\u001b[1;33m\u001b[0m\u001b[0m\n\u001b[0m\u001b[0;32m    332\u001b[0m \u001b[1;33m\u001b[0m\u001b[0m\n\u001b[0;32m    333\u001b[0m         \u001b[1;31m# error: \"Callable[[VarArg(Any), KwArg(Any)], Any]\" has no\u001b[0m\u001b[1;33m\u001b[0m\u001b[1;33m\u001b[0m\u001b[1;33m\u001b[0m\u001b[0m\n",
      "\u001b[1;32m~\\miniconda3\\lib\\site-packages\\pandas\\core\\frame.py\u001b[0m in \u001b[0;36mdrop\u001b[1;34m(self, labels, axis, index, columns, level, inplace, errors)\u001b[0m\n\u001b[0;32m   5394\u001b[0m                 \u001b[0mweight\u001b[0m  \u001b[1;36m1.0\u001b[0m     \u001b[1;36m0.8\u001b[0m\u001b[1;33m\u001b[0m\u001b[1;33m\u001b[0m\u001b[0m\n\u001b[0;32m   5395\u001b[0m         \"\"\"\n\u001b[1;32m-> 5396\u001b[1;33m         return super().drop(\n\u001b[0m\u001b[0;32m   5397\u001b[0m             \u001b[0mlabels\u001b[0m\u001b[1;33m=\u001b[0m\u001b[0mlabels\u001b[0m\u001b[1;33m,\u001b[0m\u001b[1;33m\u001b[0m\u001b[1;33m\u001b[0m\u001b[0m\n\u001b[0;32m   5398\u001b[0m             \u001b[0maxis\u001b[0m\u001b[1;33m=\u001b[0m\u001b[0maxis\u001b[0m\u001b[1;33m,\u001b[0m\u001b[1;33m\u001b[0m\u001b[1;33m\u001b[0m\u001b[0m\n",
      "\u001b[1;32m~\\miniconda3\\lib\\site-packages\\pandas\\util\\_decorators.py\u001b[0m in \u001b[0;36mwrapper\u001b[1;34m(*args, **kwargs)\u001b[0m\n\u001b[0;32m    329\u001b[0m                     \u001b[0mstacklevel\u001b[0m\u001b[1;33m=\u001b[0m\u001b[0mfind_stack_level\u001b[0m\u001b[1;33m(\u001b[0m\u001b[1;33m)\u001b[0m\u001b[1;33m,\u001b[0m\u001b[1;33m\u001b[0m\u001b[1;33m\u001b[0m\u001b[0m\n\u001b[0;32m    330\u001b[0m                 )\n\u001b[1;32m--> 331\u001b[1;33m             \u001b[1;32mreturn\u001b[0m \u001b[0mfunc\u001b[0m\u001b[1;33m(\u001b[0m\u001b[1;33m*\u001b[0m\u001b[0margs\u001b[0m\u001b[1;33m,\u001b[0m \u001b[1;33m**\u001b[0m\u001b[0mkwargs\u001b[0m\u001b[1;33m)\u001b[0m\u001b[1;33m\u001b[0m\u001b[1;33m\u001b[0m\u001b[0m\n\u001b[0m\u001b[0;32m    332\u001b[0m \u001b[1;33m\u001b[0m\u001b[0m\n\u001b[0;32m    333\u001b[0m         \u001b[1;31m# error: \"Callable[[VarArg(Any), KwArg(Any)], Any]\" has no\u001b[0m\u001b[1;33m\u001b[0m\u001b[1;33m\u001b[0m\u001b[1;33m\u001b[0m\u001b[0m\n",
      "\u001b[1;32m~\\miniconda3\\lib\\site-packages\\pandas\\core\\generic.py\u001b[0m in \u001b[0;36mdrop\u001b[1;34m(self, labels, axis, index, columns, level, inplace, errors)\u001b[0m\n\u001b[0;32m   4503\u001b[0m         \u001b[1;32mfor\u001b[0m \u001b[0maxis\u001b[0m\u001b[1;33m,\u001b[0m \u001b[0mlabels\u001b[0m \u001b[1;32min\u001b[0m \u001b[0maxes\u001b[0m\u001b[1;33m.\u001b[0m\u001b[0mitems\u001b[0m\u001b[1;33m(\u001b[0m\u001b[1;33m)\u001b[0m\u001b[1;33m:\u001b[0m\u001b[1;33m\u001b[0m\u001b[1;33m\u001b[0m\u001b[0m\n\u001b[0;32m   4504\u001b[0m             \u001b[1;32mif\u001b[0m \u001b[0mlabels\u001b[0m \u001b[1;32mis\u001b[0m \u001b[1;32mnot\u001b[0m \u001b[1;32mNone\u001b[0m\u001b[1;33m:\u001b[0m\u001b[1;33m\u001b[0m\u001b[1;33m\u001b[0m\u001b[0m\n\u001b[1;32m-> 4505\u001b[1;33m                 \u001b[0mobj\u001b[0m \u001b[1;33m=\u001b[0m \u001b[0mobj\u001b[0m\u001b[1;33m.\u001b[0m\u001b[0m_drop_axis\u001b[0m\u001b[1;33m(\u001b[0m\u001b[0mlabels\u001b[0m\u001b[1;33m,\u001b[0m \u001b[0maxis\u001b[0m\u001b[1;33m,\u001b[0m \u001b[0mlevel\u001b[0m\u001b[1;33m=\u001b[0m\u001b[0mlevel\u001b[0m\u001b[1;33m,\u001b[0m \u001b[0merrors\u001b[0m\u001b[1;33m=\u001b[0m\u001b[0merrors\u001b[0m\u001b[1;33m)\u001b[0m\u001b[1;33m\u001b[0m\u001b[1;33m\u001b[0m\u001b[0m\n\u001b[0m\u001b[0;32m   4506\u001b[0m \u001b[1;33m\u001b[0m\u001b[0m\n\u001b[0;32m   4507\u001b[0m         \u001b[1;32mif\u001b[0m \u001b[0minplace\u001b[0m\u001b[1;33m:\u001b[0m\u001b[1;33m\u001b[0m\u001b[1;33m\u001b[0m\u001b[0m\n",
      "\u001b[1;32m~\\miniconda3\\lib\\site-packages\\pandas\\core\\generic.py\u001b[0m in \u001b[0;36m_drop_axis\u001b[1;34m(self, labels, axis, level, errors, only_slice)\u001b[0m\n\u001b[0;32m   4544\u001b[0m                 \u001b[0mnew_axis\u001b[0m \u001b[1;33m=\u001b[0m \u001b[0maxis\u001b[0m\u001b[1;33m.\u001b[0m\u001b[0mdrop\u001b[0m\u001b[1;33m(\u001b[0m\u001b[0mlabels\u001b[0m\u001b[1;33m,\u001b[0m \u001b[0mlevel\u001b[0m\u001b[1;33m=\u001b[0m\u001b[0mlevel\u001b[0m\u001b[1;33m,\u001b[0m \u001b[0merrors\u001b[0m\u001b[1;33m=\u001b[0m\u001b[0merrors\u001b[0m\u001b[1;33m)\u001b[0m\u001b[1;33m\u001b[0m\u001b[1;33m\u001b[0m\u001b[0m\n\u001b[0;32m   4545\u001b[0m             \u001b[1;32melse\u001b[0m\u001b[1;33m:\u001b[0m\u001b[1;33m\u001b[0m\u001b[1;33m\u001b[0m\u001b[0m\n\u001b[1;32m-> 4546\u001b[1;33m                 \u001b[0mnew_axis\u001b[0m \u001b[1;33m=\u001b[0m \u001b[0maxis\u001b[0m\u001b[1;33m.\u001b[0m\u001b[0mdrop\u001b[0m\u001b[1;33m(\u001b[0m\u001b[0mlabels\u001b[0m\u001b[1;33m,\u001b[0m \u001b[0merrors\u001b[0m\u001b[1;33m=\u001b[0m\u001b[0merrors\u001b[0m\u001b[1;33m)\u001b[0m\u001b[1;33m\u001b[0m\u001b[1;33m\u001b[0m\u001b[0m\n\u001b[0m\u001b[0;32m   4547\u001b[0m             \u001b[0mindexer\u001b[0m \u001b[1;33m=\u001b[0m \u001b[0maxis\u001b[0m\u001b[1;33m.\u001b[0m\u001b[0mget_indexer\u001b[0m\u001b[1;33m(\u001b[0m\u001b[0mnew_axis\u001b[0m\u001b[1;33m)\u001b[0m\u001b[1;33m\u001b[0m\u001b[1;33m\u001b[0m\u001b[0m\n\u001b[0;32m   4548\u001b[0m \u001b[1;33m\u001b[0m\u001b[0m\n",
      "\u001b[1;32m~\\miniconda3\\lib\\site-packages\\pandas\\core\\indexes\\base.py\u001b[0m in \u001b[0;36mdrop\u001b[1;34m(self, labels, errors)\u001b[0m\n\u001b[0;32m   6975\u001b[0m         \u001b[1;32mif\u001b[0m \u001b[0mmask\u001b[0m\u001b[1;33m.\u001b[0m\u001b[0many\u001b[0m\u001b[1;33m(\u001b[0m\u001b[1;33m)\u001b[0m\u001b[1;33m:\u001b[0m\u001b[1;33m\u001b[0m\u001b[1;33m\u001b[0m\u001b[0m\n\u001b[0;32m   6976\u001b[0m             \u001b[1;32mif\u001b[0m \u001b[0merrors\u001b[0m \u001b[1;33m!=\u001b[0m \u001b[1;34m\"ignore\"\u001b[0m\u001b[1;33m:\u001b[0m\u001b[1;33m\u001b[0m\u001b[1;33m\u001b[0m\u001b[0m\n\u001b[1;32m-> 6977\u001b[1;33m                 \u001b[1;32mraise\u001b[0m \u001b[0mKeyError\u001b[0m\u001b[1;33m(\u001b[0m\u001b[1;34mf\"{list(labels[mask])} not found in axis\"\u001b[0m\u001b[1;33m)\u001b[0m\u001b[1;33m\u001b[0m\u001b[1;33m\u001b[0m\u001b[0m\n\u001b[0m\u001b[0;32m   6978\u001b[0m             \u001b[0mindexer\u001b[0m \u001b[1;33m=\u001b[0m \u001b[0mindexer\u001b[0m\u001b[1;33m[\u001b[0m\u001b[1;33m~\u001b[0m\u001b[0mmask\u001b[0m\u001b[1;33m]\u001b[0m\u001b[1;33m\u001b[0m\u001b[1;33m\u001b[0m\u001b[0m\n\u001b[0;32m   6979\u001b[0m         \u001b[1;32mreturn\u001b[0m \u001b[0mself\u001b[0m\u001b[1;33m.\u001b[0m\u001b[0mdelete\u001b[0m\u001b[1;33m(\u001b[0m\u001b[0mindexer\u001b[0m\u001b[1;33m)\u001b[0m\u001b[1;33m\u001b[0m\u001b[1;33m\u001b[0m\u001b[0m\n",
      "\u001b[1;31mKeyError\u001b[0m: \"['season_type', 'game_week', 'name_short', 'rank', 'penalty', 'name_first', 'name_last', 'headshot_href', 'team', 'qualified'] not found in axis\""
     ]
    }
   ],
   "source": [
    "# dropping columns from DFs\n",
    "\n",
    "qbr_irrel = ['season','season_type', 'game_week', 'name_short', 'rank', 'penalty', 'name_first', 'name_last',\n",
    "                     'headshot_href', 'team', 'qualified']\n",
    "\n",
    "qbr19.drop(columns = qbr_irrel, inplace = True)\n",
    "qbr20.drop(columns = qbr_irrel, inplace = True)\n",
    "qbr21.drop(columns = qbr_irrel, inplace = True)"
   ]
  },
  {
   "cell_type": "code",
   "execution_count": 139,
   "id": "5407eb2d",
   "metadata": {},
   "outputs": [
    {
     "data": {
      "text/plain": [
       "Index(['season', 'team_abb', 'player_id', 'qbr_total', 'pts_added', 'qb_plays',\n",
       "       'epa_total', 'pass', 'run', 'exp_sack', 'qbr_raw', 'sack',\n",
       "       'name_display'],\n",
       "      dtype='object')"
      ]
     },
     "execution_count": 139,
     "metadata": {},
     "output_type": "execute_result"
    }
   ],
   "source": [
    "qbr19.columns"
   ]
  },
  {
   "cell_type": "code",
   "execution_count": 135,
   "id": "964e9806",
   "metadata": {
    "scrolled": true
   },
   "outputs": [
    {
     "data": {
      "text/plain": [
       "season          0\n",
       "team_abb        0\n",
       "player_id       0\n",
       "qbr_total       0\n",
       "pts_added       0\n",
       "qb_plays        0\n",
       "epa_total       0\n",
       "pass            0\n",
       "run             0\n",
       "exp_sack        0\n",
       "qbr_raw         0\n",
       "sack            0\n",
       "name_display    0\n",
       "dtype: int64"
      ]
     },
     "execution_count": 135,
     "metadata": {},
     "output_type": "execute_result"
    }
   ],
   "source": [
    "# any nulls, now that these are more compact?\n",
    "\n",
    "qbr19.isnull().sum()\n",
    "qbr20.isnull().sum()\n",
    "qbr21.isnull().sum()"
   ]
  },
  {
   "cell_type": "code",
   "execution_count": 136,
   "id": "6067ef59",
   "metadata": {},
   "outputs": [],
   "source": [
    "# merging these with ff_all\n",
    "\n",
    "# first merging all qbr dataframes\n",
    "# player_id is usable for these merges\n",
    "# outer to ensure we capture rookies or qbs that didn't qualify previous year\n",
    "\n",
    "qbr_all = qbr19.merge(qbr20, on = 'player_id', how = 'outer', suffixes = ['_19', '_20']) \\\n",
    "                .merge(qbr21, on = 'player_id', how = 'outer', suffixes = ['', '_21'])"
   ]
  },
  {
   "cell_type": "code",
   "execution_count": 141,
   "id": "4606a404",
   "metadata": {},
   "outputs": [
    {
     "data": {
      "text/plain": [
       "Index(['season_19', 'team_abb_19', 'player_id', 'qbr_total_19', 'pts_added_19',\n",
       "       'qb_plays_19', 'epa_total_19', 'pass_19', 'run_19', 'exp_sack_19',\n",
       "       'qbr_raw_19', 'sack_19', 'name_display_19', 'season_20', 'team_abb_20',\n",
       "       'qbr_total_20', 'pts_added_20', 'qb_plays_20', 'epa_total_20',\n",
       "       'pass_20', 'run_20', 'exp_sack_20', 'qbr_raw_20', 'sack_20',\n",
       "       'name_display_20', 'season', 'team_abb', 'qbr_total', 'pts_added',\n",
       "       'qb_plays', 'epa_total', 'pass', 'run', 'exp_sack', 'qbr_raw', 'sack',\n",
       "       'name_display'],\n",
       "      dtype='object')"
      ]
     },
     "execution_count": 141,
     "metadata": {},
     "output_type": "execute_result"
    }
   ],
   "source": [
    "qbr_all.columns"
   ]
  },
  {
   "cell_type": "code",
   "execution_count": 155,
   "id": "0280d910",
   "metadata": {},
   "outputs": [
    {
     "data": {
      "text/plain": [
       "51"
      ]
     },
     "execution_count": 155,
     "metadata": {},
     "output_type": "execute_result"
    }
   ],
   "source": [
    "len(qbr_all['name_display_19'])"
   ]
  },
  {
   "cell_type": "code",
   "execution_count": 156,
   "id": "0e394826",
   "metadata": {},
   "outputs": [],
   "source": [
    "qb_names = []\n",
    "\n",
    "for i in range(len(qbr_all['name_display_19'])):\n",
    "    if qbr_all['name_display_19'].isna()[i] == False:\n",
    "        qb_names.append(qbr_all['name_display_19'][i])\n",
    "    elif qbr_all['name_display_20'].notnull()[i] == True:\n",
    "        qb_names.append(qbr_all['name_display_20'][i])\n",
    "    else:\n",
    "        qb_names.append(qbr_all['name_display'][i])"
   ]
  },
  {
   "cell_type": "code",
   "execution_count": 158,
   "id": "a98dac8a",
   "metadata": {},
   "outputs": [],
   "source": [
    "qbr_all['player_name'] = qb_names"
   ]
  },
  {
   "cell_type": "code",
   "execution_count": 160,
   "id": "407e3d70",
   "metadata": {},
   "outputs": [
    {
     "data": {
      "text/html": [
       "<div>\n",
       "<style scoped>\n",
       "    .dataframe tbody tr th:only-of-type {\n",
       "        vertical-align: middle;\n",
       "    }\n",
       "\n",
       "    .dataframe tbody tr th {\n",
       "        vertical-align: top;\n",
       "    }\n",
       "\n",
       "    .dataframe thead th {\n",
       "        text-align: right;\n",
       "    }\n",
       "</style>\n",
       "<table border=\"1\" class=\"dataframe\">\n",
       "  <thead>\n",
       "    <tr style=\"text-align: right;\">\n",
       "      <th></th>\n",
       "      <th>season_19</th>\n",
       "      <th>team_abb_19</th>\n",
       "      <th>player_id</th>\n",
       "      <th>qbr_total_19</th>\n",
       "      <th>pts_added_19</th>\n",
       "      <th>qb_plays_19</th>\n",
       "      <th>epa_total_19</th>\n",
       "      <th>pass_19</th>\n",
       "      <th>run_19</th>\n",
       "      <th>exp_sack_19</th>\n",
       "      <th>...</th>\n",
       "      <th>pts_added</th>\n",
       "      <th>qb_plays</th>\n",
       "      <th>epa_total</th>\n",
       "      <th>pass</th>\n",
       "      <th>run</th>\n",
       "      <th>exp_sack</th>\n",
       "      <th>qbr_raw</th>\n",
       "      <th>sack</th>\n",
       "      <th>name_display</th>\n",
       "      <th>player_name</th>\n",
       "    </tr>\n",
       "  </thead>\n",
       "  <tbody>\n",
       "    <tr>\n",
       "      <th>0</th>\n",
       "      <td>2019.0</td>\n",
       "      <td>BAL</td>\n",
       "      <td>3916387</td>\n",
       "      <td>83.0</td>\n",
       "      <td>66.7</td>\n",
       "      <td>613.0</td>\n",
       "      <td>103.7</td>\n",
       "      <td>55.0</td>\n",
       "      <td>39.1</td>\n",
       "      <td>0.0</td>\n",
       "      <td>...</td>\n",
       "      <td>1.3</td>\n",
       "      <td>574.0</td>\n",
       "      <td>62.7</td>\n",
       "      <td>43.7</td>\n",
       "      <td>18.2</td>\n",
       "      <td>0.0</td>\n",
       "      <td>50.8</td>\n",
       "      <td>-13.0</td>\n",
       "      <td>Lamar Jackson</td>\n",
       "      <td>Lamar Jackson</td>\n",
       "    </tr>\n",
       "    <tr>\n",
       "      <th>1</th>\n",
       "      <td>2019.0</td>\n",
       "      <td>KC</td>\n",
       "      <td>3139477</td>\n",
       "      <td>77.7</td>\n",
       "      <td>55.8</td>\n",
       "      <td>585.0</td>\n",
       "      <td>97.3</td>\n",
       "      <td>71.6</td>\n",
       "      <td>14.3</td>\n",
       "      <td>0.0</td>\n",
       "      <td>...</td>\n",
       "      <td>30.1</td>\n",
       "      <td>803.0</td>\n",
       "      <td>108.3</td>\n",
       "      <td>85.5</td>\n",
       "      <td>18.1</td>\n",
       "      <td>0.0</td>\n",
       "      <td>63.0</td>\n",
       "      <td>-9.0</td>\n",
       "      <td>Patrick Mahomes</td>\n",
       "      <td>Patrick Mahomes</td>\n",
       "    </tr>\n",
       "    <tr>\n",
       "      <th>2</th>\n",
       "      <td>2019.0</td>\n",
       "      <td>NO</td>\n",
       "      <td>2580</td>\n",
       "      <td>73.3</td>\n",
       "      <td>33.7</td>\n",
       "      <td>419.0</td>\n",
       "      <td>62.6</td>\n",
       "      <td>53.1</td>\n",
       "      <td>1.6</td>\n",
       "      <td>0.0</td>\n",
       "      <td>...</td>\n",
       "      <td>NaN</td>\n",
       "      <td>NaN</td>\n",
       "      <td>NaN</td>\n",
       "      <td>NaN</td>\n",
       "      <td>NaN</td>\n",
       "      <td>NaN</td>\n",
       "      <td>NaN</td>\n",
       "      <td>NaN</td>\n",
       "      <td>NaN</td>\n",
       "      <td>Drew Brees</td>\n",
       "    </tr>\n",
       "    <tr>\n",
       "      <th>3</th>\n",
       "      <td>2019.0</td>\n",
       "      <td>DAL</td>\n",
       "      <td>2577417</td>\n",
       "      <td>71.9</td>\n",
       "      <td>48.1</td>\n",
       "      <td>690.0</td>\n",
       "      <td>93.1</td>\n",
       "      <td>70.7</td>\n",
       "      <td>10.0</td>\n",
       "      <td>0.0</td>\n",
       "      <td>...</td>\n",
       "      <td>15.2</td>\n",
       "      <td>721.0</td>\n",
       "      <td>85.8</td>\n",
       "      <td>90.2</td>\n",
       "      <td>-7.7</td>\n",
       "      <td>0.0</td>\n",
       "      <td>57.4</td>\n",
       "      <td>-10.7</td>\n",
       "      <td>Dak Prescott</td>\n",
       "      <td>Dak Prescott</td>\n",
       "    </tr>\n",
       "    <tr>\n",
       "      <th>4</th>\n",
       "      <td>2019.0</td>\n",
       "      <td>SEA</td>\n",
       "      <td>14881</td>\n",
       "      <td>71.5</td>\n",
       "      <td>43.0</td>\n",
       "      <td>674.0</td>\n",
       "      <td>90.9</td>\n",
       "      <td>58.3</td>\n",
       "      <td>10.6</td>\n",
       "      <td>0.0</td>\n",
       "      <td>...</td>\n",
       "      <td>3.5</td>\n",
       "      <td>500.0</td>\n",
       "      <td>55.4</td>\n",
       "      <td>45.0</td>\n",
       "      <td>7.8</td>\n",
       "      <td>0.0</td>\n",
       "      <td>52.5</td>\n",
       "      <td>-15.2</td>\n",
       "      <td>Russell Wilson</td>\n",
       "      <td>Russell Wilson</td>\n",
       "    </tr>\n",
       "  </tbody>\n",
       "</table>\n",
       "<p>5 rows × 38 columns</p>\n",
       "</div>"
      ],
      "text/plain": [
       "   season_19 team_abb_19  player_id  qbr_total_19  pts_added_19  qb_plays_19  \\\n",
       "0     2019.0         BAL    3916387          83.0          66.7        613.0   \n",
       "1     2019.0          KC    3139477          77.7          55.8        585.0   \n",
       "2     2019.0          NO       2580          73.3          33.7        419.0   \n",
       "3     2019.0         DAL    2577417          71.9          48.1        690.0   \n",
       "4     2019.0         SEA      14881          71.5          43.0        674.0   \n",
       "\n",
       "   epa_total_19  pass_19  run_19  exp_sack_19  ...  pts_added  qb_plays  \\\n",
       "0         103.7     55.0    39.1          0.0  ...        1.3     574.0   \n",
       "1          97.3     71.6    14.3          0.0  ...       30.1     803.0   \n",
       "2          62.6     53.1     1.6          0.0  ...        NaN       NaN   \n",
       "3          93.1     70.7    10.0          0.0  ...       15.2     721.0   \n",
       "4          90.9     58.3    10.6          0.0  ...        3.5     500.0   \n",
       "\n",
       "  epa_total  pass   run  exp_sack  qbr_raw  sack     name_display  \\\n",
       "0      62.7  43.7  18.2       0.0     50.8 -13.0    Lamar Jackson   \n",
       "1     108.3  85.5  18.1       0.0     63.0  -9.0  Patrick Mahomes   \n",
       "2       NaN   NaN   NaN       NaN      NaN   NaN              NaN   \n",
       "3      85.8  90.2  -7.7       0.0     57.4 -10.7     Dak Prescott   \n",
       "4      55.4  45.0   7.8       0.0     52.5 -15.2   Russell Wilson   \n",
       "\n",
       "       player_name  \n",
       "0    Lamar Jackson  \n",
       "1  Patrick Mahomes  \n",
       "2       Drew Brees  \n",
       "3     Dak Prescott  \n",
       "4   Russell Wilson  \n",
       "\n",
       "[5 rows x 38 columns]"
      ]
     },
     "execution_count": 160,
     "metadata": {},
     "output_type": "execute_result"
    }
   ],
   "source": [
    "qbr_all.head()"
   ]
  },
  {
   "cell_type": "markdown",
   "id": "9d1207cc",
   "metadata": {},
   "source": [
    "## Team data"
   ]
  },
  {
   "cell_type": "code",
   "execution_count": 223,
   "id": "8baf6135",
   "metadata": {},
   "outputs": [],
   "source": [
    "# we need this to match with the team name on ff_all to be able to merge"
   ]
  },
  {
   "cell_type": "code",
   "execution_count": 161,
   "id": "83f482cd",
   "metadata": {},
   "outputs": [
    {
     "data": {
      "text/plain": [
       "0    Arizona Cardinals\n",
       "1      Atlanta Falcons\n",
       "2     Baltimore Ravens\n",
       "3        Buffalo Bills\n",
       "4    Carolina Panthers\n",
       "Name: Home_team, dtype: object"
      ]
     },
     "execution_count": 161,
     "metadata": {},
     "output_type": "execute_result"
    }
   ],
   "source": [
    "team20_agg['Home_team'].head()"
   ]
  },
  {
   "cell_type": "code",
   "execution_count": 162,
   "id": "c449d91c",
   "metadata": {},
   "outputs": [
    {
     "data": {
      "text/html": [
       "<div>\n",
       "<style scoped>\n",
       "    .dataframe tbody tr th:only-of-type {\n",
       "        vertical-align: middle;\n",
       "    }\n",
       "\n",
       "    .dataframe tbody tr th {\n",
       "        vertical-align: top;\n",
       "    }\n",
       "\n",
       "    .dataframe thead th {\n",
       "        text-align: right;\n",
       "    }\n",
       "</style>\n",
       "<table border=\"1\" class=\"dataframe\">\n",
       "  <thead>\n",
       "    <tr style=\"text-align: right;\">\n",
       "      <th></th>\n",
       "      <th>Name</th>\n",
       "      <th>Abbreviation</th>\n",
       "      <th>Conference</th>\n",
       "      <th>Division</th>\n",
       "    </tr>\n",
       "    <tr>\n",
       "      <th>ID</th>\n",
       "      <th></th>\n",
       "      <th></th>\n",
       "      <th></th>\n",
       "      <th></th>\n",
       "    </tr>\n",
       "  </thead>\n",
       "  <tbody>\n",
       "    <tr>\n",
       "      <th>1</th>\n",
       "      <td>Arizona Cardinals</td>\n",
       "      <td>ARI</td>\n",
       "      <td>NFC</td>\n",
       "      <td>West</td>\n",
       "    </tr>\n",
       "    <tr>\n",
       "      <th>2</th>\n",
       "      <td>Atlanta Falcons</td>\n",
       "      <td>ATL</td>\n",
       "      <td>NFC</td>\n",
       "      <td>South</td>\n",
       "    </tr>\n",
       "    <tr>\n",
       "      <th>3</th>\n",
       "      <td>Baltimore Ravens</td>\n",
       "      <td>BAL</td>\n",
       "      <td>AFC</td>\n",
       "      <td>North</td>\n",
       "    </tr>\n",
       "    <tr>\n",
       "      <th>4</th>\n",
       "      <td>Buffalo Bills</td>\n",
       "      <td>BUF</td>\n",
       "      <td>AFC</td>\n",
       "      <td>East</td>\n",
       "    </tr>\n",
       "    <tr>\n",
       "      <th>5</th>\n",
       "      <td>Carolina Panthers</td>\n",
       "      <td>CAR</td>\n",
       "      <td>NFC</td>\n",
       "      <td>South</td>\n",
       "    </tr>\n",
       "  </tbody>\n",
       "</table>\n",
       "</div>"
      ],
      "text/plain": [
       "                 Name Abbreviation Conference Division\n",
       "ID                                                    \n",
       "1   Arizona Cardinals          ARI        NFC     West\n",
       "2     Atlanta Falcons          ATL        NFC    South\n",
       "3    Baltimore Ravens          BAL        AFC    North\n",
       "4       Buffalo Bills          BUF        AFC     East\n",
       "5   Carolina Panthers          CAR        NFC    South"
      ]
     },
     "execution_count": 162,
     "metadata": {},
     "output_type": "execute_result"
    }
   ],
   "source": [
    "nflteams.head()"
   ]
  },
  {
   "cell_type": "code",
   "execution_count": 163,
   "id": "5a01d854",
   "metadata": {},
   "outputs": [],
   "source": [
    "# renaming columns to all be same name as Name column in nflteams\n",
    "\n",
    "team19_agg.rename(columns = {'Home_team': 'Name'}, inplace = True)\n",
    "team20_agg.rename(columns = {'Home_team': 'Name'}, inplace = True)\n",
    "team21_agg.rename(columns = {'Home_team': 'Name'}, inplace = True)"
   ]
  },
  {
   "cell_type": "code",
   "execution_count": 167,
   "id": "c790cca0",
   "metadata": {},
   "outputs": [],
   "source": [
    "# let's create a column for the abbreviations\n",
    "\n",
    "# using nfl teams\n",
    "\n",
    "team19_agg = team19_agg.merge(nflteams, on = 'Name')\n",
    "team20_agg = team20_agg.merge(nflteams, on = 'Name')\n",
    "team21_agg = team21_agg.merge(nflteams, on = 'Name')"
   ]
  },
  {
   "cell_type": "code",
   "execution_count": 172,
   "id": "f616e51b",
   "metadata": {},
   "outputs": [
    {
     "data": {
      "text/html": [
       "<div>\n",
       "<style scoped>\n",
       "    .dataframe tbody tr th:only-of-type {\n",
       "        vertical-align: middle;\n",
       "    }\n",
       "\n",
       "    .dataframe tbody tr th {\n",
       "        vertical-align: top;\n",
       "    }\n",
       "\n",
       "    .dataframe thead th {\n",
       "        text-align: right;\n",
       "    }\n",
       "</style>\n",
       "<table border=\"1\" class=\"dataframe\">\n",
       "  <thead>\n",
       "    <tr style=\"text-align: right;\">\n",
       "      <th></th>\n",
       "      <th>Name</th>\n",
       "      <th>Tm</th>\n",
       "      <th>1stD</th>\n",
       "      <th>TotYd</th>\n",
       "      <th>PassY</th>\n",
       "      <th>RushY</th>\n",
       "      <th>TO</th>\n",
       "      <th>Offense</th>\n",
       "      <th>Defense</th>\n",
       "      <th>Sp. Tms</th>\n",
       "      <th>Abbreviation_x</th>\n",
       "      <th>Conference_x</th>\n",
       "      <th>Division_x</th>\n",
       "      <th>Abbreviation_y</th>\n",
       "      <th>Conference_y</th>\n",
       "      <th>Division_y</th>\n",
       "      <th>Abbreviation</th>\n",
       "      <th>Conference</th>\n",
       "      <th>Division</th>\n",
       "    </tr>\n",
       "  </thead>\n",
       "  <tbody>\n",
       "    <tr>\n",
       "      <th>0</th>\n",
       "      <td>Arizona Cardinals</td>\n",
       "      <td>26.411765</td>\n",
       "      <td>21.588235</td>\n",
       "      <td>373.647059</td>\n",
       "      <td>251.529412</td>\n",
       "      <td>122.117647</td>\n",
       "      <td>1.500000</td>\n",
       "      <td>8.102941</td>\n",
       "      <td>-0.473529</td>\n",
       "      <td>-2.507647</td>\n",
       "      <td>ARI</td>\n",
       "      <td>NFC</td>\n",
       "      <td>West</td>\n",
       "      <td>ARI</td>\n",
       "      <td>NFC</td>\n",
       "      <td>West</td>\n",
       "      <td>ARI</td>\n",
       "      <td>NFC</td>\n",
       "      <td>West</td>\n",
       "    </tr>\n",
       "    <tr>\n",
       "      <th>1</th>\n",
       "      <td>Atlanta Falcons</td>\n",
       "      <td>18.411765</td>\n",
       "      <td>18.000000</td>\n",
       "      <td>303.764706</td>\n",
       "      <td>218.411765</td>\n",
       "      <td>85.352941</td>\n",
       "      <td>1.857143</td>\n",
       "      <td>-1.081176</td>\n",
       "      <td>-8.043529</td>\n",
       "      <td>1.098235</td>\n",
       "      <td>ATL</td>\n",
       "      <td>NFC</td>\n",
       "      <td>South</td>\n",
       "      <td>ATL</td>\n",
       "      <td>NFC</td>\n",
       "      <td>South</td>\n",
       "      <td>ATL</td>\n",
       "      <td>NFC</td>\n",
       "      <td>South</td>\n",
       "    </tr>\n",
       "    <tr>\n",
       "      <th>2</th>\n",
       "      <td>Baltimore Ravens</td>\n",
       "      <td>22.764706</td>\n",
       "      <td>23.176471</td>\n",
       "      <td>378.823529</td>\n",
       "      <td>233.000000</td>\n",
       "      <td>145.823529</td>\n",
       "      <td>1.857143</td>\n",
       "      <td>3.510000</td>\n",
       "      <td>-6.322941</td>\n",
       "      <td>2.006471</td>\n",
       "      <td>BAL</td>\n",
       "      <td>AFC</td>\n",
       "      <td>North</td>\n",
       "      <td>BAL</td>\n",
       "      <td>AFC</td>\n",
       "      <td>North</td>\n",
       "      <td>BAL</td>\n",
       "      <td>AFC</td>\n",
       "      <td>North</td>\n",
       "    </tr>\n",
       "    <tr>\n",
       "      <th>3</th>\n",
       "      <td>Buffalo Bills</td>\n",
       "      <td>28.411765</td>\n",
       "      <td>23.411765</td>\n",
       "      <td>381.941176</td>\n",
       "      <td>252.000000</td>\n",
       "      <td>129.941176</td>\n",
       "      <td>1.833333</td>\n",
       "      <td>8.886471</td>\n",
       "      <td>4.604706</td>\n",
       "      <td>-2.320000</td>\n",
       "      <td>BUF</td>\n",
       "      <td>AFC</td>\n",
       "      <td>East</td>\n",
       "      <td>BUF</td>\n",
       "      <td>AFC</td>\n",
       "      <td>East</td>\n",
       "      <td>BUF</td>\n",
       "      <td>AFC</td>\n",
       "      <td>East</td>\n",
       "    </tr>\n",
       "    <tr>\n",
       "      <th>4</th>\n",
       "      <td>Carolina Panthers</td>\n",
       "      <td>17.882353</td>\n",
       "      <td>18.941176</td>\n",
       "      <td>298.882353</td>\n",
       "      <td>190.529412</td>\n",
       "      <td>108.352941</td>\n",
       "      <td>1.933333</td>\n",
       "      <td>-5.417647</td>\n",
       "      <td>-0.537647</td>\n",
       "      <td>-0.198235</td>\n",
       "      <td>CAR</td>\n",
       "      <td>NFC</td>\n",
       "      <td>South</td>\n",
       "      <td>CAR</td>\n",
       "      <td>NFC</td>\n",
       "      <td>South</td>\n",
       "      <td>CAR</td>\n",
       "      <td>NFC</td>\n",
       "      <td>South</td>\n",
       "    </tr>\n",
       "  </tbody>\n",
       "</table>\n",
       "</div>"
      ],
      "text/plain": [
       "                Name         Tm       1stD       TotYd       PassY  \\\n",
       "0  Arizona Cardinals  26.411765  21.588235  373.647059  251.529412   \n",
       "1    Atlanta Falcons  18.411765  18.000000  303.764706  218.411765   \n",
       "2   Baltimore Ravens  22.764706  23.176471  378.823529  233.000000   \n",
       "3      Buffalo Bills  28.411765  23.411765  381.941176  252.000000   \n",
       "4  Carolina Panthers  17.882353  18.941176  298.882353  190.529412   \n",
       "\n",
       "        RushY        TO   Offense   Defense   Sp. Tms Abbreviation_x  \\\n",
       "0  122.117647  1.500000  8.102941 -0.473529 -2.507647            ARI   \n",
       "1   85.352941  1.857143 -1.081176 -8.043529  1.098235            ATL   \n",
       "2  145.823529  1.857143  3.510000 -6.322941  2.006471            BAL   \n",
       "3  129.941176  1.833333  8.886471  4.604706 -2.320000            BUF   \n",
       "4  108.352941  1.933333 -5.417647 -0.537647 -0.198235            CAR   \n",
       "\n",
       "  Conference_x Division_x Abbreviation_y Conference_y Division_y Abbreviation  \\\n",
       "0          NFC       West            ARI          NFC       West          ARI   \n",
       "1          NFC      South            ATL          NFC      South          ATL   \n",
       "2          AFC      North            BAL          AFC      North          BAL   \n",
       "3          AFC       East            BUF          AFC       East          BUF   \n",
       "4          NFC      South            CAR          NFC      South          CAR   \n",
       "\n",
       "  Conference Division  \n",
       "0        NFC     West  \n",
       "1        NFC    South  \n",
       "2        AFC    North  \n",
       "3        AFC     East  \n",
       "4        NFC    South  "
      ]
     },
     "execution_count": 172,
     "metadata": {},
     "output_type": "execute_result"
    }
   ],
   "source": [
    "team21_agg.head()"
   ]
  },
  {
   "cell_type": "markdown",
   "id": "f380137e",
   "metadata": {},
   "source": [
    "## Next Gen Data"
   ]
  },
  {
   "cell_type": "code",
   "execution_count": 243,
   "id": "437f5bcb",
   "metadata": {},
   "outputs": [
    {
     "data": {
      "text/html": [
       "<div>\n",
       "<style scoped>\n",
       "    .dataframe tbody tr th:only-of-type {\n",
       "        vertical-align: middle;\n",
       "    }\n",
       "\n",
       "    .dataframe tbody tr th {\n",
       "        vertical-align: top;\n",
       "    }\n",
       "\n",
       "    .dataframe thead th {\n",
       "        text-align: right;\n",
       "    }\n",
       "</style>\n",
       "<table border=\"1\" class=\"dataframe\">\n",
       "  <thead>\n",
       "    <tr style=\"text-align: right;\">\n",
       "      <th></th>\n",
       "      <th>season</th>\n",
       "      <th>season_type</th>\n",
       "      <th>week</th>\n",
       "      <th>player_display_name</th>\n",
       "      <th>player_position</th>\n",
       "      <th>team_abbr</th>\n",
       "      <th>efficiency</th>\n",
       "      <th>percent_attempts_gte_eight_defenders</th>\n",
       "      <th>avg_time_to_los</th>\n",
       "      <th>rush_attempts</th>\n",
       "      <th>...</th>\n",
       "      <th>rush_yards_over_expected</th>\n",
       "      <th>avg_rush_yards</th>\n",
       "      <th>rush_yards_over_expected_per_att</th>\n",
       "      <th>rush_pct_over_expected</th>\n",
       "      <th>rush_touchdowns</th>\n",
       "      <th>player_gsis_id</th>\n",
       "      <th>player_first_name</th>\n",
       "      <th>player_last_name</th>\n",
       "      <th>player_jersey_number</th>\n",
       "      <th>player_short_name</th>\n",
       "    </tr>\n",
       "  </thead>\n",
       "  <tbody>\n",
       "    <tr>\n",
       "      <th>2130</th>\n",
       "      <td>2019</td>\n",
       "      <td>REG</td>\n",
       "      <td>11</td>\n",
       "      <td>Miles Sanders</td>\n",
       "      <td>RB</td>\n",
       "      <td>PHI</td>\n",
       "      <td>4.730263</td>\n",
       "      <td>18.181818</td>\n",
       "      <td>3.284182</td>\n",
       "      <td>11</td>\n",
       "      <td>...</td>\n",
       "      <td>-14.518495</td>\n",
       "      <td>3.454545</td>\n",
       "      <td>-1.319863</td>\n",
       "      <td>0.272727</td>\n",
       "      <td>0</td>\n",
       "      <td>00-0035243</td>\n",
       "      <td>Miles</td>\n",
       "      <td>Sanders</td>\n",
       "      <td>26</td>\n",
       "      <td>M.Sanders</td>\n",
       "    </tr>\n",
       "    <tr>\n",
       "      <th>2426</th>\n",
       "      <td>2020</td>\n",
       "      <td>REG</td>\n",
       "      <td>1</td>\n",
       "      <td>Austin Ekeler</td>\n",
       "      <td>RB</td>\n",
       "      <td>LAC</td>\n",
       "      <td>4.162619</td>\n",
       "      <td>5.263158</td>\n",
       "      <td>2.674737</td>\n",
       "      <td>19</td>\n",
       "      <td>...</td>\n",
       "      <td>-11.856043</td>\n",
       "      <td>4.421053</td>\n",
       "      <td>-0.658669</td>\n",
       "      <td>0.388889</td>\n",
       "      <td>0</td>\n",
       "      <td>00-0033699</td>\n",
       "      <td>Austin</td>\n",
       "      <td>Ekeler</td>\n",
       "      <td>30</td>\n",
       "      <td>A.Ekeler</td>\n",
       "    </tr>\n",
       "    <tr>\n",
       "      <th>2822</th>\n",
       "      <td>2020</td>\n",
       "      <td>REG</td>\n",
       "      <td>14</td>\n",
       "      <td>Carlos Hyde</td>\n",
       "      <td>RB</td>\n",
       "      <td>SEA</td>\n",
       "      <td>4.167424</td>\n",
       "      <td>13.333333</td>\n",
       "      <td>3.110667</td>\n",
       "      <td>15</td>\n",
       "      <td>...</td>\n",
       "      <td>-6.687815</td>\n",
       "      <td>4.400000</td>\n",
       "      <td>-0.477701</td>\n",
       "      <td>0.214286</td>\n",
       "      <td>0</td>\n",
       "      <td>00-0031045</td>\n",
       "      <td>Carlos</td>\n",
       "      <td>Hyde</td>\n",
       "      <td>30</td>\n",
       "      <td>C.Hyde</td>\n",
       "    </tr>\n",
       "    <tr>\n",
       "      <th>3528</th>\n",
       "      <td>2021</td>\n",
       "      <td>REG</td>\n",
       "      <td>18</td>\n",
       "      <td>Sony Michel</td>\n",
       "      <td>RB</td>\n",
       "      <td>LAR</td>\n",
       "      <td>6.848837</td>\n",
       "      <td>33.333333</td>\n",
       "      <td>2.969278</td>\n",
       "      <td>21</td>\n",
       "      <td>...</td>\n",
       "      <td>-18.205374</td>\n",
       "      <td>2.047619</td>\n",
       "      <td>-0.866923</td>\n",
       "      <td>0.238095</td>\n",
       "      <td>0</td>\n",
       "      <td>00-0034845</td>\n",
       "      <td>Sony</td>\n",
       "      <td>Michel</td>\n",
       "      <td>25</td>\n",
       "      <td>S.Michel</td>\n",
       "    </tr>\n",
       "    <tr>\n",
       "      <th>2477</th>\n",
       "      <td>2020</td>\n",
       "      <td>REG</td>\n",
       "      <td>3</td>\n",
       "      <td>Latavius Murray</td>\n",
       "      <td>RB</td>\n",
       "      <td>NO</td>\n",
       "      <td>3.335000</td>\n",
       "      <td>0.000000</td>\n",
       "      <td>2.483083</td>\n",
       "      <td>12</td>\n",
       "      <td>...</td>\n",
       "      <td>7.953669</td>\n",
       "      <td>4.833333</td>\n",
       "      <td>0.662806</td>\n",
       "      <td>0.583333</td>\n",
       "      <td>0</td>\n",
       "      <td>00-0030513</td>\n",
       "      <td>Latavius</td>\n",
       "      <td>Murray</td>\n",
       "      <td>28</td>\n",
       "      <td>L.Murray</td>\n",
       "    </tr>\n",
       "  </tbody>\n",
       "</table>\n",
       "<p>5 rows × 22 columns</p>\n",
       "</div>"
      ],
      "text/plain": [
       "      season season_type  week player_display_name player_position team_abbr  \\\n",
       "2130    2019         REG    11       Miles Sanders              RB       PHI   \n",
       "2426    2020         REG     1       Austin Ekeler              RB       LAC   \n",
       "2822    2020         REG    14         Carlos Hyde              RB       SEA   \n",
       "3528    2021         REG    18         Sony Michel              RB       LAR   \n",
       "2477    2020         REG     3     Latavius Murray              RB        NO   \n",
       "\n",
       "      efficiency  percent_attempts_gte_eight_defenders  avg_time_to_los  \\\n",
       "2130    4.730263                             18.181818         3.284182   \n",
       "2426    4.162619                              5.263158         2.674737   \n",
       "2822    4.167424                             13.333333         3.110667   \n",
       "3528    6.848837                             33.333333         2.969278   \n",
       "2477    3.335000                              0.000000         2.483083   \n",
       "\n",
       "      rush_attempts  ...  rush_yards_over_expected  avg_rush_yards  \\\n",
       "2130             11  ...                -14.518495        3.454545   \n",
       "2426             19  ...                -11.856043        4.421053   \n",
       "2822             15  ...                 -6.687815        4.400000   \n",
       "3528             21  ...                -18.205374        2.047619   \n",
       "2477             12  ...                  7.953669        4.833333   \n",
       "\n",
       "      rush_yards_over_expected_per_att  rush_pct_over_expected  \\\n",
       "2130                         -1.319863                0.272727   \n",
       "2426                         -0.658669                0.388889   \n",
       "2822                         -0.477701                0.214286   \n",
       "3528                         -0.866923                0.238095   \n",
       "2477                          0.662806                0.583333   \n",
       "\n",
       "      rush_touchdowns  player_gsis_id  player_first_name player_last_name  \\\n",
       "2130                0      00-0035243              Miles          Sanders   \n",
       "2426                0      00-0033699             Austin           Ekeler   \n",
       "2822                0      00-0031045             Carlos             Hyde   \n",
       "3528                0      00-0034845               Sony           Michel   \n",
       "2477                0      00-0030513           Latavius           Murray   \n",
       "\n",
       "     player_jersey_number player_short_name  \n",
       "2130                   26         M.Sanders  \n",
       "2426                   30          A.Ekeler  \n",
       "2822                   30            C.Hyde  \n",
       "3528                   25          S.Michel  \n",
       "2477                   28          L.Murray  \n",
       "\n",
       "[5 rows x 22 columns]"
      ]
     },
     "execution_count": 243,
     "metadata": {},
     "output_type": "execute_result"
    }
   ],
   "source": [
    "ngs_rushing.sample(5)"
   ]
  },
  {
   "cell_type": "code",
   "execution_count": 246,
   "id": "f464c370",
   "metadata": {},
   "outputs": [
    {
     "data": {
      "text/html": [
       "<div>\n",
       "<style scoped>\n",
       "    .dataframe tbody tr th:only-of-type {\n",
       "        vertical-align: middle;\n",
       "    }\n",
       "\n",
       "    .dataframe tbody tr th {\n",
       "        vertical-align: top;\n",
       "    }\n",
       "\n",
       "    .dataframe thead th {\n",
       "        text-align: right;\n",
       "    }\n",
       "</style>\n",
       "<table border=\"1\" class=\"dataframe\">\n",
       "  <thead>\n",
       "    <tr style=\"text-align: right;\">\n",
       "      <th></th>\n",
       "      <th>season</th>\n",
       "      <th>season_type</th>\n",
       "      <th>week</th>\n",
       "      <th>player_display_name</th>\n",
       "      <th>player_position</th>\n",
       "      <th>team_abbr</th>\n",
       "      <th>avg_cushion</th>\n",
       "      <th>avg_separation</th>\n",
       "      <th>avg_intended_air_yards</th>\n",
       "      <th>percent_share_of_intended_air_yards</th>\n",
       "      <th>...</th>\n",
       "      <th>yards</th>\n",
       "      <th>rec_touchdowns</th>\n",
       "      <th>avg_yac</th>\n",
       "      <th>avg_expected_yac</th>\n",
       "      <th>avg_yac_above_expectation</th>\n",
       "      <th>player_gsis_id</th>\n",
       "      <th>player_first_name</th>\n",
       "      <th>player_last_name</th>\n",
       "      <th>player_jersey_number</th>\n",
       "      <th>player_short_name</th>\n",
       "    </tr>\n",
       "  </thead>\n",
       "  <tbody>\n",
       "    <tr>\n",
       "      <th>6341</th>\n",
       "      <td>2020</td>\n",
       "      <td>REG</td>\n",
       "      <td>5</td>\n",
       "      <td>Anthony Firkser</td>\n",
       "      <td>TE</td>\n",
       "      <td>TEN</td>\n",
       "      <td>6.780000</td>\n",
       "      <td>0.793369</td>\n",
       "      <td>10.356000</td>\n",
       "      <td>26.940687</td>\n",
       "      <td>...</td>\n",
       "      <td>19.0</td>\n",
       "      <td>0</td>\n",
       "      <td>0.103333</td>\n",
       "      <td>0.336489</td>\n",
       "      <td>-0.233156</td>\n",
       "      <td>00-0033455</td>\n",
       "      <td>Anthony</td>\n",
       "      <td>Firkser</td>\n",
       "      <td>86</td>\n",
       "      <td>A.Firkser</td>\n",
       "    </tr>\n",
       "    <tr>\n",
       "      <th>6429</th>\n",
       "      <td>2020</td>\n",
       "      <td>REG</td>\n",
       "      <td>6</td>\n",
       "      <td>Irv Smith</td>\n",
       "      <td>TE</td>\n",
       "      <td>MIN</td>\n",
       "      <td>5.530000</td>\n",
       "      <td>3.412771</td>\n",
       "      <td>5.218000</td>\n",
       "      <td>7.742759</td>\n",
       "      <td>...</td>\n",
       "      <td>55.0</td>\n",
       "      <td>0</td>\n",
       "      <td>7.125000</td>\n",
       "      <td>5.333694</td>\n",
       "      <td>1.791306</td>\n",
       "      <td>00-0034970</td>\n",
       "      <td>Irvin</td>\n",
       "      <td>Smith</td>\n",
       "      <td>84</td>\n",
       "      <td>I.Smith</td>\n",
       "    </tr>\n",
       "    <tr>\n",
       "      <th>7809</th>\n",
       "      <td>2021</td>\n",
       "      <td>REG</td>\n",
       "      <td>4</td>\n",
       "      <td>Stefon Diggs</td>\n",
       "      <td>WR</td>\n",
       "      <td>BUF</td>\n",
       "      <td>4.984000</td>\n",
       "      <td>1.805431</td>\n",
       "      <td>11.785455</td>\n",
       "      <td>47.506321</td>\n",
       "      <td>...</td>\n",
       "      <td>114.0</td>\n",
       "      <td>0</td>\n",
       "      <td>2.768571</td>\n",
       "      <td>2.746143</td>\n",
       "      <td>0.022429</td>\n",
       "      <td>00-0031588</td>\n",
       "      <td>Stefon</td>\n",
       "      <td>Diggs</td>\n",
       "      <td>14</td>\n",
       "      <td>S.Diggs</td>\n",
       "    </tr>\n",
       "    <tr>\n",
       "      <th>7268</th>\n",
       "      <td>2020</td>\n",
       "      <td>REG</td>\n",
       "      <td>17</td>\n",
       "      <td>Mohamed Sanu</td>\n",
       "      <td>WR</td>\n",
       "      <td>DET</td>\n",
       "      <td>5.931667</td>\n",
       "      <td>1.660365</td>\n",
       "      <td>20.215000</td>\n",
       "      <td>27.654529</td>\n",
       "      <td>...</td>\n",
       "      <td>13.0</td>\n",
       "      <td>0</td>\n",
       "      <td>0.995000</td>\n",
       "      <td>1.878910</td>\n",
       "      <td>-0.883910</td>\n",
       "      <td>00-0029632</td>\n",
       "      <td>Mohamed</td>\n",
       "      <td>Sanu</td>\n",
       "      <td>12</td>\n",
       "      <td>M.Sanu</td>\n",
       "    </tr>\n",
       "    <tr>\n",
       "      <th>7523</th>\n",
       "      <td>2021</td>\n",
       "      <td>REG</td>\n",
       "      <td>1</td>\n",
       "      <td>Zach Pascal</td>\n",
       "      <td>WR</td>\n",
       "      <td>IND</td>\n",
       "      <td>7.067500</td>\n",
       "      <td>4.404941</td>\n",
       "      <td>10.036000</td>\n",
       "      <td>25.181914</td>\n",
       "      <td>...</td>\n",
       "      <td>43.0</td>\n",
       "      <td>2</td>\n",
       "      <td>2.390000</td>\n",
       "      <td>2.653442</td>\n",
       "      <td>-0.263442</td>\n",
       "      <td>00-0033251</td>\n",
       "      <td>Zachary</td>\n",
       "      <td>Pascal</td>\n",
       "      <td>14</td>\n",
       "      <td>Z.Pascal</td>\n",
       "    </tr>\n",
       "  </tbody>\n",
       "</table>\n",
       "<p>5 rows × 23 columns</p>\n",
       "</div>"
      ],
      "text/plain": [
       "      season season_type  week player_display_name player_position team_abbr  \\\n",
       "6341    2020         REG     5     Anthony Firkser              TE       TEN   \n",
       "6429    2020         REG     6           Irv Smith              TE       MIN   \n",
       "7809    2021         REG     4        Stefon Diggs              WR       BUF   \n",
       "7268    2020         REG    17        Mohamed Sanu              WR       DET   \n",
       "7523    2021         REG     1         Zach Pascal              WR       IND   \n",
       "\n",
       "      avg_cushion  avg_separation  avg_intended_air_yards  \\\n",
       "6341     6.780000        0.793369               10.356000   \n",
       "6429     5.530000        3.412771                5.218000   \n",
       "7809     4.984000        1.805431               11.785455   \n",
       "7268     5.931667        1.660365               20.215000   \n",
       "7523     7.067500        4.404941               10.036000   \n",
       "\n",
       "      percent_share_of_intended_air_yards  ...  yards  rec_touchdowns  \\\n",
       "6341                            26.940687  ...   19.0               0   \n",
       "6429                             7.742759  ...   55.0               0   \n",
       "7809                            47.506321  ...  114.0               0   \n",
       "7268                            27.654529  ...   13.0               0   \n",
       "7523                            25.181914  ...   43.0               2   \n",
       "\n",
       "       avg_yac  avg_expected_yac  avg_yac_above_expectation  player_gsis_id  \\\n",
       "6341  0.103333          0.336489                  -0.233156      00-0033455   \n",
       "6429  7.125000          5.333694                   1.791306      00-0034970   \n",
       "7809  2.768571          2.746143                   0.022429      00-0031588   \n",
       "7268  0.995000          1.878910                  -0.883910      00-0029632   \n",
       "7523  2.390000          2.653442                  -0.263442      00-0033251   \n",
       "\n",
       "      player_first_name  player_last_name player_jersey_number  \\\n",
       "6341            Anthony           Firkser                   86   \n",
       "6429              Irvin             Smith                   84   \n",
       "7809             Stefon             Diggs                   14   \n",
       "7268            Mohamed              Sanu                   12   \n",
       "7523            Zachary            Pascal                   14   \n",
       "\n",
       "     player_short_name  \n",
       "6341         A.Firkser  \n",
       "6429           I.Smith  \n",
       "7809           S.Diggs  \n",
       "7268            M.Sanu  \n",
       "7523          Z.Pascal  \n",
       "\n",
       "[5 rows x 23 columns]"
      ]
     },
     "execution_count": 246,
     "metadata": {},
     "output_type": "execute_result"
    }
   ],
   "source": [
    "ngs_receiving.sample(5)"
   ]
  },
  {
   "cell_type": "code",
   "execution_count": 245,
   "id": "010aae3e",
   "metadata": {},
   "outputs": [
    {
     "data": {
      "text/html": [
       "<div>\n",
       "<style scoped>\n",
       "    .dataframe tbody tr th:only-of-type {\n",
       "        vertical-align: middle;\n",
       "    }\n",
       "\n",
       "    .dataframe tbody tr th {\n",
       "        vertical-align: top;\n",
       "    }\n",
       "\n",
       "    .dataframe thead th {\n",
       "        text-align: right;\n",
       "    }\n",
       "</style>\n",
       "<table border=\"1\" class=\"dataframe\">\n",
       "  <thead>\n",
       "    <tr style=\"text-align: right;\">\n",
       "      <th></th>\n",
       "      <th>season</th>\n",
       "      <th>season_type</th>\n",
       "      <th>week</th>\n",
       "      <th>player_display_name</th>\n",
       "      <th>player_position</th>\n",
       "      <th>team_abbr</th>\n",
       "      <th>avg_time_to_throw</th>\n",
       "      <th>avg_completed_air_yards</th>\n",
       "      <th>avg_intended_air_yards</th>\n",
       "      <th>avg_air_yards_differential</th>\n",
       "      <th>...</th>\n",
       "      <th>completion_percentage</th>\n",
       "      <th>expected_completion_percentage</th>\n",
       "      <th>completion_percentage_above_expectation</th>\n",
       "      <th>avg_air_distance</th>\n",
       "      <th>max_air_distance</th>\n",
       "      <th>player_gsis_id</th>\n",
       "      <th>player_first_name</th>\n",
       "      <th>player_last_name</th>\n",
       "      <th>player_jersey_number</th>\n",
       "      <th>player_short_name</th>\n",
       "    </tr>\n",
       "  </thead>\n",
       "  <tbody>\n",
       "    <tr>\n",
       "      <th>2445</th>\n",
       "      <td>2020</td>\n",
       "      <td>REG</td>\n",
       "      <td>4</td>\n",
       "      <td>Jared Goff</td>\n",
       "      <td>QB</td>\n",
       "      <td>LAR</td>\n",
       "      <td>2.847844</td>\n",
       "      <td>2.701600</td>\n",
       "      <td>5.483438</td>\n",
       "      <td>-2.781838</td>\n",
       "      <td>...</td>\n",
       "      <td>78.125000</td>\n",
       "      <td>75.567875</td>\n",
       "      <td>2.557125</td>\n",
       "      <td>18.766939</td>\n",
       "      <td>46.237795</td>\n",
       "      <td>00-0033106</td>\n",
       "      <td>Jared</td>\n",
       "      <td>Goff</td>\n",
       "      <td>16</td>\n",
       "      <td>J.Goff</td>\n",
       "    </tr>\n",
       "    <tr>\n",
       "      <th>3349</th>\n",
       "      <td>2021</td>\n",
       "      <td>REG</td>\n",
       "      <td>15</td>\n",
       "      <td>Jimmy Garoppolo</td>\n",
       "      <td>QB</td>\n",
       "      <td>SF</td>\n",
       "      <td>2.499739</td>\n",
       "      <td>4.333333</td>\n",
       "      <td>5.330000</td>\n",
       "      <td>-0.996667</td>\n",
       "      <td>...</td>\n",
       "      <td>78.260870</td>\n",
       "      <td>76.382943</td>\n",
       "      <td>1.877927</td>\n",
       "      <td>17.095608</td>\n",
       "      <td>32.963272</td>\n",
       "      <td>00-0031345</td>\n",
       "      <td>James</td>\n",
       "      <td>Garoppolo</td>\n",
       "      <td>10</td>\n",
       "      <td>J.Garoppolo</td>\n",
       "    </tr>\n",
       "    <tr>\n",
       "      <th>2891</th>\n",
       "      <td>2021</td>\n",
       "      <td>REG</td>\n",
       "      <td>0</td>\n",
       "      <td>Jacoby Brissett</td>\n",
       "      <td>QB</td>\n",
       "      <td>MIA</td>\n",
       "      <td>2.829942</td>\n",
       "      <td>5.130780</td>\n",
       "      <td>7.490000</td>\n",
       "      <td>-2.359220</td>\n",
       "      <td>...</td>\n",
       "      <td>62.666667</td>\n",
       "      <td>65.044291</td>\n",
       "      <td>-2.377625</td>\n",
       "      <td>20.254769</td>\n",
       "      <td>59.407483</td>\n",
       "      <td>00-0033119</td>\n",
       "      <td>Jacoby</td>\n",
       "      <td>Brissett</td>\n",
       "      <td>14</td>\n",
       "      <td>J.Brissett</td>\n",
       "    </tr>\n",
       "    <tr>\n",
       "      <th>1983</th>\n",
       "      <td>2019</td>\n",
       "      <td>REG</td>\n",
       "      <td>8</td>\n",
       "      <td>Case Keenum</td>\n",
       "      <td>QB</td>\n",
       "      <td>WAS</td>\n",
       "      <td>2.679750</td>\n",
       "      <td>7.479167</td>\n",
       "      <td>7.678750</td>\n",
       "      <td>-0.199583</td>\n",
       "      <td>...</td>\n",
       "      <td>75.000000</td>\n",
       "      <td>66.310660</td>\n",
       "      <td>8.689340</td>\n",
       "      <td>19.965911</td>\n",
       "      <td>43.726615</td>\n",
       "      <td>00-0028986</td>\n",
       "      <td>Casey</td>\n",
       "      <td>Keenum</td>\n",
       "      <td>8</td>\n",
       "      <td>C.Keenum</td>\n",
       "    </tr>\n",
       "    <tr>\n",
       "      <th>2347</th>\n",
       "      <td>2020</td>\n",
       "      <td>REG</td>\n",
       "      <td>1</td>\n",
       "      <td>Lamar Jackson</td>\n",
       "      <td>QB</td>\n",
       "      <td>BAL</td>\n",
       "      <td>3.072760</td>\n",
       "      <td>10.288000</td>\n",
       "      <td>11.139583</td>\n",
       "      <td>-0.851583</td>\n",
       "      <td>...</td>\n",
       "      <td>80.000000</td>\n",
       "      <td>64.216460</td>\n",
       "      <td>15.783540</td>\n",
       "      <td>22.792834</td>\n",
       "      <td>52.874497</td>\n",
       "      <td>00-0034796</td>\n",
       "      <td>Lamar</td>\n",
       "      <td>Jackson</td>\n",
       "      <td>8</td>\n",
       "      <td>L.Jackson</td>\n",
       "    </tr>\n",
       "  </tbody>\n",
       "</table>\n",
       "<p>5 rows × 29 columns</p>\n",
       "</div>"
      ],
      "text/plain": [
       "      season season_type  week player_display_name player_position team_abbr  \\\n",
       "2445    2020         REG     4          Jared Goff              QB       LAR   \n",
       "3349    2021         REG    15     Jimmy Garoppolo              QB        SF   \n",
       "2891    2021         REG     0     Jacoby Brissett              QB       MIA   \n",
       "1983    2019         REG     8         Case Keenum              QB       WAS   \n",
       "2347    2020         REG     1       Lamar Jackson              QB       BAL   \n",
       "\n",
       "      avg_time_to_throw  avg_completed_air_yards  avg_intended_air_yards  \\\n",
       "2445           2.847844                 2.701600                5.483438   \n",
       "3349           2.499739                 4.333333                5.330000   \n",
       "2891           2.829942                 5.130780                7.490000   \n",
       "1983           2.679750                 7.479167                7.678750   \n",
       "2347           3.072760                10.288000               11.139583   \n",
       "\n",
       "      avg_air_yards_differential  ...  completion_percentage  \\\n",
       "2445                   -2.781838  ...              78.125000   \n",
       "3349                   -0.996667  ...              78.260870   \n",
       "2891                   -2.359220  ...              62.666667   \n",
       "1983                   -0.199583  ...              75.000000   \n",
       "2347                   -0.851583  ...              80.000000   \n",
       "\n",
       "      expected_completion_percentage  completion_percentage_above_expectation  \\\n",
       "2445                       75.567875                                 2.557125   \n",
       "3349                       76.382943                                 1.877927   \n",
       "2891                       65.044291                                -2.377625   \n",
       "1983                       66.310660                                 8.689340   \n",
       "2347                       64.216460                                15.783540   \n",
       "\n",
       "      avg_air_distance  max_air_distance  player_gsis_id  player_first_name  \\\n",
       "2445         18.766939         46.237795      00-0033106              Jared   \n",
       "3349         17.095608         32.963272      00-0031345              James   \n",
       "2891         20.254769         59.407483      00-0033119             Jacoby   \n",
       "1983         19.965911         43.726615      00-0028986              Casey   \n",
       "2347         22.792834         52.874497      00-0034796              Lamar   \n",
       "\n",
       "      player_last_name  player_jersey_number  player_short_name  \n",
       "2445              Goff                    16             J.Goff  \n",
       "3349         Garoppolo                    10        J.Garoppolo  \n",
       "2891          Brissett                    14         J.Brissett  \n",
       "1983            Keenum                     8           C.Keenum  \n",
       "2347           Jackson                     8          L.Jackson  \n",
       "\n",
       "[5 rows x 29 columns]"
      ]
     },
     "execution_count": 245,
     "metadata": {},
     "output_type": "execute_result"
    }
   ],
   "source": [
    "ngs_passing.sample(5)"
   ]
  },
  {
   "cell_type": "markdown",
   "id": "d312243e",
   "metadata": {},
   "source": [
    "These are all weekly data; should group by player by season;\n",
    "some may be weighted differently (as some players may be playing more), so higher avgs may be worse.\n",
    "\n",
    "Let's make sure qbs (and possibly wrs) are in rushing data; rbs are in receiving data, or if separate\n",
    "\n",
    "All 3 seasons are combined here; would maybe need to break it down to each season again.\n"
   ]
  },
  {
   "cell_type": "markdown",
   "id": "aec23b45",
   "metadata": {},
   "source": [
    "## Feature Engineering"
   ]
  },
  {
   "cell_type": "markdown",
   "id": "83882f4d",
   "metadata": {},
   "source": [
    "Main Data Frame is set! Let's see if we can create new features"
   ]
  },
  {
   "cell_type": "code",
   "execution_count": 264,
   "id": "b5b20373",
   "metadata": {},
   "outputs": [],
   "source": [
    "# Create a rookie year column [1 if yes; 0 if no]\n",
    "# so, if 2019 and 2020 are null, and 2021 is not null, then rookie in '21\n",
    "# so on for 2020\n",
    "\n",
    "## NEED TO FIX THIS, or use dif data to see if rookie or not\n",
    "\n",
    "# ff_all['rookie21'] = np.where(ff_all['years_exp_21', 1, 0)\n",
    "# ff_all['rookie20'] = np.where((ff_all['Tm_19'].isnull() & ff_all['Tm_20'].notnull()), 1, 0)\n",
    "\n",
    "# ff_all.head()\n",
    "\n",
    "## THIS WAS TAKEN CARE OF WITH NEW DATASET"
   ]
  },
  {
   "cell_type": "code",
   "execution_count": 265,
   "id": "46dec2ae",
   "metadata": {},
   "outputs": [],
   "source": [
    "# add in new variables -- \n",
    "\n",
    "# percentage of games started in 19 and 20.\n",
    "\n",
    "ff_all['pct_gs19'] = ff_all['GS_19'] / ff_all['G_19']\n",
    "ff_all['pct_gs20'] = ff_all['GS_20'] / ff_all['G_20']\n",
    "\n",
    "# rushing yards per attempt each year\n",
    "\n",
    "ff_all['avg_per_rush19'] = ff_all['RushingYds_19'] / ff_all['RushingAtt_19']\n",
    "ff_all['avg_per_rush20'] = ff_all['RushingYds_20'] / ff_all['RushingAtt_20']\n",
    "\n",
    "# rec yards per catch each year\n",
    "\n",
    "ff_all['avg_per_catch19'] = ff_all['ReceivingYds_19'] / ff_all['Rec_19']\n",
    "ff_all['avg_per_catch20'] = ff_all['ReceivingYds_20'] / ff_all['Rec_20']\n",
    "\n",
    "# rec yards per target each year\n",
    "\n",
    "ff_all['avg_per_tgt19'] = ff_all['ReceivingYds_19'] / ff_all['Tgt_19']\n",
    "ff_all['avg_per_tgt20'] = ff_all['ReceivingYds_20'] / ff_all['Tgt_20']\n",
    "\n",
    "# total touches \n",
    "\n",
    "ff_all['ttl_touch19'] = ff_all['RushingAtt_19'] + ff_all['Rec_19']\n",
    "ff_all['ttl_touch20'] = ff_all['RushingAtt_20'] + ff_all['Rec_20']\n",
    "\n",
    "# total opportunities\n",
    "# defining opportunity as a target, rushing attempt and passing attempt\n",
    "\n",
    "ff_all['ttl_opp19'] = ff_all['RushingAtt_19'] + ff_all['Tgt_19'] + ff_all['PassingAtt_19']\n",
    "ff_all['ttl_opp20'] = ff_all['RushingAtt_20'] + ff_all['Tgt_20'] + ff_all['PassingAtt_20']\n",
    "\n",
    "\n",
    "# total opportunities per game\n",
    "\n",
    "ff_all['ttl_opp_per_game19'] = ff_all['ttl_opp19'] / ff_all['G_19']\n",
    "ff_all['ttl_opp_per_game20'] = ff_all['ttl_opp20'] / ff_all['G_20']\n",
    "\n",
    "# yards per opportunity\n",
    "\n",
    "ff_all['yds_per_opp19'] = (ff_all['ReceivingYds_19'] + ff_all['RushingYds_19'] + ff_all['PassingYds_19']) / ff_all['ttl_opp19']\n",
    "ff_all['yds_per_opp20'] = (ff_all['ReceivingYds_20'] + ff_all['RushingYds_20'] + ff_all['PassingYds_20']) / ff_all['ttl_opp20']\n",
    "\n",
    "# touchdowns per opportunity\n",
    "\n",
    "ff_all['td_per_opp19'] = (ff_all['ReceivingTD_19'] + ff_all['RushingTD_19'] + ff_all['PassingTD_19']) / ff_all['ttl_opp19']\n",
    "ff_all['td_per_opp20'] = (ff_all['ReceivingTD_20'] + ff_all['RushingTD_20'] + ff_all['PassingTD_20']) / ff_all['ttl_opp20']\n",
    "\n",
    "\n",
    "# turnovers per opportunity\n",
    "\n",
    "ff_all['turnover_per_opp19'] = (ff_all['Int_19'] + ff_all['FumblesLost_19']) / ff_all['ttl_opp19']\n",
    "ff_all['turnover_per_opp20'] = (ff_all['Int_20'] + ff_all['FumblesLost_20']) / ff_all['ttl_opp20']\n",
    "\n",
    "# fantasy points per opportunity\n",
    "\n",
    "ff_all['fp_per_opp19'] = ff_all['FantasyPoints_19'] / ff_all['ttl_opp19']\n",
    "ff_all['fp_per_opp20'] = ff_all['FantasyPoints_20'] / ff_all['ttl_opp20']\n",
    "\n",
    "# fantasy points per game\n",
    "\n",
    "ff_all['fp_per_gm19'] = ff_all['FantasyPoints_19'] / ff_all['G_19']\n",
    "ff_all['fp_per_gm20'] = ff_all['FantasyPoints_20'] / ff_all['G_20']\n",
    "ff_all['fp_per_gm21'] = ff_all['FantasyPoints_21'] / ff_all['G_21']\n",
    "\n",
    "\n",
    "# if rookie year\n",
    "\n",
    "ff_all['rookie19'] = np.where(ff_all['years_exp_19'] == 0, 1, 0)\n",
    "ff_all['rookie20'] = np.where(ff_all['years_exp_20'] == 0, 1, 0)\n",
    "ff_all['rookie21'] = np.where(ff_all['years_exp_21'] == 0, 1, 0)\n",
    "\n",
    "# Half-ppr scoring\n",
    "\n",
    "ff_all['FantasyPoints_19hppr'] = ff_all['FantasyPoints_19'] + (.5 * ff_all['Rec_19'])\n",
    "ff_all['FantasyPoints_20hppr'] = ff_all['FantasyPoints_20'] + (.5 * ff_all['Rec_20'])\n",
    "ff_all['FantasyPoints_21hppr'] = ff_all['FantasyPoints_21'] + (.5 * ff_all['Rec_21'])\n",
    "\n",
    "# fantasy points per game, hppr\n",
    "\n",
    "ff_all['fp_per_gm19hppr'] = ff_all['FantasyPoints_19hppr'] / ff_all['G_19']\n",
    "ff_all['fp_per_gm20hppr'] = ff_all['FantasyPoints_20hppr'] / ff_all['G_20']\n",
    "ff_all['fp_per_gm21hppr'] = ff_all['FantasyPoints_21hppr'] / ff_all['G_21']\n"
   ]
  },
  {
   "cell_type": "code",
   "execution_count": 266,
   "id": "d61e36ee",
   "metadata": {},
   "outputs": [
    {
     "data": {
      "text/plain": [
       "Index(['key_0', 'key_0_19', 'team_19', 'position_19', 'height_19', 'weight_19',\n",
       "       'years_exp_19', 'rookie_year_19', 'Tm_19', 'Pos_19',\n",
       "       ...\n",
       "       'fp_per_gm21', 'rookie19', 'rookie20', 'rookie21',\n",
       "       'FantasyPoints_19hppr', 'FantasyPoints_20hppr', 'FantasyPoints_21hppr',\n",
       "       'fp_per_gm19hppr', 'fp_per_gm20hppr', 'fp_per_gm21hppr'],\n",
       "      dtype='object', length=112)"
      ]
     },
     "execution_count": 266,
     "metadata": {},
     "output_type": "execute_result"
    }
   ],
   "source": [
    "ff_all.columns"
   ]
  },
  {
   "cell_type": "code",
   "execution_count": 267,
   "id": "453f8d66",
   "metadata": {},
   "outputs": [],
   "source": [
    "# creating DF with only most of 21's stats gone, only with '21 fantasy points and fp/game, as that will be what we're predicting\n",
    "# getting rid of other repetitive columns\n",
    "\n",
    "ff_all_19_20 = ff_all.drop(['Age_19', 'Pos_19', 'Pos_20', 'Age_20', \n",
    "                           'G_21', 'GS_21', 'Tgt_21', 'Rec_21', 'PassingYds_21', 'PassingTD_21', 'PassingAtt_21', 'RushingYds_21', \n",
    "                            'RushingTD_21', 'RushingAtt_21', 'ReceivingYds_21', 'ReceivingTD_21',\n",
    "                           'Int_21', 'Fumbles_21', 'FumblesLost_21'], axis = 1)\n",
    "\n",
    "ff_all_19_20 = ff_all_19_20.rename(columns={'key_0' : 'player_id', 'key_0_19': 'player_name'})"
   ]
  },
  {
   "cell_type": "code",
   "execution_count": 268,
   "id": "9ab26a5f",
   "metadata": {},
   "outputs": [],
   "source": [
    "# split up by position\n",
    "\n",
    "ff_rb = ff_all_19_20.loc[ff_all['Pos_21'] == 'RB']\n",
    "ff_wr = ff_all_19_20.loc[ff_all['Pos_21'] == 'WR']\n",
    "ff_qb = ff_all_19_20.loc[ff_all['Pos_21'] == 'QB']\n",
    "ff_te = ff_all_19_20.loc[ff_all['Pos_21'] == 'TE']"
   ]
  },
  {
   "cell_type": "markdown",
   "id": "fc9cc565",
   "metadata": {},
   "source": [
    "Data is now separated by position; with stats from 2019, 2020, and 2021 all under each name.\n",
    "\n",
    "Another thought -- should there be a minimum games played to be on?\n",
    "\n",
    "Let's make each position simpler, with the more relevant stats kept for each position.\n",
    "\n",
    "### For all: \n",
    "    - key_0, Age_21, Pos_21, Tm_19, Tm_20, Tm_21, pct_GS_19 (Create new variable), pct_GS_20 (create new variable)\n",
    "### RB:\n",
    "\n",
    "    - all but PassingYds_19, PassingTD_19, etc. Player_19, Player_20, Player_21\n",
    "    \n",
    "### WR:\n",
    "    - same as RB\n",
    "    \n",
    "### QB: \n",
    "    - all but receiving \n",
    "    \n",
    "### TE:\n",
    "    - all but rushing and passing\n"
   ]
  },
  {
   "cell_type": "code",
   "execution_count": 269,
   "id": "fd7b5c60",
   "metadata": {},
   "outputs": [
    {
     "data": {
      "text/plain": [
       "Index(['player_id', 'player_name', 'team_19', 'position_19', 'height_19',\n",
       "       'weight_19', 'years_exp_19', 'rookie_year_19', 'Tm_19', 'G_19', 'GS_19',\n",
       "       'Tgt_19', 'Rec_19', 'PassingYds_19', 'PassingTD_19', 'PassingAtt_19',\n",
       "       'RushingYds_19', 'RushingTD_19', 'RushingAtt_19', 'ReceivingYds_19',\n",
       "       'ReceivingTD_19', 'FantasyPoints_19', 'Int_19', 'Fumbles_19',\n",
       "       'FumblesLost_19', 'key_0_20', 'team_20', 'position_20', 'height_20',\n",
       "       'weight_20', 'years_exp_20', 'rookie_year_20', 'Tm_20', 'G_20', 'GS_20',\n",
       "       'Tgt_20', 'Rec_20', 'PassingYds_20', 'PassingTD_20', 'PassingAtt_20',\n",
       "       'RushingYds_20', 'RushingTD_20', 'RushingAtt_20', 'ReceivingYds_20',\n",
       "       'ReceivingTD_20', 'FantasyPoints_20', 'Int_20', 'Fumbles_20',\n",
       "       'FumblesLost_20', 'team_21', 'position_21', 'height_21', 'weight_21',\n",
       "       'years_exp_21', 'rookie_year_21', 'Tm_21', 'Pos_21', 'Age_21',\n",
       "       'FantasyPoints_21', 'pct_gs19', 'pct_gs20', 'avg_per_rush19',\n",
       "       'avg_per_rush20', 'avg_per_catch19', 'avg_per_catch20', 'avg_per_tgt19',\n",
       "       'avg_per_tgt20', 'ttl_touch19', 'ttl_touch20', 'ttl_opp19', 'ttl_opp20',\n",
       "       'ttl_opp_per_game19', 'ttl_opp_per_game20', 'yds_per_opp19',\n",
       "       'yds_per_opp20', 'td_per_opp19', 'td_per_opp20', 'turnover_per_opp19',\n",
       "       'turnover_per_opp20', 'fp_per_opp19', 'fp_per_opp20', 'fp_per_gm19',\n",
       "       'fp_per_gm20', 'fp_per_gm21', 'rookie19', 'rookie20', 'rookie21',\n",
       "       'FantasyPoints_19hppr', 'FantasyPoints_20hppr', 'FantasyPoints_21hppr',\n",
       "       'fp_per_gm19hppr', 'fp_per_gm20hppr', 'fp_per_gm21hppr'],\n",
       "      dtype='object')"
      ]
     },
     "execution_count": 269,
     "metadata": {},
     "output_type": "execute_result"
    }
   ],
   "source": [
    "ff_rb.columns"
   ]
  },
  {
   "cell_type": "code",
   "execution_count": 270,
   "id": "cbe537c0",
   "metadata": {},
   "outputs": [],
   "source": [
    "# let's make simpler \n",
    "\n",
    "ff_rb_pts = ff_rb.drop(['PassingYds_19', 'PassingTD_19', 'PassingAtt_19', 'Int_19',\n",
    "                        'PassingYds_20', 'PassingTD_20', 'PassingAtt_20', 'Int_20'], axis = 1)\n",
    "\n",
    "ff_wr_pts = ff_wr.drop(['PassingYds_19', 'PassingTD_19', 'PassingAtt_19', 'Int_19',\n",
    "                          'PassingYds_20', 'PassingTD_20', 'PassingAtt_20', 'Int_20'], axis = 1)\n",
    "\n",
    "ff_qb_pts = ff_qb.drop(['Tgt_19', 'Rec_19', 'ReceivingYds_19', 'ReceivingTD_19',\n",
    "                       'Tgt_20', 'Rec_20', 'ReceivingYds_20', 'ReceivingTD_20',\n",
    "                       'avg_per_catch19', 'avg_per_catch20', 'avg_per_tgt19', 'avg_per_tgt20'], axis = 1)\n",
    "\n",
    "\n",
    "ff_te_pts = ff_te.drop(['PassingYds_19', 'PassingTD_19', 'PassingAtt_19', 'Int_19',\n",
    "                        'PassingYds_20', 'PassingTD_20', 'PassingAtt_20', 'Int_20',\n",
    "                       'RushingYds_19', 'RushingAtt_19', 'RushingTD_19', 'avg_per_rush19', 'avg_per_rush20'], axis = 1)\n",
    "\n"
   ]
  },
  {
   "cell_type": "code",
   "execution_count": 271,
   "id": "1c910ab4",
   "metadata": {
    "scrolled": true
   },
   "outputs": [
    {
     "data": {
      "text/html": [
       "<div>\n",
       "<style scoped>\n",
       "    .dataframe tbody tr th:only-of-type {\n",
       "        vertical-align: middle;\n",
       "    }\n",
       "\n",
       "    .dataframe tbody tr th {\n",
       "        vertical-align: top;\n",
       "    }\n",
       "\n",
       "    .dataframe thead th {\n",
       "        text-align: right;\n",
       "    }\n",
       "</style>\n",
       "<table border=\"1\" class=\"dataframe\">\n",
       "  <thead>\n",
       "    <tr style=\"text-align: right;\">\n",
       "      <th></th>\n",
       "      <th>player_id</th>\n",
       "      <th>player_name</th>\n",
       "      <th>team_19</th>\n",
       "      <th>position_19</th>\n",
       "      <th>height_19</th>\n",
       "      <th>weight_19</th>\n",
       "      <th>years_exp_19</th>\n",
       "      <th>rookie_year_19</th>\n",
       "      <th>Tm_19</th>\n",
       "      <th>G_19</th>\n",
       "      <th>...</th>\n",
       "      <th>fp_per_gm21</th>\n",
       "      <th>rookie19</th>\n",
       "      <th>rookie20</th>\n",
       "      <th>rookie21</th>\n",
       "      <th>FantasyPoints_19hppr</th>\n",
       "      <th>FantasyPoints_20hppr</th>\n",
       "      <th>FantasyPoints_21hppr</th>\n",
       "      <th>fp_per_gm19hppr</th>\n",
       "      <th>fp_per_gm20hppr</th>\n",
       "      <th>fp_per_gm21hppr</th>\n",
       "    </tr>\n",
       "  </thead>\n",
       "  <tbody>\n",
       "    <tr>\n",
       "      <th>1</th>\n",
       "      <td>00-0032187</td>\n",
       "      <td>David Johnson</td>\n",
       "      <td>ARI</td>\n",
       "      <td>RB</td>\n",
       "      <td>73</td>\n",
       "      <td>224.0</td>\n",
       "      <td>4.0</td>\n",
       "      <td>2015.0</td>\n",
       "      <td>ARI</td>\n",
       "      <td>13.0</td>\n",
       "      <td>...</td>\n",
       "      <td>3.769231</td>\n",
       "      <td>0</td>\n",
       "      <td>0</td>\n",
       "      <td>0</td>\n",
       "      <td>159.50</td>\n",
       "      <td>163.5</td>\n",
       "      <td>65.0</td>\n",
       "      <td>12.269231</td>\n",
       "      <td>13.625000</td>\n",
       "      <td>5.000000</td>\n",
       "    </tr>\n",
       "    <tr>\n",
       "      <th>2</th>\n",
       "      <td>00-0033118</td>\n",
       "      <td>Kenyan Drake</td>\n",
       "      <td>ARI</td>\n",
       "      <td>RB</td>\n",
       "      <td>73</td>\n",
       "      <td>211.0</td>\n",
       "      <td>3.0</td>\n",
       "      <td>2016.0</td>\n",
       "      <td>2TM</td>\n",
       "      <td>14.0</td>\n",
       "      <td>...</td>\n",
       "      <td>6.083333</td>\n",
       "      <td>0</td>\n",
       "      <td>0</td>\n",
       "      <td>0</td>\n",
       "      <td>237.20</td>\n",
       "      <td>179.5</td>\n",
       "      <td>88.0</td>\n",
       "      <td>16.942857</td>\n",
       "      <td>11.966667</td>\n",
       "      <td>7.333333</td>\n",
       "    </tr>\n",
       "    <tr>\n",
       "      <th>3</th>\n",
       "      <td>00-0034681</td>\n",
       "      <td>Chase Edmonds</td>\n",
       "      <td>ARI</td>\n",
       "      <td>RB</td>\n",
       "      <td>69</td>\n",
       "      <td>210.0</td>\n",
       "      <td>1.0</td>\n",
       "      <td>2018.0</td>\n",
       "      <td>ARI</td>\n",
       "      <td>13.0</td>\n",
       "      <td>...</td>\n",
       "      <td>8.333333</td>\n",
       "      <td>0</td>\n",
       "      <td>0</td>\n",
       "      <td>0</td>\n",
       "      <td>88.80</td>\n",
       "      <td>141.5</td>\n",
       "      <td>121.5</td>\n",
       "      <td>6.830769</td>\n",
       "      <td>8.843750</td>\n",
       "      <td>10.125000</td>\n",
       "    </tr>\n",
       "    <tr>\n",
       "      <th>14</th>\n",
       "      <td>00-0030465</td>\n",
       "      <td>Kenjon Barner</td>\n",
       "      <td>ATL</td>\n",
       "      <td>RB</td>\n",
       "      <td>69</td>\n",
       "      <td>195.0</td>\n",
       "      <td>6.0</td>\n",
       "      <td>2013.0</td>\n",
       "      <td>ATL</td>\n",
       "      <td>14.0</td>\n",
       "      <td>...</td>\n",
       "      <td>NaN</td>\n",
       "      <td>0</td>\n",
       "      <td>0</td>\n",
       "      <td>0</td>\n",
       "      <td>12.12</td>\n",
       "      <td>NaN</td>\n",
       "      <td>NaN</td>\n",
       "      <td>0.865714</td>\n",
       "      <td>NaN</td>\n",
       "      <td>NaN</td>\n",
       "    </tr>\n",
       "    <tr>\n",
       "      <th>15</th>\n",
       "      <td>00-0031285</td>\n",
       "      <td>Devonta Freeman</td>\n",
       "      <td>ATL</td>\n",
       "      <td>RB</td>\n",
       "      <td>68</td>\n",
       "      <td>206.0</td>\n",
       "      <td>5.0</td>\n",
       "      <td>2014.0</td>\n",
       "      <td>ATL</td>\n",
       "      <td>14.0</td>\n",
       "      <td>...</td>\n",
       "      <td>7.062500</td>\n",
       "      <td>0</td>\n",
       "      <td>0</td>\n",
       "      <td>0</td>\n",
       "      <td>227.10</td>\n",
       "      <td>32.5</td>\n",
       "      <td>130.0</td>\n",
       "      <td>16.221429</td>\n",
       "      <td>6.500000</td>\n",
       "      <td>8.125000</td>\n",
       "    </tr>\n",
       "  </tbody>\n",
       "</table>\n",
       "<p>5 rows × 85 columns</p>\n",
       "</div>"
      ],
      "text/plain": [
       "     player_id      player_name team_19 position_19 height_19  weight_19  \\\n",
       "1   00-0032187    David Johnson     ARI          RB        73      224.0   \n",
       "2   00-0033118     Kenyan Drake     ARI          RB        73      211.0   \n",
       "3   00-0034681    Chase Edmonds     ARI          RB        69      210.0   \n",
       "14  00-0030465    Kenjon Barner     ATL          RB        69      195.0   \n",
       "15  00-0031285  Devonta Freeman     ATL          RB        68      206.0   \n",
       "\n",
       "    years_exp_19  rookie_year_19 Tm_19  G_19  ...  fp_per_gm21  rookie19  \\\n",
       "1            4.0          2015.0   ARI  13.0  ...     3.769231         0   \n",
       "2            3.0          2016.0   2TM  14.0  ...     6.083333         0   \n",
       "3            1.0          2018.0   ARI  13.0  ...     8.333333         0   \n",
       "14           6.0          2013.0   ATL  14.0  ...          NaN         0   \n",
       "15           5.0          2014.0   ATL  14.0  ...     7.062500         0   \n",
       "\n",
       "    rookie20  rookie21  FantasyPoints_19hppr  FantasyPoints_20hppr  \\\n",
       "1          0         0                159.50                 163.5   \n",
       "2          0         0                237.20                 179.5   \n",
       "3          0         0                 88.80                 141.5   \n",
       "14         0         0                 12.12                   NaN   \n",
       "15         0         0                227.10                  32.5   \n",
       "\n",
       "    FantasyPoints_21hppr  fp_per_gm19hppr  fp_per_gm20hppr  fp_per_gm21hppr  \n",
       "1                   65.0        12.269231        13.625000         5.000000  \n",
       "2                   88.0        16.942857        11.966667         7.333333  \n",
       "3                  121.5         6.830769         8.843750        10.125000  \n",
       "14                   NaN         0.865714              NaN              NaN  \n",
       "15                 130.0        16.221429         6.500000         8.125000  \n",
       "\n",
       "[5 rows x 85 columns]"
      ]
     },
     "execution_count": 271,
     "metadata": {},
     "output_type": "execute_result"
    }
   ],
   "source": [
    "ff_rb_pts.head()"
   ]
  },
  {
   "cell_type": "markdown",
   "id": "336e7978",
   "metadata": {},
   "source": [
    "## Data Exploration"
   ]
  },
  {
   "cell_type": "markdown",
   "id": "b5219186",
   "metadata": {},
   "source": [
    "### QB"
   ]
  },
  {
   "cell_type": "code",
   "execution_count": 272,
   "id": "817cd03f",
   "metadata": {},
   "outputs": [
    {
     "data": {
      "text/plain": [
       "Text(0, 0.5, 'RB Fantasy points per game current season (2021)')"
      ]
     },
     "execution_count": 272,
     "metadata": {},
     "output_type": "execute_result"
    },
    {
     "data": {
      "image/png": "[encoded data removed]",
      "text/plain": [
       "<Figure size 432x288 with 1 Axes>"
      ]
     },
     "metadata": {
      "needs_background": "light"
     },
     "output_type": "display_data"
    }
   ],
   "source": [
    "plt.scatter(ff_qb_pts['fp_per_gm20'], ff_qb_pts['fp_per_gm21'], s = ff_qb_pts['GS_20'])\n",
    "# plt.legend(handles =ff_qb_pts['GS_20'] , loc=2) ## Need to figure out how to add a good legend in\n",
    "plt.xlabel('RB Fantasy points per game previous season (2020)')\n",
    "plt.ylabel('RB Fantasy points per game current season (2021)')"
   ]
  },
  {
   "cell_type": "code",
   "execution_count": 273,
   "id": "83071e22",
   "metadata": {},
   "outputs": [
    {
     "data": {
      "text/plain": [
       "Text(0, 0.5, 'QB Fantasy points per game current season (2021)')"
      ]
     },
     "execution_count": 273,
     "metadata": {},
     "output_type": "execute_result"
    },
    {
     "data": {
      "image/png": "[encoded data removed]",
      "text/plain": [
       "<Figure size 432x288 with 1 Axes>"
      ]
     },
     "metadata": {
      "needs_background": "light"
     },
     "output_type": "display_data"
    }
   ],
   "source": [
    "plt.scatter(ff_qb_pts['fp_per_opp20'], ff_qb_pts['fp_per_gm21'], s= ff_qb_pts['GS_20'])\n",
    "plt.xlabel('QB Fantasy points per opportunity previous season (2020)')\n",
    "plt.ylabel('QB Fantasy points per game current season (2021)')"
   ]
  },
  {
   "cell_type": "code",
   "execution_count": 274,
   "id": "ef23c331",
   "metadata": {},
   "outputs": [
    {
     "data": {
      "text/plain": [
       "Text(0, 0.5, 'QB Fantasy points in previous season (2020)')"
      ]
     },
     "execution_count": 274,
     "metadata": {},
     "output_type": "execute_result"
    },
    {
     "data": {
      "image/png": "[encoded data removed]",
      "text/plain": [
       "<Figure size 432x288 with 1 Axes>"
      ]
     },
     "metadata": {
      "needs_background": "light"
     },
     "output_type": "display_data"
    }
   ],
   "source": [
    "plt.scatter(ff_qb_pts['ttl_opp20'], ff_qb_pts['FantasyPoints_20'], ff_qb_pts['GS_20'])\n",
    "plt.xlabel('QB total opportunity previous season (2020)')\n",
    "plt.ylabel('QB Fantasy points in previous season (2020)')"
   ]
  },
  {
   "cell_type": "code",
   "execution_count": 275,
   "id": "ed602799",
   "metadata": {},
   "outputs": [
    {
     "data": {
      "text/plain": [
       "Text(0, 0.5, 'QB Fantasy points in previous season (2020)')"
      ]
     },
     "execution_count": 275,
     "metadata": {},
     "output_type": "execute_result"
    },
    {
     "data": {
      "image/png": "[encoded data removed]",
      "text/plain": [
       "<Figure size 432x288 with 1 Axes>"
      ]
     },
     "metadata": {
      "needs_background": "light"
     },
     "output_type": "display_data"
    }
   ],
   "source": [
    "plt.scatter(ff_qb_pts['years_exp_20'], ff_qb_pts['FantasyPoints_20'] )\n",
    "plt.xlabel('QB total opportunity previous season (2020)')\n",
    "plt.ylabel('QB Fantasy points in previous season (2020)')"
   ]
  },
  {
   "cell_type": "code",
   "execution_count": 276,
   "id": "3c300396",
   "metadata": {},
   "outputs": [
    {
     "data": {
      "text/plain": [
       "<AxesSubplot:>"
      ]
     },
     "execution_count": 276,
     "metadata": {},
     "output_type": "execute_result"
    },
    {
     "data": {
      "image/png": "[encoded data removed]",
      "text/plain": [
       "<Figure size 432x288 with 2 Axes>"
      ]
     },
     "metadata": {
      "needs_background": "light"
     },
     "output_type": "display_data"
    }
   ],
   "source": [
    "sns.heatmap(ff_qb_pts[['fp_per_gm19','fp_per_gm20', 'fp_per_opp19', 'fp_per_opp20', 'ttl_opp19', 'ttl_opp20',\n",
    "                       'rookie_year_20',\n",
    "                       'fp_per_gm21']].corr())"
   ]
  },
  {
   "cell_type": "markdown",
   "id": "4b215afb",
   "metadata": {},
   "source": [
    "### RB"
   ]
  },
  {
   "cell_type": "code",
   "execution_count": 277,
   "id": "580e7065",
   "metadata": {},
   "outputs": [
    {
     "data": {
      "text/plain": [
       "Text(0, 0.5, 'RB Fantasy points per game current season (2021)')"
      ]
     },
     "execution_count": 277,
     "metadata": {},
     "output_type": "execute_result"
    },
    {
     "data": {
      "image/png": "[encoded data removed]",
      "text/plain": [
       "<Figure size 432x288 with 1 Axes>"
      ]
     },
     "metadata": {
      "needs_background": "light"
     },
     "output_type": "display_data"
    }
   ],
   "source": [
    "plt.scatter(ff_rb_pts['fp_per_gm20'], ff_rb_pts['fp_per_gm21'], s = ff_rb_pts['GS_20'])\n",
    "# plt.legend(ff_rb_pts['GS_20']) ## Need to figure out how to add a good legend in\n",
    "plt.xlabel('RB Fantasy points per game previous season (2020)')\n",
    "plt.ylabel('RB Fantasy points per game current season (2021)')"
   ]
  },
  {
   "cell_type": "markdown",
   "id": "e49ce994",
   "metadata": {},
   "source": [
    "The players with possibly most value are the ones lower on the x axis, but higher on y axis"
   ]
  },
  {
   "cell_type": "code",
   "execution_count": 278,
   "id": "a7ad895d",
   "metadata": {},
   "outputs": [
    {
     "data": {
      "text/plain": [
       "Text(0, 0.5, 'RB Fantasy points per game current season (2021)')"
      ]
     },
     "execution_count": 278,
     "metadata": {},
     "output_type": "execute_result"
    },
    {
     "data": {
      "image/png": "[encoded data removed]",
      "text/plain": [
       "<Figure size 432x288 with 1 Axes>"
      ]
     },
     "metadata": {
      "needs_background": "light"
     },
     "output_type": "display_data"
    }
   ],
   "source": [
    "plt.scatter(ff_rb_pts['fp_per_opp20'], ff_rb_pts['fp_per_gm21'], ff_rb_pts['GS_20'])\n",
    "plt.xlabel('RB Fantasy points per opportunity previous season (2020)')\n",
    "plt.ylabel('RB Fantasy points per game current season (2021)')"
   ]
  },
  {
   "cell_type": "markdown",
   "id": "f1b4b86c",
   "metadata": {},
   "source": [
    "There appear to be some outliers in fantasy points per opportunity"
   ]
  },
  {
   "cell_type": "code",
   "execution_count": 279,
   "id": "c0fbef9f",
   "metadata": {
    "scrolled": true
   },
   "outputs": [
    {
     "data": {
      "text/plain": [
       "Text(0, 0.5, 'RB Fantasy points in previous season (2020)')"
      ]
     },
     "execution_count": 279,
     "metadata": {},
     "output_type": "execute_result"
    },
    {
     "data": {
      "image/png": "[encoded data removed]",
      "text/plain": [
       "<Figure size 432x288 with 1 Axes>"
      ]
     },
     "metadata": {
      "needs_background": "light"
     },
     "output_type": "display_data"
    }
   ],
   "source": [
    "plt.scatter(ff_rb_pts['ttl_opp20'], ff_rb_pts['FantasyPoints_20'])\n",
    "plt.xlabel('RB total opportunity previous season (2020)')\n",
    "plt.ylabel('RB Fantasy points in previous season (2020)')"
   ]
  },
  {
   "cell_type": "code",
   "execution_count": 280,
   "id": "60f02a69",
   "metadata": {},
   "outputs": [
    {
     "data": {
      "text/plain": [
       "Text(0, 0.5, 'RB Fantasy points in season(2020)')"
      ]
     },
     "execution_count": 280,
     "metadata": {},
     "output_type": "execute_result"
    },
    {
     "data": {
      "image/png": "[encoded data removed]",
      "text/plain": [
       "<Figure size 432x288 with 1 Axes>"
      ]
     },
     "metadata": {
      "needs_background": "light"
     },
     "output_type": "display_data"
    }
   ],
   "source": [
    "plt.scatter(ff_rb_pts['years_exp_20'], ff_rb_pts['FantasyPoints_20hppr'] )\n",
    "plt.xlabel('RB years of experience (2020)')\n",
    "plt.ylabel('RB Fantasy points in season(2020)')"
   ]
  },
  {
   "cell_type": "code",
   "execution_count": 281,
   "id": "b15875f5",
   "metadata": {},
   "outputs": [
    {
     "name": "stderr",
     "output_type": "stream",
     "text": [
      "C:\\Users\\steph\\miniconda3\\lib\\site-packages\\seaborn\\_decorators.py:36: FutureWarning: Pass the following variables as keyword args: x, y. From version 0.12, the only valid positional argument will be `data`, and passing other arguments without an explicit keyword will result in an error or misinterpretation.\n",
      "  warnings.warn(\n"
     ]
    },
    {
     "data": {
      "text/plain": [
       "Text(0, 0.5, 'RB Standard Fantasy points in season(2020)')"
      ]
     },
     "execution_count": 281,
     "metadata": {},
     "output_type": "execute_result"
    },
    {
     "data": {
      "image/png": "[encoded data removed]",
      "text/plain": [
       "<Figure size 432x288 with 1 Axes>"
      ]
     },
     "metadata": {
      "needs_background": "light"
     },
     "output_type": "display_data"
    }
   ],
   "source": [
    "sns.barplot(ff_rb_pts['years_exp_20'], ff_rb_pts['FantasyPoints_20'] )\n",
    "plt.xlabel('RB years of experience (2020)')\n",
    "plt.ylabel('RB Standard Fantasy points in season(2020)')"
   ]
  },
  {
   "cell_type": "code",
   "execution_count": 282,
   "id": "733e59bf",
   "metadata": {},
   "outputs": [
    {
     "name": "stderr",
     "output_type": "stream",
     "text": [
      "C:\\Users\\steph\\miniconda3\\lib\\site-packages\\seaborn\\_decorators.py:36: FutureWarning: Pass the following variables as keyword args: x, y. From version 0.12, the only valid positional argument will be `data`, and passing other arguments without an explicit keyword will result in an error or misinterpretation.\n",
      "  warnings.warn(\n"
     ]
    },
    {
     "data": {
      "text/plain": [
       "Text(0, 0.5, 'RB Half-ppr Fantasy points in season(2020)')"
      ]
     },
     "execution_count": 282,
     "metadata": {},
     "output_type": "execute_result"
    },
    {
     "data": {
      "image/png": "[encoded data removed]",
      "text/plain": [
       "<Figure size 432x288 with 1 Axes>"
      ]
     },
     "metadata": {
      "needs_background": "light"
     },
     "output_type": "display_data"
    }
   ],
   "source": [
    "sns.barplot(ff_rb_pts['years_exp_20'], ff_rb_pts['FantasyPoints_20hppr'] )\n",
    "plt.xlabel('RB years of experience (2020)')\n",
    "plt.ylabel('RB Half-ppr Fantasy points in season(2020)')"
   ]
  },
  {
   "cell_type": "code",
   "execution_count": 283,
   "id": "e3de4aea",
   "metadata": {},
   "outputs": [
    {
     "name": "stderr",
     "output_type": "stream",
     "text": [
      "C:\\Users\\steph\\miniconda3\\lib\\site-packages\\seaborn\\_decorators.py:36: FutureWarning: Pass the following variables as keyword args: x, y. From version 0.12, the only valid positional argument will be `data`, and passing other arguments without an explicit keyword will result in an error or misinterpretation.\n",
      "  warnings.warn(\n"
     ]
    },
    {
     "data": {
      "text/plain": [
       "Text(0, 0.5, 'RB Fantasy points per game in season(2020)')"
      ]
     },
     "execution_count": 283,
     "metadata": {},
     "output_type": "execute_result"
    },
    {
     "data": {
      "image/png": "[encoded data removed]",
      "text/plain": [
       "<Figure size 432x288 with 1 Axes>"
      ]
     },
     "metadata": {
      "needs_background": "light"
     },
     "output_type": "display_data"
    }
   ],
   "source": [
    "sns.barplot(ff_rb_pts['years_exp_20'], ff_rb_pts['fp_per_gm20'] )\n",
    "plt.xlabel('If RB is rookie or not (0 - no, 1 - yes)')\n",
    "plt.ylabel('RB Fantasy points per game in season(2020)')"
   ]
  },
  {
   "cell_type": "code",
   "execution_count": 307,
   "id": "a3f781fd",
   "metadata": {},
   "outputs": [
    {
     "name": "stderr",
     "output_type": "stream",
     "text": [
      "C:\\Users\\steph\\miniconda3\\lib\\site-packages\\seaborn\\_decorators.py:36: FutureWarning: Pass the following variables as keyword args: x, y. From version 0.12, the only valid positional argument will be `data`, and passing other arguments without an explicit keyword will result in an error or misinterpretation.\n",
      "  warnings.warn(\n"
     ]
    },
    {
     "data": {
      "text/plain": [
       "Text(0, 0.5, 'RB Fantasy points per game in season(2020)')"
      ]
     },
     "execution_count": 307,
     "metadata": {},
     "output_type": "execute_result"
    },
    {
     "data": {
      "image/png": "[encoded data removed]",
      "text/plain": [
       "<Figure size 432x288 with 1 Axes>"
      ]
     },
     "metadata": {
      "needs_background": "light"
     },
     "output_type": "display_data"
    }
   ],
   "source": [
    "sns.barplot(ff_rb_pts['years_exp_20'], ff_rb_pts['fp_per_opp20'] )\n",
    "plt.xlabel('If RB is rookie or not (0 - no, 1 - yes)')\n",
    "plt.ylabel('RB Fantasy points per game in season(2020)')"
   ]
  },
  {
   "cell_type": "code",
   "execution_count": 284,
   "id": "ed335b17",
   "metadata": {},
   "outputs": [
    {
     "name": "stderr",
     "output_type": "stream",
     "text": [
      "C:\\Users\\steph\\miniconda3\\lib\\site-packages\\seaborn\\_decorators.py:36: FutureWarning: Pass the following variables as keyword args: x, y. From version 0.12, the only valid positional argument will be `data`, and passing other arguments without an explicit keyword will result in an error or misinterpretation.\n",
      "  warnings.warn(\n"
     ]
    },
    {
     "data": {
      "text/plain": [
       "Text(0, 0.5, 'RB Fantasy points per game in season(2020)')"
      ]
     },
     "execution_count": 284,
     "metadata": {},
     "output_type": "execute_result"
    },
    {
     "data": {
      "image/png": "[encoded data removed]",
      "text/plain": [
       "<Figure size 432x288 with 1 Axes>"
      ]
     },
     "metadata": {
      "needs_background": "light"
     },
     "output_type": "display_data"
    }
   ],
   "source": [
    "sns.barplot(ff_rb_pts['rookie20'], ff_rb_pts['fp_per_gm20hppr'] )\n",
    "plt.xlabel('If RB is rookie or not (0 - no, 1 - yes)')\n",
    "plt.ylabel('RB Fantasy points per game in season(2020)')"
   ]
  },
  {
   "cell_type": "code",
   "execution_count": 285,
   "id": "df7402ba",
   "metadata": {
    "scrolled": true
   },
   "outputs": [
    {
     "data": {
      "text/plain": [
       "<AxesSubplot:>"
      ]
     },
     "execution_count": 285,
     "metadata": {},
     "output_type": "execute_result"
    },
    {
     "data": {
      "image/png": "[encoded data removed]",
      "text/plain": [
       "<Figure size 432x288 with 2 Axes>"
      ]
     },
     "metadata": {
      "needs_background": "light"
     },
     "output_type": "display_data"
    }
   ],
   "source": [
    "sns.heatmap(ff_rb_pts[['fp_per_gm19','fp_per_gm20', 'fp_per_opp19', 'fp_per_opp20', 'ttl_opp19', 'ttl_opp20', \n",
    "                       'pct_gs19', 'pct_gs20', 'rookie19',\n",
    "                       'rookie20',\n",
    "                       'fp_per_gm21hppr']].corr())"
   ]
  },
  {
   "cell_type": "markdown",
   "id": "ec7d2561",
   "metadata": {},
   "source": [
    "### WR"
   ]
  },
  {
   "cell_type": "code",
   "execution_count": 286,
   "id": "ce7341cc",
   "metadata": {},
   "outputs": [
    {
     "data": {
      "text/plain": [
       "Text(0, 0.5, 'WR Fantasy points per game current season (2021)')"
      ]
     },
     "execution_count": 286,
     "metadata": {},
     "output_type": "execute_result"
    },
    {
     "data": {
      "image/png": "[encoded data removed]",
      "text/plain": [
       "<Figure size 432x288 with 1 Axes>"
      ]
     },
     "metadata": {
      "needs_background": "light"
     },
     "output_type": "display_data"
    }
   ],
   "source": [
    "plt.scatter(ff_wr_pts['fp_per_gm20'], ff_wr_pts['fp_per_gm21'], s = ff_wr_pts['GS_20'])\n",
    "plt.xlabel('WR Fantasy points per game previous season (2020)')\n",
    "plt.ylabel('WR Fantasy points per game current season (2021)')"
   ]
  },
  {
   "cell_type": "code",
   "execution_count": 287,
   "id": "8cfd9cdb",
   "metadata": {},
   "outputs": [
    {
     "data": {
      "text/plain": [
       "Text(0, 0.5, 'WR Fantasy points per game current season (2021)')"
      ]
     },
     "execution_count": 287,
     "metadata": {},
     "output_type": "execute_result"
    },
    {
     "data": {
      "image/png": "[encoded data removed]",
      "text/plain": [
       "<Figure size 432x288 with 1 Axes>"
      ]
     },
     "metadata": {
      "needs_background": "light"
     },
     "output_type": "display_data"
    }
   ],
   "source": [
    "plt.scatter(ff_wr_pts['fp_per_opp20'], ff_wr_pts['fp_per_gm21'])\n",
    "plt.xlabel('WR Fantasy points per opp previous season (2020)')\n",
    "plt.ylabel('WR Fantasy points per game current season (2021)')"
   ]
  },
  {
   "cell_type": "code",
   "execution_count": 288,
   "id": "3468bb78",
   "metadata": {},
   "outputs": [
    {
     "data": {
      "text/plain": [
       "<matplotlib.collections.PathCollection at 0x2af5bf84160>"
      ]
     },
     "execution_count": 288,
     "metadata": {},
     "output_type": "execute_result"
    },
    {
     "data": {
      "image/png": "[encoded data removed]",
      "text/plain": [
       "<Figure size 432x288 with 1 Axes>"
      ]
     },
     "metadata": {
      "needs_background": "light"
     },
     "output_type": "display_data"
    }
   ],
   "source": [
    "plt.scatter(ff_wr_pts['pct_gs20'], ff_wr_pts['fp_per_gm21'])"
   ]
  },
  {
   "cell_type": "code",
   "execution_count": 289,
   "id": "c85407e6",
   "metadata": {},
   "outputs": [
    {
     "data": {
      "text/plain": [
       "Text(0, 0.5, 'WR Fantasy points in previous season (2020)')"
      ]
     },
     "execution_count": 289,
     "metadata": {},
     "output_type": "execute_result"
    },
    {
     "data": {
      "image/png": "[encoded data removed]",
      "text/plain": [
       "<Figure size 432x288 with 1 Axes>"
      ]
     },
     "metadata": {
      "needs_background": "light"
     },
     "output_type": "display_data"
    }
   ],
   "source": [
    "plt.scatter(ff_wr_pts['ttl_opp20'], ff_wr_pts['FantasyPoints_20'])\n",
    "plt.xlabel('WR total opportunity previous season (2020)')\n",
    "plt.ylabel('WR Fantasy points in previous season (2020)')"
   ]
  },
  {
   "cell_type": "code",
   "execution_count": 290,
   "id": "b3c8f0ed",
   "metadata": {},
   "outputs": [
    {
     "name": "stderr",
     "output_type": "stream",
     "text": [
      "C:\\Users\\steph\\miniconda3\\lib\\site-packages\\seaborn\\_decorators.py:36: FutureWarning: Pass the following variables as keyword args: x, y. From version 0.12, the only valid positional argument will be `data`, and passing other arguments without an explicit keyword will result in an error or misinterpretation.\n",
      "  warnings.warn(\n"
     ]
    },
    {
     "data": {
      "text/plain": [
       "Text(0, 0.5, 'WR Fantasy points in season(2019)')"
      ]
     },
     "execution_count": 290,
     "metadata": {},
     "output_type": "execute_result"
    },
    {
     "data": {
      "image/png": "[encoded data removed]",
      "text/plain": [
       "<Figure size 432x288 with 1 Axes>"
      ]
     },
     "metadata": {
      "needs_background": "light"
     },
     "output_type": "display_data"
    }
   ],
   "source": [
    "sns.barplot(ff_wr_pts['years_exp_19'], ff_wr_pts['FantasyPoints_19'])\n",
    "plt.xlabel('WR years of experience (2019)')\n",
    "plt.ylabel('WR Fantasy points in season(2019)')"
   ]
  },
  {
   "cell_type": "code",
   "execution_count": 291,
   "id": "d23ee778",
   "metadata": {},
   "outputs": [
    {
     "name": "stderr",
     "output_type": "stream",
     "text": [
      "C:\\Users\\steph\\miniconda3\\lib\\site-packages\\seaborn\\_decorators.py:36: FutureWarning: Pass the following variables as keyword args: x, y. From version 0.12, the only valid positional argument will be `data`, and passing other arguments without an explicit keyword will result in an error or misinterpretation.\n",
      "  warnings.warn(\n"
     ]
    },
    {
     "data": {
      "text/plain": [
       "Text(0, 0.5, 'WR Fantasy points in season(2020)')"
      ]
     },
     "execution_count": 291,
     "metadata": {},
     "output_type": "execute_result"
    },
    {
     "data": {
      "image/png": "[encoded data removed]",
      "text/plain": [
       "<Figure size 432x288 with 1 Axes>"
      ]
     },
     "metadata": {
      "needs_background": "light"
     },
     "output_type": "display_data"
    }
   ],
   "source": [
    "sns.barplot(ff_wr_pts['years_exp_20'], ff_wr_pts['FantasyPoints_20'] )\n",
    "plt.xlabel('WR years of experience (2020)')\n",
    "plt.ylabel('WR Fantasy points in season(2020)')"
   ]
  },
  {
   "cell_type": "code",
   "execution_count": 292,
   "id": "f77d2c47",
   "metadata": {},
   "outputs": [
    {
     "name": "stderr",
     "output_type": "stream",
     "text": [
      "C:\\Users\\steph\\miniconda3\\lib\\site-packages\\seaborn\\_decorators.py:36: FutureWarning: Pass the following variables as keyword args: x, y. From version 0.12, the only valid positional argument will be `data`, and passing other arguments without an explicit keyword will result in an error or misinterpretation.\n",
      "  warnings.warn(\n"
     ]
    },
    {
     "data": {
      "text/plain": [
       "Text(0, 0.5, 'WR Fantasy points per game in season(2020)')"
      ]
     },
     "execution_count": 292,
     "metadata": {},
     "output_type": "execute_result"
    },
    {
     "data": {
      "image/png": "[encoded data removed]",
      "text/plain": [
       "<Figure size 432x288 with 1 Axes>"
      ]
     },
     "metadata": {
      "needs_background": "light"
     },
     "output_type": "display_data"
    }
   ],
   "source": [
    "sns.barplot(ff_wr_pts['years_exp_20'], ff_wr_pts['fp_per_gm20'] )\n",
    "plt.xlabel('WR years of experience (2020)')\n",
    "plt.ylabel('WR Fantasy points per game in season(2020)')"
   ]
  },
  {
   "cell_type": "code",
   "execution_count": 293,
   "id": "607e10ff",
   "metadata": {},
   "outputs": [
    {
     "name": "stderr",
     "output_type": "stream",
     "text": [
      "C:\\Users\\steph\\miniconda3\\lib\\site-packages\\seaborn\\_decorators.py:36: FutureWarning: Pass the following variables as keyword args: x, y. From version 0.12, the only valid positional argument will be `data`, and passing other arguments without an explicit keyword will result in an error or misinterpretation.\n",
      "  warnings.warn(\n"
     ]
    },
    {
     "data": {
      "text/plain": [
       "Text(0, 0.5, 'WR Fantasy points in season(2020)')"
      ]
     },
     "execution_count": 293,
     "metadata": {},
     "output_type": "execute_result"
    },
    {
     "data": {
      "image/png": "[encoded data removed]",
      "text/plain": [
       "<Figure size 432x288 with 1 Axes>"
      ]
     },
     "metadata": {
      "needs_background": "light"
     },
     "output_type": "display_data"
    }
   ],
   "source": [
    "sns.barplot(ff_wr_pts['years_exp_21'], ff_wr_pts['fp_per_gm21'] )\n",
    "plt.xlabel('WR years of experience (2020)')\n",
    "plt.ylabel('WR Fantasy points in season(2020)')"
   ]
  },
  {
   "cell_type": "code",
   "execution_count": 294,
   "id": "3a4ff92e",
   "metadata": {},
   "outputs": [
    {
     "name": "stderr",
     "output_type": "stream",
     "text": [
      "C:\\Users\\steph\\miniconda3\\lib\\site-packages\\seaborn\\_decorators.py:36: FutureWarning: Pass the following variables as keyword args: x, y. From version 0.12, the only valid positional argument will be `data`, and passing other arguments without an explicit keyword will result in an error or misinterpretation.\n",
      "  warnings.warn(\n"
     ]
    },
    {
     "data": {
      "text/plain": [
       "Text(0, 0.5, 'WR Fantasy points per game in season(2020)')"
      ]
     },
     "execution_count": 294,
     "metadata": {},
     "output_type": "execute_result"
    },
    {
     "data": {
      "image/png": "[encoded data removed]",
      "text/plain": [
       "<Figure size 432x288 with 1 Axes>"
      ]
     },
     "metadata": {
      "needs_background": "light"
     },
     "output_type": "display_data"
    }
   ],
   "source": [
    "sns.barplot(ff_wr_pts['rookie20'], ff_wr_pts['fp_per_gm20'] )\n",
    "plt.xlabel('If WR is rookie or not (0 - no, 1 - yes)')\n",
    "plt.ylabel('WR Fantasy points per game in season(2020)')"
   ]
  },
  {
   "cell_type": "code",
   "execution_count": 295,
   "id": "9d53f8e9",
   "metadata": {},
   "outputs": [
    {
     "data": {
      "text/plain": [
       "<AxesSubplot:>"
      ]
     },
     "execution_count": 295,
     "metadata": {},
     "output_type": "execute_result"
    },
    {
     "data": {
      "image/png": "[encoded data removed]",
      "text/plain": [
       "<Figure size 432x288 with 2 Axes>"
      ]
     },
     "metadata": {
      "needs_background": "light"
     },
     "output_type": "display_data"
    }
   ],
   "source": [
    "sns.heatmap(ff_wr_pts[['fp_per_gm19','fp_per_gm20', 'fp_per_opp19', 'fp_per_opp20', 'ttl_opp19', 'ttl_opp20', 'rookie20',\n",
    "                       'rookie21',\n",
    "                       'fp_per_gm21']].corr())"
   ]
  },
  {
   "cell_type": "markdown",
   "id": "664671b0",
   "metadata": {},
   "source": [
    "### TE"
   ]
  },
  {
   "cell_type": "code",
   "execution_count": 296,
   "id": "bd767b8a",
   "metadata": {},
   "outputs": [
    {
     "data": {
      "text/plain": [
       "Text(0, 0.5, 'TE Fantasy points per game current season (2021)')"
      ]
     },
     "execution_count": 296,
     "metadata": {},
     "output_type": "execute_result"
    },
    {
     "data": {
      "image/png": "[encoded data removed]",
      "text/plain": [
       "<Figure size 432x288 with 1 Axes>"
      ]
     },
     "metadata": {
      "needs_background": "light"
     },
     "output_type": "display_data"
    }
   ],
   "source": [
    "plt.scatter(ff_te_pts['fp_per_gm20'], ff_te_pts['fp_per_gm21'])\n",
    "plt.xlabel('TE Fantasy points per game previous season (2020)')\n",
    "plt.ylabel('TE Fantasy points per game current season (2021)')"
   ]
  },
  {
   "cell_type": "code",
   "execution_count": 297,
   "id": "2390ae90",
   "metadata": {},
   "outputs": [
    {
     "data": {
      "text/plain": [
       "Text(0, 0.5, 'TE Fantasy points per game current season (2021)')"
      ]
     },
     "execution_count": 297,
     "metadata": {},
     "output_type": "execute_result"
    },
    {
     "data": {
      "image/png": "[encoded data removed]",
      "text/plain": [
       "<Figure size 432x288 with 1 Axes>"
      ]
     },
     "metadata": {
      "needs_background": "light"
     },
     "output_type": "display_data"
    }
   ],
   "source": [
    "plt.scatter(ff_te_pts['fp_per_opp20'], ff_te_pts['fp_per_gm21'])\n",
    "plt.xlabel('TE Fantasy points per opportunity previous season (2020)')\n",
    "plt.ylabel('TE Fantasy points per game current season (2021)')"
   ]
  },
  {
   "cell_type": "code",
   "execution_count": 298,
   "id": "75b85dc9",
   "metadata": {},
   "outputs": [
    {
     "data": {
      "text/plain": [
       "Text(0, 0.5, 'TE Fantasy points previous season (2020)')"
      ]
     },
     "execution_count": 298,
     "metadata": {},
     "output_type": "execute_result"
    },
    {
     "data": {
      "image/png": "[encoded data removed]",
      "text/plain": [
       "<Figure size 432x288 with 1 Axes>"
      ]
     },
     "metadata": {
      "needs_background": "light"
     },
     "output_type": "display_data"
    }
   ],
   "source": [
    "plt.scatter(ff_te_pts['ttl_opp20'], ff_te_pts['FantasyPoints_20'])\n",
    "plt.xlabel('TE opportunity previous season (2020)')\n",
    "plt.ylabel('TE Fantasy points previous season (2020)')"
   ]
  },
  {
   "cell_type": "code",
   "execution_count": 299,
   "id": "cbdcab79",
   "metadata": {},
   "outputs": [
    {
     "data": {
      "text/plain": [
       "Text(0, 0.5, 'TE Fantasy points previous season (2020)')"
      ]
     },
     "execution_count": 299,
     "metadata": {},
     "output_type": "execute_result"
    },
    {
     "data": {
      "image/png": "[encoded data removed]",
      "text/plain": [
       "<Figure size 432x288 with 1 Axes>"
      ]
     },
     "metadata": {
      "needs_background": "light"
     },
     "output_type": "display_data"
    }
   ],
   "source": [
    "plt.scatter(ff_te_pts['ttl_opp20'], ff_te_pts['FantasyPoints_21'])\n",
    "plt.xlabel('TE opportunity previous season (2020)')\n",
    "plt.ylabel('TE Fantasy points previous season (2020)')"
   ]
  },
  {
   "cell_type": "code",
   "execution_count": 305,
   "id": "5247d1e1",
   "metadata": {},
   "outputs": [
    {
     "data": {
      "text/plain": [
       "<matplotlib.collections.PathCollection at 0x2af5bed40a0>"
      ]
     },
     "execution_count": 305,
     "metadata": {},
     "output_type": "execute_result"
    },
    {
     "data": {
      "image/png": "[encoded data removed]",
      "text/plain": [
       "<Figure size 432x288 with 1 Axes>"
      ]
     },
     "metadata": {
      "needs_background": "light"
     },
     "output_type": "display_data"
    }
   ],
   "source": [
    "plt.scatter(ff_te_pts['ttl_opp20'], ff_te_pts['fp_per_opp20'])"
   ]
  },
  {
   "cell_type": "code",
   "execution_count": 300,
   "id": "61eeaa9f",
   "metadata": {},
   "outputs": [
    {
     "name": "stderr",
     "output_type": "stream",
     "text": [
      "C:\\Users\\steph\\miniconda3\\lib\\site-packages\\seaborn\\_decorators.py:36: FutureWarning: Pass the following variables as keyword args: x, y. From version 0.12, the only valid positional argument will be `data`, and passing other arguments without an explicit keyword will result in an error or misinterpretation.\n",
      "  warnings.warn(\n"
     ]
    },
    {
     "data": {
      "text/plain": [
       "Text(0, 0.5, 'TE Fantasy points in season(2020)')"
      ]
     },
     "execution_count": 300,
     "metadata": {},
     "output_type": "execute_result"
    },
    {
     "data": {
      "image/png": "[encoded data removed]",
      "text/plain": [
       "<Figure size 432x288 with 1 Axes>"
      ]
     },
     "metadata": {
      "needs_background": "light"
     },
     "output_type": "display_data"
    }
   ],
   "source": [
    "sns.barplot(ff_te_pts['years_exp_20'], ff_te_pts['FantasyPoints_20'] )\n",
    "plt.xlabel('TE years of experience (2020)')\n",
    "plt.ylabel('TE Fantasy points in season(2020)')"
   ]
  },
  {
   "cell_type": "code",
   "execution_count": 301,
   "id": "2fedd29b",
   "metadata": {},
   "outputs": [
    {
     "name": "stderr",
     "output_type": "stream",
     "text": [
      "C:\\Users\\steph\\miniconda3\\lib\\site-packages\\seaborn\\_decorators.py:36: FutureWarning: Pass the following variables as keyword args: x, y. From version 0.12, the only valid positional argument will be `data`, and passing other arguments without an explicit keyword will result in an error or misinterpretation.\n",
      "  warnings.warn(\n"
     ]
    },
    {
     "data": {
      "text/plain": [
       "Text(0, 0.5, 'TE Fantasy points in season(2020)')"
      ]
     },
     "execution_count": 301,
     "metadata": {},
     "output_type": "execute_result"
    },
    {
     "data": {
      "image/png": "[encoded data removed]",
      "text/plain": [
       "<Figure size 432x288 with 1 Axes>"
      ]
     },
     "metadata": {
      "needs_background": "light"
     },
     "output_type": "display_data"
    }
   ],
   "source": [
    "sns.barplot(ff_te_pts['years_exp_20'], ff_te_pts['fp_per_gm20'] )\n",
    "plt.xlabel('TE years of experience (2020)')\n",
    "plt.ylabel('TE Fantasy points in season(2020)')"
   ]
  },
  {
   "cell_type": "code",
   "execution_count": 306,
   "id": "1bcc1224",
   "metadata": {},
   "outputs": [
    {
     "name": "stderr",
     "output_type": "stream",
     "text": [
      "C:\\Users\\steph\\miniconda3\\lib\\site-packages\\seaborn\\_decorators.py:36: FutureWarning: Pass the following variables as keyword args: x, y. From version 0.12, the only valid positional argument will be `data`, and passing other arguments without an explicit keyword will result in an error or misinterpretation.\n",
      "  warnings.warn(\n"
     ]
    },
    {
     "data": {
      "text/plain": [
       "Text(0, 0.5, 'TE Fantasy points in season(2020)')"
      ]
     },
     "execution_count": 306,
     "metadata": {},
     "output_type": "execute_result"
    },
    {
     "data": {
      "image/png": "[encoded data removed]",
      "text/plain": [
       "<Figure size 432x288 with 1 Axes>"
      ]
     },
     "metadata": {
      "needs_background": "light"
     },
     "output_type": "display_data"
    }
   ],
   "source": [
    "sns.barplot(ff_te_pts['years_exp_20'], ff_te_pts['fp_per_opp20'] )\n",
    "plt.xlabel('TE years of experience (2020)')\n",
    "plt.ylabel('TE Fantasy points in season(2020)')"
   ]
  },
  {
   "cell_type": "code",
   "execution_count": 302,
   "id": "3fe9a36f",
   "metadata": {},
   "outputs": [
    {
     "name": "stderr",
     "output_type": "stream",
     "text": [
      "C:\\Users\\steph\\miniconda3\\lib\\site-packages\\seaborn\\_decorators.py:36: FutureWarning: Pass the following variables as keyword args: x, y. From version 0.12, the only valid positional argument will be `data`, and passing other arguments without an explicit keyword will result in an error or misinterpretation.\n",
      "  warnings.warn(\n"
     ]
    },
    {
     "data": {
      "text/plain": [
       "Text(0, 0.5, 'TE Fantasy points per game in season(2020)')"
      ]
     },
     "execution_count": 302,
     "metadata": {},
     "output_type": "execute_result"
    },
    {
     "data": {
      "image/png": "[encoded data removed]",
      "text/plain": [
       "<Figure size 432x288 with 1 Axes>"
      ]
     },
     "metadata": {
      "needs_background": "light"
     },
     "output_type": "display_data"
    }
   ],
   "source": [
    "sns.barplot(ff_te_pts['rookie20'], ff_te_pts['fp_per_gm20'] )\n",
    "plt.xlabel('If TE is rookie or not (0 - no, 1 - yes)')\n",
    "plt.ylabel('TE Fantasy points per game in season(2020)')"
   ]
  },
  {
   "cell_type": "code",
   "execution_count": 303,
   "id": "5864c2a9",
   "metadata": {
    "scrolled": true
   },
   "outputs": [
    {
     "data": {
      "text/plain": [
       "<AxesSubplot:>"
      ]
     },
     "execution_count": 303,
     "metadata": {},
     "output_type": "execute_result"
    },
    {
     "data": {
      "image/png": "[encoded data removed]",
      "text/plain": [
       "<Figure size 432x288 with 2 Axes>"
      ]
     },
     "metadata": {
      "needs_background": "light"
     },
     "output_type": "display_data"
    }
   ],
   "source": [
    "sns.heatmap(ff_te_pts[['fp_per_gm19','fp_per_gm20', 'fp_per_opp19', 'fp_per_opp20', 'ttl_opp19', 'ttl_opp20', \n",
    "                       'fp_per_gm21']].corr())"
   ]
  },
  {
   "cell_type": "markdown",
   "id": "394d2878",
   "metadata": {},
   "source": [
    "### Cutoffs? Cleaning outliers? Distributions?"
   ]
  },
  {
   "cell_type": "markdown",
   "id": "cb7cd613",
   "metadata": {},
   "source": [
    "\n",
    "\n",
    "Cutoffs for total opportunities in previous season?"
   ]
  },
  {
   "cell_type": "code",
   "execution_count": 314,
   "id": "c4b7ebf3",
   "metadata": {},
   "outputs": [
    {
     "data": {
      "text/html": [
       "<div>\n",
       "<style scoped>\n",
       "    .dataframe tbody tr th:only-of-type {\n",
       "        vertical-align: middle;\n",
       "    }\n",
       "\n",
       "    .dataframe tbody tr th {\n",
       "        vertical-align: top;\n",
       "    }\n",
       "\n",
       "    .dataframe thead th {\n",
       "        text-align: right;\n",
       "    }\n",
       "</style>\n",
       "<table border=\"1\" class=\"dataframe\">\n",
       "  <thead>\n",
       "    <tr style=\"text-align: right;\">\n",
       "      <th></th>\n",
       "      <th>ttl_opp19</th>\n",
       "      <th>ttl_opp20</th>\n",
       "    </tr>\n",
       "  </thead>\n",
       "  <tbody>\n",
       "    <tr>\n",
       "      <th>count</th>\n",
       "      <td>102.000000</td>\n",
       "      <td>124.000000</td>\n",
       "    </tr>\n",
       "    <tr>\n",
       "      <th>mean</th>\n",
       "      <td>117.588235</td>\n",
       "      <td>99.500000</td>\n",
       "    </tr>\n",
       "    <tr>\n",
       "      <th>std</th>\n",
       "      <td>113.802796</td>\n",
       "      <td>94.957372</td>\n",
       "    </tr>\n",
       "    <tr>\n",
       "      <th>min</th>\n",
       "      <td>0.000000</td>\n",
       "      <td>0.000000</td>\n",
       "    </tr>\n",
       "    <tr>\n",
       "      <th>25%</th>\n",
       "      <td>19.500000</td>\n",
       "      <td>17.750000</td>\n",
       "    </tr>\n",
       "    <tr>\n",
       "      <th>50%</th>\n",
       "      <td>81.500000</td>\n",
       "      <td>76.500000</td>\n",
       "    </tr>\n",
       "    <tr>\n",
       "      <th>75%</th>\n",
       "      <td>191.250000</td>\n",
       "      <td>162.500000</td>\n",
       "    </tr>\n",
       "    <tr>\n",
       "      <th>max</th>\n",
       "      <td>431.000000</td>\n",
       "      <td>409.000000</td>\n",
       "    </tr>\n",
       "  </tbody>\n",
       "</table>\n",
       "</div>"
      ],
      "text/plain": [
       "        ttl_opp19   ttl_opp20\n",
       "count  102.000000  124.000000\n",
       "mean   117.588235   99.500000\n",
       "std    113.802796   94.957372\n",
       "min      0.000000    0.000000\n",
       "25%     19.500000   17.750000\n",
       "50%     81.500000   76.500000\n",
       "75%    191.250000  162.500000\n",
       "max    431.000000  409.000000"
      ]
     },
     "execution_count": 314,
     "metadata": {},
     "output_type": "execute_result"
    }
   ],
   "source": [
    "ff_rb_pts[['ttl_opp19','ttl_opp20']].describe()"
   ]
  },
  {
   "cell_type": "markdown",
   "id": "2b55f79b",
   "metadata": {},
   "source": [
    "Opportunities"
   ]
  },
  {
   "cell_type": "code",
   "execution_count": 317,
   "id": "36a93716",
   "metadata": {},
   "outputs": [
    {
     "data": {
      "text/plain": [
       "<AxesSubplot:xlabel='ttl_opp19', ylabel='Count'>"
      ]
     },
     "execution_count": 317,
     "metadata": {},
     "output_type": "execute_result"
    },
    {
     "data": {
      "image/png": "[encoded data removed]",
      "text/plain": [
       "<Figure size 432x288 with 1 Axes>"
      ]
     },
     "metadata": {
      "needs_background": "light"
     },
     "output_type": "display_data"
    }
   ],
   "source": [
    "sns.histplot(data = ff_rb_pts, x = 'ttl_opp19')"
   ]
  },
  {
   "cell_type": "code",
   "execution_count": 318,
   "id": "b5219122",
   "metadata": {},
   "outputs": [
    {
     "data": {
      "text/plain": [
       "<AxesSubplot:xlabel='ttl_opp20', ylabel='Count'>"
      ]
     },
     "execution_count": 318,
     "metadata": {},
     "output_type": "execute_result"
    },
    {
     "data": {
      "image/png": "[encoded data removed]",
      "text/plain": [
       "<Figure size 432x288 with 1 Axes>"
      ]
     },
     "metadata": {
      "needs_background": "light"
     },
     "output_type": "display_data"
    }
   ],
   "source": [
    "sns.histplot(data = ff_rb_pts, x = 'ttl_opp20')"
   ]
  },
  {
   "cell_type": "markdown",
   "id": "7d771c7c",
   "metadata": {},
   "source": [
    "Fantasy Points"
   ]
  },
  {
   "cell_type": "code",
   "execution_count": 319,
   "id": "8962636d",
   "metadata": {},
   "outputs": [
    {
     "data": {
      "text/plain": [
       "<AxesSubplot:xlabel='FantasyPoints_19hppr', ylabel='Count'>"
      ]
     },
     "execution_count": 319,
     "metadata": {},
     "output_type": "execute_result"
    },
    {
     "data": {
      "image/png": "[encoded data removed]",
      "text/plain": [
       "<Figure size 432x288 with 1 Axes>"
      ]
     },
     "metadata": {
      "needs_background": "light"
     },
     "output_type": "display_data"
    }
   ],
   "source": [
    "sns.histplot(data = ff_rb_pts, x = 'FantasyPoints_19hppr')"
   ]
  },
  {
   "cell_type": "code",
   "execution_count": 320,
   "id": "b868b49a",
   "metadata": {},
   "outputs": [
    {
     "data": {
      "text/plain": [
       "<AxesSubplot:xlabel='FantasyPoints_20hppr', ylabel='Count'>"
      ]
     },
     "execution_count": 320,
     "metadata": {},
     "output_type": "execute_result"
    },
    {
     "data": {
      "image/png": "[encoded data removed]",
      "text/plain": [
       "<Figure size 432x288 with 1 Axes>"
      ]
     },
     "metadata": {
      "needs_background": "light"
     },
     "output_type": "display_data"
    }
   ],
   "source": [
    "sns.histplot(data = ff_rb_pts, x = 'FantasyPoints_20hppr')"
   ]
  },
  {
   "cell_type": "code",
   "execution_count": 321,
   "id": "d8e745e4",
   "metadata": {},
   "outputs": [
    {
     "data": {
      "text/plain": [
       "<AxesSubplot:xlabel='fp_per_gm20hppr', ylabel='Count'>"
      ]
     },
     "execution_count": 321,
     "metadata": {},
     "output_type": "execute_result"
    },
    {
     "data": {
      "image/png": "[encoded data removed]",
      "text/plain": [
       "<Figure size 432x288 with 1 Axes>"
      ]
     },
     "metadata": {
      "needs_background": "light"
     },
     "output_type": "display_data"
    }
   ],
   "source": [
    "sns.histplot(data = ff_rb_pts, x = 'fp_per_gm20hppr')"
   ]
  },
  {
   "cell_type": "code",
   "execution_count": 344,
   "id": "4def7e05",
   "metadata": {},
   "outputs": [
    {
     "data": {
      "text/plain": [
       "<AxesSubplot:xlabel='GS_20', ylabel='Count'>"
      ]
     },
     "execution_count": 344,
     "metadata": {},
     "output_type": "execute_result"
    },
    {
     "data": {
      "image/png": "[encoded data removed]",
      "text/plain": [
       "<Figure size 432x288 with 1 Axes>"
      ]
     },
     "metadata": {
      "needs_background": "light"
     },
     "output_type": "display_data"
    }
   ],
   "source": [
    "sns.histplot(data = ff_rb_pts, x = 'GS_20')"
   ]
  },
  {
   "cell_type": "code",
   "execution_count": 322,
   "id": "7dc11965",
   "metadata": {
    "scrolled": true
   },
   "outputs": [
    {
     "data": {
      "text/plain": [
       "<AxesSubplot:xlabel='years_exp_21', ylabel='Count'>"
      ]
     },
     "execution_count": 322,
     "metadata": {},
     "output_type": "execute_result"
    },
    {
     "data": {
      "image/png": "[encoded data removed]",
      "text/plain": [
       "<Figure size 432x288 with 1 Axes>"
      ]
     },
     "metadata": {
      "needs_background": "light"
     },
     "output_type": "display_data"
    }
   ],
   "source": [
    "sns.histplot(data = ff_rb_pts, x = 'years_exp_21')"
   ]
  },
  {
   "cell_type": "markdown",
   "id": "c0f4f193",
   "metadata": {},
   "source": [
    "Overall, mostly an exponential distribution for all of these variables. Before considering outliers, let alone modeling, we'll need to transform each."
   ]
  },
  {
   "cell_type": "markdown",
   "id": "5ad68d21",
   "metadata": {},
   "source": [
    "QBs"
   ]
  },
  {
   "cell_type": "code",
   "execution_count": 323,
   "id": "ee232b80",
   "metadata": {},
   "outputs": [
    {
     "data": {
      "text/plain": [
       "<AxesSubplot:xlabel='ttl_opp20', ylabel='Count'>"
      ]
     },
     "execution_count": 323,
     "metadata": {},
     "output_type": "execute_result"
    },
    {
     "data": {
      "image/png": "[encoded data removed]",
      "text/plain": [
       "<Figure size 432x288 with 1 Axes>"
      ]
     },
     "metadata": {
      "needs_background": "light"
     },
     "output_type": "display_data"
    }
   ],
   "source": [
    "sns.histplot(data = ff_qb_pts, x = 'ttl_opp20')"
   ]
  },
  {
   "cell_type": "code",
   "execution_count": 324,
   "id": "1f5c8fb6",
   "metadata": {},
   "outputs": [
    {
     "data": {
      "text/plain": [
       "<AxesSubplot:xlabel='FantasyPoints_20hppr', ylabel='Count'>"
      ]
     },
     "execution_count": 324,
     "metadata": {},
     "output_type": "execute_result"
    },
    {
     "data": {
      "image/png": "[encoded data removed]",
      "text/plain": [
       "<Figure size 432x288 with 1 Axes>"
      ]
     },
     "metadata": {
      "needs_background": "light"
     },
     "output_type": "display_data"
    }
   ],
   "source": [
    "sns.histplot(data = ff_qb_pts, x = 'FantasyPoints_20hppr')"
   ]
  },
  {
   "cell_type": "code",
   "execution_count": 327,
   "id": "a564dd87",
   "metadata": {},
   "outputs": [
    {
     "data": {
      "text/plain": [
       "<AxesSubplot:xlabel='FantasyPoints_19hppr', ylabel='Count'>"
      ]
     },
     "execution_count": 327,
     "metadata": {},
     "output_type": "execute_result"
    },
    {
     "data": {
      "image/png": "[encoded data removed]",
      "text/plain": [
       "<Figure size 432x288 with 1 Axes>"
      ]
     },
     "metadata": {
      "needs_background": "light"
     },
     "output_type": "display_data"
    }
   ],
   "source": [
    "sns.histplot(data = ff_qb_pts, x = 'FantasyPoints_19hppr')"
   ]
  },
  {
   "cell_type": "code",
   "execution_count": 343,
   "id": "90500b8c",
   "metadata": {},
   "outputs": [
    {
     "data": {
      "text/plain": [
       "<AxesSubplot:xlabel='GS_20', ylabel='Count'>"
      ]
     },
     "execution_count": 343,
     "metadata": {},
     "output_type": "execute_result"
    },
    {
     "data": {
      "image/png": "[encoded data removed]",
      "text/plain": [
       "<Figure size 432x288 with 1 Axes>"
      ]
     },
     "metadata": {
      "needs_background": "light"
     },
     "output_type": "display_data"
    }
   ],
   "source": [
    "sns.histplot(data = ff_qb_pts, x = 'GS_20')"
   ]
  },
  {
   "cell_type": "code",
   "execution_count": 326,
   "id": "233e82e2",
   "metadata": {},
   "outputs": [
    {
     "data": {
      "text/plain": [
       "<AxesSubplot:xlabel='years_exp_21', ylabel='Count'>"
      ]
     },
     "execution_count": 326,
     "metadata": {},
     "output_type": "execute_result"
    },
    {
     "data": {
      "image/png": "[encoded data removed]",
      "text/plain": [
       "<Figure size 432x288 with 1 Axes>"
      ]
     },
     "metadata": {
      "needs_background": "light"
     },
     "output_type": "display_data"
    }
   ],
   "source": [
    "sns.histplot(data = ff_qb_pts, x = 'years_exp_21')"
   ]
  },
  {
   "cell_type": "markdown",
   "id": "c825a9f5",
   "metadata": {},
   "source": [
    "Similar exponential distribution for years experience of qbs, but fantasy pts and opportunities are slightly different; seem to go down and then up again"
   ]
  },
  {
   "cell_type": "markdown",
   "id": "5e84b816",
   "metadata": {},
   "source": [
    "#### WRs"
   ]
  },
  {
   "cell_type": "code",
   "execution_count": 328,
   "id": "bf8fb311",
   "metadata": {},
   "outputs": [
    {
     "data": {
      "text/plain": [
       "<AxesSubplot:xlabel='ttl_opp20', ylabel='Count'>"
      ]
     },
     "execution_count": 328,
     "metadata": {},
     "output_type": "execute_result"
    },
    {
     "data": {
      "image/png": "[encoded data removed]",
      "text/plain": [
       "<Figure size 432x288 with 1 Axes>"
      ]
     },
     "metadata": {
      "needs_background": "light"
     },
     "output_type": "display_data"
    }
   ],
   "source": [
    "sns.histplot(data = ff_wr_pts, x = 'ttl_opp20')"
   ]
  },
  {
   "cell_type": "code",
   "execution_count": 345,
   "id": "a9253498",
   "metadata": {},
   "outputs": [
    {
     "data": {
      "text/plain": [
       "<AxesSubplot:xlabel='fp_per_opp20', ylabel='Count'>"
      ]
     },
     "execution_count": 345,
     "metadata": {},
     "output_type": "execute_result"
    },
    {
     "data": {
      "image/png": "[encoded data removed]",
      "text/plain": [
       "<Figure size 432x288 with 1 Axes>"
      ]
     },
     "metadata": {
      "needs_background": "light"
     },
     "output_type": "display_data"
    }
   ],
   "source": [
    "sns.histplot(data = ff_wr_pts, x = 'fp_per_opp20')"
   ]
  },
  {
   "cell_type": "code",
   "execution_count": 329,
   "id": "7a152f9c",
   "metadata": {},
   "outputs": [
    {
     "data": {
      "text/plain": [
       "<AxesSubplot:xlabel='FantasyPoints_19hppr', ylabel='Count'>"
      ]
     },
     "execution_count": 329,
     "metadata": {},
     "output_type": "execute_result"
    },
    {
     "data": {
      "image/png": "[encoded data removed]",
      "text/plain": [
       "<Figure size 432x288 with 1 Axes>"
      ]
     },
     "metadata": {
      "needs_background": "light"
     },
     "output_type": "display_data"
    }
   ],
   "source": [
    "sns.histplot(data = ff_wr_pts, x = 'FantasyPoints_19hppr')"
   ]
  },
  {
   "cell_type": "code",
   "execution_count": 330,
   "id": "d84f81b5",
   "metadata": {},
   "outputs": [
    {
     "data": {
      "text/plain": [
       "<AxesSubplot:xlabel='FantasyPoints_20hppr', ylabel='Count'>"
      ]
     },
     "execution_count": 330,
     "metadata": {},
     "output_type": "execute_result"
    },
    {
     "data": {
      "image/png": "[encoded data removed]",
      "text/plain": [
       "<Figure size 432x288 with 1 Axes>"
      ]
     },
     "metadata": {
      "needs_background": "light"
     },
     "output_type": "display_data"
    }
   ],
   "source": [
    "sns.histplot(data = ff_wr_pts, x = 'FantasyPoints_20hppr')"
   ]
  },
  {
   "cell_type": "code",
   "execution_count": 355,
   "id": "ed3ae1be",
   "metadata": {},
   "outputs": [
    {
     "data": {
      "text/plain": [
       "<AxesSubplot:xlabel='fp_per_gm20hppr', ylabel='Count'>"
      ]
     },
     "execution_count": 355,
     "metadata": {},
     "output_type": "execute_result"
    },
    {
     "data": {
      "image/png": "[encoded data removed]",
      "text/plain": [
       "<Figure size 432x288 with 1 Axes>"
      ]
     },
     "metadata": {
      "needs_background": "light"
     },
     "output_type": "display_data"
    }
   ],
   "source": [
    "sns.histplot(data = ff_wr_pts, x = 'fp_per_gm20hppr')"
   ]
  },
  {
   "cell_type": "code",
   "execution_count": 342,
   "id": "e941873c",
   "metadata": {},
   "outputs": [
    {
     "data": {
      "text/plain": [
       "<AxesSubplot:xlabel='GS_20', ylabel='Count'>"
      ]
     },
     "execution_count": 342,
     "metadata": {},
     "output_type": "execute_result"
    },
    {
     "data": {
      "image/png": "[encoded data removed]",
      "text/plain": [
       "<Figure size 432x288 with 1 Axes>"
      ]
     },
     "metadata": {
      "needs_background": "light"
     },
     "output_type": "display_data"
    }
   ],
   "source": [
    "sns.histplot(data = ff_wr_pts, x = 'GS_20')"
   ]
  },
  {
   "cell_type": "code",
   "execution_count": 331,
   "id": "b0e0c2da",
   "metadata": {},
   "outputs": [
    {
     "data": {
      "text/plain": [
       "<AxesSubplot:xlabel='years_exp_21', ylabel='Count'>"
      ]
     },
     "execution_count": 331,
     "metadata": {},
     "output_type": "execute_result"
    },
    {
     "data": {
      "image/png": "[encoded data removed]",
      "text/plain": [
       "<Figure size 432x288 with 1 Axes>"
      ]
     },
     "metadata": {
      "needs_background": "light"
     },
     "output_type": "display_data"
    }
   ],
   "source": [
    "sns.histplot(data = ff_wr_pts, x = 'years_exp_21')"
   ]
  },
  {
   "cell_type": "markdown",
   "id": "a2bb35ee",
   "metadata": {},
   "source": [
    "Similar pattern for WRs and rbs."
   ]
  },
  {
   "cell_type": "markdown",
   "id": "52ca265c",
   "metadata": {},
   "source": [
    "#### TEs"
   ]
  },
  {
   "cell_type": "code",
   "execution_count": 332,
   "id": "b49c926c",
   "metadata": {},
   "outputs": [
    {
     "data": {
      "text/plain": [
       "<AxesSubplot:xlabel='ttl_opp20', ylabel='Count'>"
      ]
     },
     "execution_count": 332,
     "metadata": {},
     "output_type": "execute_result"
    },
    {
     "data": {
      "image/png": "[encoded data removed]",
      "text/plain": [
       "<Figure size 432x288 with 1 Axes>"
      ]
     },
     "metadata": {
      "needs_background": "light"
     },
     "output_type": "display_data"
    }
   ],
   "source": [
    "sns.histplot(data = ff_te_pts, x = 'ttl_opp20')"
   ]
  },
  {
   "cell_type": "code",
   "execution_count": 335,
   "id": "97a8d774",
   "metadata": {},
   "outputs": [
    {
     "data": {
      "text/plain": [
       "<AxesSubplot:xlabel='FantasyPoints_19hppr', ylabel='Count'>"
      ]
     },
     "execution_count": 335,
     "metadata": {},
     "output_type": "execute_result"
    },
    {
     "data": {
      "image/png": "[encoded data removed]",
      "text/plain": [
       "<Figure size 432x288 with 1 Axes>"
      ]
     },
     "metadata": {
      "needs_background": "light"
     },
     "output_type": "display_data"
    }
   ],
   "source": [
    "sns.histplot(data = ff_te_pts, x = 'FantasyPoints_19hppr')"
   ]
  },
  {
   "cell_type": "code",
   "execution_count": 336,
   "id": "673ae6a7",
   "metadata": {},
   "outputs": [
    {
     "data": {
      "text/plain": [
       "<AxesSubplot:xlabel='FantasyPoints_20hppr', ylabel='Count'>"
      ]
     },
     "execution_count": 336,
     "metadata": {},
     "output_type": "execute_result"
    },
    {
     "data": {
      "image/png": "[encoded data removed]",
      "text/plain": [
       "<Figure size 432x288 with 1 Axes>"
      ]
     },
     "metadata": {
      "needs_background": "light"
     },
     "output_type": "display_data"
    }
   ],
   "source": [
    "sns.histplot(data = ff_te_pts, x = 'FantasyPoints_20hppr')"
   ]
  },
  {
   "cell_type": "markdown",
   "id": "c941015b",
   "metadata": {},
   "source": [
    "BIG change in TE point scored distribution. only 3 with ~>150. "
   ]
  },
  {
   "cell_type": "code",
   "execution_count": 338,
   "id": "03b5e0cd",
   "metadata": {},
   "outputs": [
    {
     "data": {
      "text/plain": [
       "<AxesSubplot:xlabel='years_exp_21', ylabel='Count'>"
      ]
     },
     "execution_count": 338,
     "metadata": {},
     "output_type": "execute_result"
    },
    {
     "data": {
      "image/png": "[encoded data removed]",
      "text/plain": [
       "<Figure size 432x288 with 1 Axes>"
      ]
     },
     "metadata": {
      "needs_background": "light"
     },
     "output_type": "display_data"
    }
   ],
   "source": [
    "sns.histplot(data = ff_wr_pts, x = 'years_exp_21')"
   ]
  },
  {
   "cell_type": "code",
   "execution_count": 353,
   "id": "ce41861b",
   "metadata": {},
   "outputs": [
    {
     "data": {
      "text/plain": [
       "<AxesSubplot:xlabel='FantasyPoints_20hppr', ylabel='Count'>"
      ]
     },
     "execution_count": 353,
     "metadata": {},
     "output_type": "execute_result"
    },
    {
     "data": {
      "image/png": "[encoded data removed]",
      "text/plain": [
       "<Figure size 432x288 with 1 Axes>"
      ]
     },
     "metadata": {
      "needs_background": "light"
     },
     "output_type": "display_data"
    }
   ],
   "source": [
    "sns.histplot(data = rb_trans, x = 'FantasyPoints_20hppr')"
   ]
  },
  {
   "cell_type": "markdown",
   "id": "32320972",
   "metadata": {},
   "source": [
    "## Saving Current DFs to my CPU"
   ]
  },
  {
   "cell_type": "code",
   "execution_count": 304,
   "id": "2682441a",
   "metadata": {},
   "outputs": [],
   "source": [
    "ff_qb_pts.to_csv(\"C:/Users/steph/OneDrive/Documents/Data Projects/Fantasy/qb_19_21_fantasy.csv\")\n",
    "ff_rb_pts.to_csv(\"C:/Users/steph/OneDrive/Documents/Data Projects/Fantasy/rb_19_21_fantasy.csv\")\n",
    "ff_wr_pts.to_csv(\"C:/Users/steph/OneDrive/Documents/Data Projects/Fantasy/wr_19_21_fantasy.csv\")\n",
    "ff_te_pts.to_csv(\"C:/Users/steph/OneDrive/Documents/Data Projects/Fantasy/te_19_21_fantasy.csv\")"
   ]
  },
  {
   "cell_type": "markdown",
   "id": "39887049",
   "metadata": {},
   "source": [
    "### Idea for next notebook/dataframe to combine with this\n",
    "Can we add more to these data frames, in terms of -- year in the league in '21, rookie contract or not, previous year team passing ranks, rushing ranks, qb play, OL play, etc?\n",
    "\n",
    "\n",
    "### Modeling:\n",
    "\n",
    "New notebook for that using above dataframes; may combine DFs within this notebook or new notebook"
   ]
  },
  {
   "cell_type": "markdown",
   "id": "dba431b7",
   "metadata": {},
   "source": [
    "## Pre-Processing before modeling"
   ]
  },
  {
   "cell_type": "code",
   "execution_count": null,
   "id": "9a0cd05b",
   "metadata": {},
   "outputs": [],
   "source": []
  },
  {
   "cell_type": "markdown",
   "id": "d7c045dc",
   "metadata": {},
   "source": [
    "## Initial Modeling"
   ]
  },
  {
   "cell_type": "code",
   "execution_count": null,
   "id": "e70bc9a1",
   "metadata": {},
   "outputs": [],
   "source": []
  },
  {
   "cell_type": "code",
   "execution_count": null,
   "id": "0a71bbbb",
   "metadata": {},
   "outputs": [],
   "source": []
  },
  {
   "cell_type": "code",
   "execution_count": null,
   "id": "d79f4656",
   "metadata": {},
   "outputs": [],
   "source": []
  },
  {
   "cell_type": "code",
   "execution_count": null,
   "id": "26a90ca8",
   "metadata": {},
   "outputs": [],
   "source": []
  },
  {
   "cell_type": "code",
   "execution_count": null,
   "id": "cbf6a5ee",
   "metadata": {},
   "outputs": [],
   "source": []
  },
  {
   "cell_type": "markdown",
   "id": "b3cbcbde",
   "metadata": {},
   "source": [
    "# need a dataset of predictor variables for final \n",
    "\n",
    "from bs4 import BeautifulSoup\n",
    "from urllib import request\n"
   ]
  },
  {
   "cell_type": "markdown",
   "id": "82772b70",
   "metadata": {},
   "source": [
    "# 2022 data or testing data\n",
    "\n",
    "r = request.get(\"https://www.pro-football-reference.com/years/2022/fantasy.htm\").read()\n",
    "soup = BeautifulSoup(website, 'lxml')\n",
    "\n",
    "table = soup.find('table', attrs={'id': 'fantasy','class': 'per_match_toggle'})\n",
    "\n",
    "table_headers = [header.text for header in table.find('thead').find_all('th')]\n",
    "table_rows = table.find_all('tr')\n",
    "\n",
    "player_data = [[td.getText() for tr in table_rows[i].findAll(['td','th'])] for i in table_rows]\n",
    "\n",
    "print(table_headers)\n",
    "df = pd.DataFrame(player_data,table_headers)\n",
    "\n",
    "df.head()"
   ]
  },
  {
   "cell_type": "code",
   "execution_count": null,
   "id": "3037dafa",
   "metadata": {},
   "outputs": [],
   "source": []
  }
 ],
 "metadata": {
  "kernelspec": {
   "display_name": "Python 3 (ipykernel)",
   "language": "python",
   "name": "python3"
  },
  "language_info": {
   "codemirror_mode": {
    "name": "ipython",
    "version": 3
   },
   "file_extension": ".py",
   "mimetype": "text/x-python",
   "name": "python",
   "nbconvert_exporter": "python",
   "pygments_lexer": "ipython3",
   "version": "3.9.1"
  }
 },
 "nbformat": 4,
 "nbformat_minor": 5
}
